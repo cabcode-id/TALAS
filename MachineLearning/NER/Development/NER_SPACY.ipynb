{
  "nbformat": 4,
  "nbformat_minor": 0,
  "metadata": {
    "colab": {
      "provenance": [],
      "gpuType": "T4"
    },
    "kernelspec": {
      "name": "python3",
      "display_name": "Python 3"
    },
    "language_info": {
      "name": "python"
    },
    "accelerator": "GPU"
  },
  "cells": [
    {
      "cell_type": "code",
      "execution_count": 1,
      "metadata": {
        "id": "4UJf5z1uLorq"
      },
      "outputs": [],
      "source": [
        "import spacy\n",
        "from spacy.pipeline import EntityRuler\n",
        "import pickle\n",
        "from spacy.util import minibatch, compounding\n",
        "from spacy.training import Example\n",
        "from pathlib import Path\n",
        "import random"
      ]
    },
    {
      "cell_type": "code",
      "source": [
        "def load_patterns_from_file(file_path, label):\n",
        "    patterns = []\n",
        "    try:\n",
        "        with open(file_path, 'r', encoding='utf-8') as file:\n",
        "            for line in file:\n",
        "                word = line.strip()  # Menghapus spasi ekstra dan newline (\\n)\n",
        "                if word:  # Pastikan baris tidak kosong\n",
        "                    patterns.append({\"label\": label, \"pattern\": word})\n",
        "    except FileNotFoundError:\n",
        "        print(f\"File {file_path} not found.\")\n",
        "    return patterns"
      ],
      "metadata": {
        "id": "GeE63nEVhyrF"
      },
      "execution_count": 2,
      "outputs": []
    },
    {
      "cell_type": "code",
      "source": [
        "# Memuat data pelatihan\n",
        "with open('dataset.pickle', 'rb') as file:\n",
        "    training_data = pickle.load(file)"
      ],
      "metadata": {
        "id": "EMjHpdXViHTD"
      },
      "execution_count": 3,
      "outputs": []
    },
    {
      "cell_type": "code",
      "source": [
        "# Membuat model kosong untuk bahasa Indonesia\n",
        "nlp_model = spacy.blank(\"id\")\n"
      ],
      "metadata": {
        "id": "oVZelVkgiJee"
      },
      "execution_count": 4,
      "outputs": []
    },
    {
      "cell_type": "code",
      "source": [
        "# Menambahkan NER pipe\n",
        "ner = nlp_model.add_pipe('ner')"
      ],
      "metadata": {
        "id": "1j68YV2RiJ9F"
      },
      "execution_count": 5,
      "outputs": []
    },
    {
      "cell_type": "code",
      "source": [
        "# Menambahkan label entitas ke model\n",
        "for _, ann in training_data:\n",
        "    for entity in ann.get(\"entities\"):\n",
        "        ner.add_label(entity[2])"
      ],
      "metadata": {
        "id": "jlyRKmaxiMUk"
      },
      "execution_count": 6,
      "outputs": []
    },
    {
      "cell_type": "code",
      "source": [
        "# Menambahkan rules dari file\n",
        "person_patterns = load_patterns_from_file(\"person.txt\", \"PERSON\")\n",
        "organization_patterns = load_patterns_from_file(\"organization.txt\", \"ORGANIZATION\")\n",
        "location_patterns = load_patterns_from_file(\"location.txt\", \"LOCATION\")"
      ],
      "metadata": {
        "id": "7CHkXuUbiQtq"
      },
      "execution_count": 7,
      "outputs": []
    },
    {
      "cell_type": "code",
      "source": [
        "# Menambahkan EntityRuler ke pipeline\n",
        "ruler = EntityRuler(nlp_model, overwrite_ents=True)"
      ],
      "metadata": {
        "id": "JT3Ybgx6iYiG"
      },
      "execution_count": 8,
      "outputs": []
    },
    {
      "cell_type": "code",
      "source": [
        "# Menambahkan pola ke EntityRuler\n",
        "ruler.add_patterns(person_patterns)\n",
        "ruler.add_patterns(organization_patterns)\n",
        "ruler.add_patterns(location_patterns)"
      ],
      "metadata": {
        "id": "PHiTZWV1it1a"
      },
      "execution_count": 9,
      "outputs": []
    },
    {
      "cell_type": "code",
      "source": [
        "# Menambahkan EntityRuler ke pipeline sebelum \"ner\"\n",
        "nlp_model.add_pipe('entity_ruler', name=\"entity_ruler\", before=\"ner\")"
      ],
      "metadata": {
        "colab": {
          "base_uri": "https://localhost:8080/"
        },
        "id": "eJuWmb7fivgP",
        "outputId": "edc20113-1273-466f-fae5-ddde87c8d2a1"
      },
      "execution_count": 10,
      "outputs": [
        {
          "output_type": "execute_result",
          "data": {
            "text/plain": [
              "<spacy.pipeline.entityruler.EntityRuler at 0x7a18857eb680>"
            ]
          },
          "metadata": {},
          "execution_count": 10
        }
      ]
    },
    {
      "cell_type": "code",
      "source": [
        "# Training konfigurasi\n",
        "pipe_exceptions = [\"ner\", \"trf_wordpiecer\", \"trf_tok2vec\"]\n",
        "unaffected_pipes = [pipe for pipe in nlp_model.pipe_names if pipe not in pipe_exceptions]"
      ],
      "metadata": {
        "id": "UnGqcxxHiz1H"
      },
      "execution_count": 11,
      "outputs": []
    },
    {
      "cell_type": "code",
      "source": [
        "nlp_model.begin_training()"
      ],
      "metadata": {
        "colab": {
          "base_uri": "https://localhost:8080/"
        },
        "id": "yjdZkc-6jDCs",
        "outputId": "32c5be92-b127-4239-e382-2a1ff3e3ad03"
      },
      "execution_count": 12,
      "outputs": [
        {
          "output_type": "execute_result",
          "data": {
            "text/plain": [
              "<thinc.optimizers.Optimizer at 0x7a18955fefc0>"
            ]
          },
          "metadata": {},
          "execution_count": 12
        }
      ]
    },
    {
      "cell_type": "code",
      "source": [
        "# TRAINING THE MODEL\n",
        "with nlp_model.disable_pipes(*unaffected_pipes):\n",
        "    for iteration in range(30):\n",
        "        random.shuffle(training_data)\n",
        "        losses = {}\n",
        "        batches = minibatch(training_data, size=compounding(4.0, 32.0, 1.001))\n",
        "        for batch in batches:\n",
        "            examples = []\n",
        "            for text, annotations in batch:\n",
        "                doc = nlp_model.make_doc(text)\n",
        "                example = Example.from_dict(doc, annotations)\n",
        "                examples.append(example)\n",
        "            nlp_model.update(\n",
        "                examples,\n",
        "                drop=0.5,\n",
        "                losses=losses,\n",
        "            )\n",
        "        print(f\"Losses at iteration {iteration}: {losses}\")"
      ],
      "metadata": {
        "colab": {
          "base_uri": "https://localhost:8080/"
        },
        "id": "e40fc7oTjExG",
        "outputId": "e2d7d518-d93d-4e95-80e2-23ca8345a8b4"
      },
      "execution_count": 13,
      "outputs": [
        {
          "output_type": "stream",
          "name": "stderr",
          "text": [
            "/usr/local/lib/python3.10/dist-packages/spacy/training/iob_utils.py:149: UserWarning: [W030] Some entities could not be aligned in the text \"JAKARTA - Mahkamah Konstitusi (MK) bakal menggelar...\" with entities \"[[11, 30, 'ORGANIZATION'], [125, 142, 'TIME']]\". Use `spacy.training.offsets_to_biluo_tags(nlp.make_doc(text), entities)` to check the alignment. Misaligned entities ('-') will be ignored during training.\n",
            "  warnings.warn(\n",
            "/usr/local/lib/python3.10/dist-packages/spacy/training/iob_utils.py:149: UserWarning: [W030] Some entities could not be aligned in the text \"Wakil Bupati Jember Abdul Muqit Arief mengatakan, ...\" with entities \"[[0, 20, 'JOBTITLE'], [21, 38, 'PERSON'], [72, 88,...\". Use `spacy.training.offsets_to_biluo_tags(nlp.make_doc(text), entities)` to check the alignment. Misaligned entities ('-') will be ignored during training.\n",
            "  warnings.warn(\n",
            "/usr/local/lib/python3.10/dist-packages/spacy/training/iob_utils.py:149: UserWarning: [W030] Some entities could not be aligned in the text \"\" PPP tidak melihat bahwa soal angkatan Pak LSP ya...\" with entities \"[[1, 4, 'ORGANIZATION'], [132, 160, 'ORGANIZATION'...\". Use `spacy.training.offsets_to_biluo_tags(nlp.make_doc(text), entities)` to check the alignment. Misaligned entities ('-') will be ignored during training.\n",
            "  warnings.warn(\n",
            "/usr/local/lib/python3.10/dist-packages/spacy/training/iob_utils.py:149: UserWarning: [W030] Some entities could not be aligned in the text \"Kebakaran terjadi di kawasan permukiman padat pend...\" with entities \"[[0, 9, 'ACCIDENT'], [58, 114, 'LOCATION'], [116, ...\". Use `spacy.training.offsets_to_biluo_tags(nlp.make_doc(text), entities)` to check the alignment. Misaligned entities ('-') will be ignored during training.\n",
            "  warnings.warn(\n",
            "/usr/local/lib/python3.10/dist-packages/spacy/training/iob_utils.py:149: UserWarning: [W030] Some entities could not be aligned in the text \"\" Breaking News, Pesawat Lion Air JT684 divert dik...\" with entities \"[[24, 32, 'CORPORATION'], [33, 38, 'X_IDENTIFIER']...\". Use `spacy.training.offsets_to_biluo_tags(nlp.make_doc(text), entities)` to check the alignment. Misaligned entities ('-') will be ignored during training.\n",
            "  warnings.warn(\n",
            "/usr/local/lib/python3.10/dist-packages/spacy/training/iob_utils.py:149: UserWarning: [W030] Some entities could not be aligned in the text \"\" John Kei menyetujui dan memberikan uang tersebut...\" with entities \"[[1, 9, 'PERSON'], [63, 71, 'PERSON'], [119, 126, ...\". Use `spacy.training.offsets_to_biluo_tags(nlp.make_doc(text), entities)` to check the alignment. Misaligned entities ('-') will be ignored during training.\n",
            "  warnings.warn(\n",
            "/usr/local/lib/python3.10/dist-packages/spacy/training/iob_utils.py:149: UserWarning: [W030] Some entities could not be aligned in the text \"\" Demi Allah, saya tidak pernah niat blusukan atau...\" with entities \"[[113, 118, 'PERSON']]\". Use `spacy.training.offsets_to_biluo_tags(nlp.make_doc(text), entities)` to check the alignment. Misaligned entities ('-') will be ignored during training.\n",
            "  warnings.warn(\n",
            "/usr/local/lib/python3.10/dist-packages/spacy/training/iob_utils.py:149: UserWarning: [W030] Some entities could not be aligned in the text \"JAKARTA - Cuaca buruk benar-benar menghantui dunia...\" with entities \"[[86, 99, 'CORPORATION'], [100, 106, 'X_IDENTIFIER...\". Use `spacy.training.offsets_to_biluo_tags(nlp.make_doc(text), entities)` to check the alignment. Misaligned entities ('-') will be ignored during training.\n",
            "  warnings.warn(\n",
            "/usr/local/lib/python3.10/dist-packages/spacy/training/iob_utils.py:149: UserWarning: [W030] Some entities could not be aligned in the text \"JAKARTA - Wakil Ketua Fraksi Partai Keadilan Sejah...\" with entities \"[[10, 56, 'JOBTITLE'], [68, 76, 'PERSON'], [182, 1...\". Use `spacy.training.offsets_to_biluo_tags(nlp.make_doc(text), entities)` to check the alignment. Misaligned entities ('-') will be ignored during training.\n",
            "  warnings.warn(\n",
            "/usr/local/lib/python3.10/dist-packages/spacy/training/iob_utils.py:149: UserWarning: [W030] Some entities could not be aligned in the text \"Dalam trailer bertajuk \" Balas Dendam Segera Dimul...\" with entities \"[[24, 52, 'X_IDENTIFIER'], [58, 71, 'PERSON'], [73...\". Use `spacy.training.offsets_to_biluo_tags(nlp.make_doc(text), entities)` to check the alignment. Misaligned entities ('-') will be ignored during training.\n",
            "  warnings.warn(\n",
            "/usr/local/lib/python3.10/dist-packages/spacy/training/iob_utils.py:149: UserWarning: [W030] Some entities could not be aligned in the text \"\" KNKT telah menerima crash survivable memory unit...\" with entities \"[[1, 11, 'ORGANIZATION'], [206, 214, 'PERSON'], [2...\". Use `spacy.training.offsets_to_biluo_tags(nlp.make_doc(text), entities)` to check the alignment. Misaligned entities ('-') will be ignored during training.\n",
            "  warnings.warn(\n",
            "/usr/local/lib/python3.10/dist-packages/spacy/training/iob_utils.py:149: UserWarning: [W030] Some entities could not be aligned in the text \"\" Presiden @ jokowi setelah divaksin tetap bekerja...\" with entities \"[[1, 9, 'JOBTITLE'], [10, 17, 'SOCIALMEDIA_ACCOUNT...\". Use `spacy.training.offsets_to_biluo_tags(nlp.make_doc(text), entities)` to check the alignment. Misaligned entities ('-') will be ignored during training.\n",
            "  warnings.warn(\n",
            "/usr/local/lib/python3.10/dist-packages/spacy/training/iob_utils.py:149: UserWarning: [W030] Some entities could not be aligned in the text \"Pemeriksaan itu berdasarkan surat dari Inspektorat...\" with entities \"[[40, 57, 'ORGANIZATION'], [63, 68, 'PERSON'], [82...\". Use `spacy.training.offsets_to_biluo_tags(nlp.make_doc(text), entities)` to check the alignment. Misaligned entities ('-') will be ignored during training.\n",
            "  warnings.warn(\n",
            "/usr/local/lib/python3.10/dist-packages/spacy/training/iob_utils.py:149: UserWarning: [W030] Some entities could not be aligned in the text \"\" Makassar tentu tidak ingin tertinggal dalam hal ...\" with entities \"[[1, 9, 'LOCATION'], [234, 238, 'PERSON'], [262, 2...\". Use `spacy.training.offsets_to_biluo_tags(nlp.make_doc(text), entities)` to check the alignment. Misaligned entities ('-') will be ignored during training.\n",
            "  warnings.warn(\n",
            "/usr/local/lib/python3.10/dist-packages/spacy/training/iob_utils.py:149: UserWarning: [W030] Some entities could not be aligned in the text \"\" Terdakwa sebagai pemilik atau key person atau pe...\" with entities \"[[58, 73, 'CORPORATION'], [78, 92, 'CORPORATION'],...\". Use `spacy.training.offsets_to_biluo_tags(nlp.make_doc(text), entities)` to check the alignment. Misaligned entities ('-') will be ignored during training.\n",
            "  warnings.warn(\n",
            "/usr/local/lib/python3.10/dist-packages/spacy/training/iob_utils.py:149: UserWarning: [W030] Some entities could not be aligned in the text \"Tim gabungan Kemendagri, KASN dan Pemprov Jawa Tim...\" with entities \"[[14, 24, 'ORGANIZATION'], [27, 31, 'ORGANIZATION'...\". Use `spacy.training.offsets_to_biluo_tags(nlp.make_doc(text), entities)` to check the alignment. Misaligned entities ('-') will be ignored during training.\n",
            "  warnings.warn(\n",
            "/usr/local/lib/python3.10/dist-packages/spacy/training/iob_utils.py:149: UserWarning: [W030] Some entities could not be aligned in the text \"\" Presiden Jokowi menyampaikan calon tunggal Bapak...\" with entities \"[[1, 9, 'JOBTITLE'], [10, 16, 'PERSON'], [62, 82, ...\". Use `spacy.training.offsets_to_biluo_tags(nlp.make_doc(text), entities)` to check the alignment. Misaligned entities ('-') will be ignored during training.\n",
            "  warnings.warn(\n",
            "/usr/local/lib/python3.10/dist-packages/spacy/training/iob_utils.py:149: UserWarning: [W030] Some entities could not be aligned in the text \"\" Kalau saya dan bu @ smindrawati sudah siap divak...\" with entities \"[[19, 37, 'SOCIALMEDIA_ACCOUNT'], [74, 79, 'PERSON...\". Use `spacy.training.offsets_to_biluo_tags(nlp.make_doc(text), entities)` to check the alignment. Misaligned entities ('-') will be ignored during training.\n",
            "  warnings.warn(\n",
            "/usr/local/lib/python3.10/dist-packages/spacy/training/iob_utils.py:149: UserWarning: [W030] Some entities could not be aligned in the text \"Proses vaksinasi perdana dilakukan di Istana Merde...\" with entities \"[[38, 52, 'FACILITY'], [54, 61, 'LOCATION'], [62, ...\". Use `spacy.training.offsets_to_biluo_tags(nlp.make_doc(text), entities)` to check the alignment. Misaligned entities ('-') will be ignored during training.\n",
            "  warnings.warn(\n",
            "/usr/local/lib/python3.10/dist-packages/spacy/training/iob_utils.py:149: UserWarning: [W030] Some entities could not be aligned in the text \"Komisi Hukum atau Komisi III Dewan Perwakilan Raky...\" with entities \"[[0, 12, 'ORGANIZATION'], [18, 52, 'ORGANIZATION']...\". Use `spacy.training.offsets_to_biluo_tags(nlp.make_doc(text), entities)` to check the alignment. Misaligned entities ('-') will be ignored during training.\n",
            "  warnings.warn(\n",
            "/usr/local/lib/python3.10/dist-packages/spacy/training/iob_utils.py:149: UserWarning: [W030] Some entities could not be aligned in the text \"\" Tim Krimsus Satreskrim Polres Metro Jakarta Pusa...\" with entities \"[[1, 50, 'ORGANIZATION'], [150, 158, 'BRAND']]\". Use `spacy.training.offsets_to_biluo_tags(nlp.make_doc(text), entities)` to check the alignment. Misaligned entities ('-') will be ignored during training.\n",
            "  warnings.warn(\n",
            "/usr/local/lib/python3.10/dist-packages/spacy/training/iob_utils.py:149: UserWarning: [W030] Some entities could not be aligned in the text \"JAKARTA - Presiden Joko Widodo (Jokowi) mengatakan...\" with entities \"[[10, 18, 'JOBTITLE'], [19, 30, 'PERSON'], [32, 38...\". Use `spacy.training.offsets_to_biluo_tags(nlp.make_doc(text), entities)` to check the alignment. Misaligned entities ('-') will be ignored during training.\n",
            "  warnings.warn(\n",
            "/usr/local/lib/python3.10/dist-packages/spacy/training/iob_utils.py:149: UserWarning: [W030] Some entities could not be aligned in the text \"Ruas jalan provinsi yang menghubungkan Banjarnegar...\" with entities \"[[40, 74, 'LOCATION'], [149, 165, 'TIME']]\". Use `spacy.training.offsets_to_biluo_tags(nlp.make_doc(text), entities)` to check the alignment. Misaligned entities ('-') will be ignored during training.\n",
            "  warnings.warn(\n",
            "/usr/local/lib/python3.10/dist-packages/spacy/training/iob_utils.py:149: UserWarning: [W030] Some entities could not be aligned in the text \"\" Menhan AS menawarkan segala dukungan yang dibutu...\" with entities \"[[1, 10, 'JOBTITLE'], [54, 67, 'COUNTRY'], [110, 1...\". Use `spacy.training.offsets_to_biluo_tags(nlp.make_doc(text), entities)` to check the alignment. Misaligned entities ('-') will be ignored during training.\n",
            "  warnings.warn(\n",
            "/usr/local/lib/python3.10/dist-packages/spacy/training/iob_utils.py:149: UserWarning: [W030] Some entities could not be aligned in the text \"Informasi dari Suku Dinas Penanggulangan Kebakaran...\" with entities \"[[15, 83, 'ORGANIZATION'], [118, 127, 'TIME']]\". Use `spacy.training.offsets_to_biluo_tags(nlp.make_doc(text), entities)` to check the alignment. Misaligned entities ('-') will be ignored during training.\n",
            "  warnings.warn(\n",
            "/usr/local/lib/python3.10/dist-packages/spacy/training/iob_utils.py:149: UserWarning: [W030] Some entities could not be aligned in the text \"Ketua Komisi III DPR Herman Herry mengatakan, pada...\" with entities \"[[0, 20, 'JOBTITLE'], [21, 44, 'PERSON'], [51, 68,...\". Use `spacy.training.offsets_to_biluo_tags(nlp.make_doc(text), entities)` to check the alignment. Misaligned entities ('-') will be ignored during training.\n",
            "  warnings.warn(\n",
            "/usr/local/lib/python3.10/dist-packages/spacy/training/iob_utils.py:149: UserWarning: [W030] Some entities could not be aligned in the text \"Jaksa Penuntut Umum (JPU) mendakwa John Kei dengan...\" with entities \"[[0, 21, 'JOBTITLE'], [36, 44, 'PERSON'], [80, 94,...\". Use `spacy.training.offsets_to_biluo_tags(nlp.make_doc(text), entities)` to check the alignment. Misaligned entities ('-') will be ignored during training.\n",
            "  warnings.warn(\n",
            "/usr/local/lib/python3.10/dist-packages/spacy/training/iob_utils.py:149: UserWarning: [W030] Some entities could not be aligned in the text \"\" Kita bisa yakinkan Bapak Ibu untuk melakukan ini...\" with entities \"[[270, 276, 'JOBTITLE'], [292, 308, 'PERSON']]\". Use `spacy.training.offsets_to_biluo_tags(nlp.make_doc(text), entities)` to check the alignment. Misaligned entities ('-') will be ignored during training.\n",
            "  warnings.warn(\n",
            "/usr/local/lib/python3.10/dist-packages/spacy/training/iob_utils.py:149: UserWarning: [W030] Some entities could not be aligned in the text \"\" Saya tidak pernah melakukan pelanggaran dan keja...\" with entities \"[[96, 101, 'PERSON'], [119, 140, 'TIME']]\". Use `spacy.training.offsets_to_biluo_tags(nlp.make_doc(text), entities)` to check the alignment. Misaligned entities ('-') will be ignored during training.\n",
            "  warnings.warn(\n",
            "/usr/local/lib/python3.10/dist-packages/spacy/training/iob_utils.py:149: UserWarning: [W030] Some entities could not be aligned in the text \"\" Dari hari Selasa (12/1/2021), ini kebetulan untu...\" with entities \"[[11, 29, 'TIME'], [92, 112, 'FACILITY'], [151, 15...\". Use `spacy.training.offsets_to_biluo_tags(nlp.make_doc(text), entities)` to check the alignment. Misaligned entities ('-') will be ignored during training.\n",
            "  warnings.warn(\n",
            "/usr/local/lib/python3.10/dist-packages/spacy/training/iob_utils.py:149: UserWarning: [W030] Some entities could not be aligned in the text \"JAKARTA - Arief Budiman bereaksi atas putusan Dewa...\" with entities \"[[8, 23, 'PERSON'], [47, 91, 'ORGANIZATION'], [135...\". Use `spacy.training.offsets_to_biluo_tags(nlp.make_doc(text), entities)` to check the alignment. Misaligned entities ('-') will be ignored during training.\n",
            "  warnings.warn(\n",
            "/usr/local/lib/python3.10/dist-packages/spacy/training/iob_utils.py:149: UserWarning: [W030] Some entities could not be aligned in the text \"Maria Pauline Lumowa didakwa memperkaya diri sendi...\" with entities \"[[0, 20, 'PERSON'], [85, 99, 'QUANTITY'], [133, 14...\". Use `spacy.training.offsets_to_biluo_tags(nlp.make_doc(text), entities)` to check the alignment. Misaligned entities ('-') will be ignored during training.\n",
            "  warnings.warn(\n",
            "/usr/local/lib/python3.10/dist-packages/spacy/training/iob_utils.py:149: UserWarning: [W030] Some entities could not be aligned in the text \"\" Tentu kami dukung keputusan Pak Presiden. Dan ka...\" with entities \"[[33, 42, 'JOBTITLE'], [121, 128, 'PERSON'], [150,...\". Use `spacy.training.offsets_to_biluo_tags(nlp.make_doc(text), entities)` to check the alignment. Misaligned entities ('-') will be ignored during training.\n",
            "  warnings.warn(\n",
            "/usr/local/lib/python3.10/dist-packages/spacy/training/iob_utils.py:149: UserWarning: [W030] Some entities could not be aligned in the text \"JAKARTA - Kepala Pusat Data dan Informasi Kementer...\" with entities \"[[10, 63, 'JOBTITLE'], [66, 74, 'ORGANIZATION'], [...\". Use `spacy.training.offsets_to_biluo_tags(nlp.make_doc(text), entities)` to check the alignment. Misaligned entities ('-') will be ignored during training.\n",
            "  warnings.warn(\n",
            "/usr/local/lib/python3.10/dist-packages/spacy/training/iob_utils.py:149: UserWarning: [W030] Some entities could not be aligned in the text \"Nama Listyo merupakan bagian lima nama yang diusul...\" with entities \"[[5, 11, 'PERSON'], [54, 80, 'ORGANIZATION'], [100...\". Use `spacy.training.offsets_to_biluo_tags(nlp.make_doc(text), entities)` to check the alignment. Misaligned entities ('-') will be ignored during training.\n",
            "  warnings.warn(\n",
            "/usr/local/lib/python3.10/dist-packages/spacy/training/iob_utils.py:149: UserWarning: [W030] Some entities could not be aligned in the text \"Juru Bicara Vaksinasi Covid-19 dari Kementerian Ke...\" with entities \"[[0, 57, 'JOBTITLE'], [60, 68, 'ORGANIZATION'], [7...\". Use `spacy.training.offsets_to_biluo_tags(nlp.make_doc(text), entities)` to check the alignment. Misaligned entities ('-') will be ignored during training.\n",
            "  warnings.warn(\n"
          ]
        },
        {
          "output_type": "stream",
          "name": "stdout",
          "text": [
            "Losses at iteration 0: {'ner': 7753.64219232926}\n",
            "Losses at iteration 1: {'ner': 5132.6565039421475}\n",
            "Losses at iteration 2: {'ner': 4612.423197820806}\n",
            "Losses at iteration 3: {'ner': 4203.122217077599}\n",
            "Losses at iteration 4: {'ner': 3781.112536571112}\n",
            "Losses at iteration 5: {'ner': 3705.317789390188}\n",
            "Losses at iteration 6: {'ner': 3433.843288088124}\n",
            "Losses at iteration 7: {'ner': 3204.850498067952}\n",
            "Losses at iteration 8: {'ner': 3004.441510987616}\n",
            "Losses at iteration 9: {'ner': 2948.825118249772}\n",
            "Losses at iteration 10: {'ner': 2818.615239390111}\n",
            "Losses at iteration 11: {'ner': 2677.60405686413}\n",
            "Losses at iteration 12: {'ner': 2537.2625970231607}\n",
            "Losses at iteration 13: {'ner': 2575.8202687639223}\n",
            "Losses at iteration 14: {'ner': 2516.2622853796124}\n",
            "Losses at iteration 15: {'ner': 2336.867048578372}\n",
            "Losses at iteration 16: {'ner': 2402.3776604299496}\n",
            "Losses at iteration 17: {'ner': 2278.242813518251}\n",
            "Losses at iteration 18: {'ner': 2243.5570789066587}\n",
            "Losses at iteration 19: {'ner': 2196.404382452811}\n",
            "Losses at iteration 20: {'ner': 2157.3548316937467}\n",
            "Losses at iteration 21: {'ner': 2082.4911008204126}\n",
            "Losses at iteration 22: {'ner': 2032.835763538024}\n",
            "Losses at iteration 23: {'ner': 2001.2341866581744}\n",
            "Losses at iteration 24: {'ner': 1957.4799372011782}\n",
            "Losses at iteration 25: {'ner': 2036.7018756519974}\n",
            "Losses at iteration 26: {'ner': 1930.7272190096753}\n",
            "Losses at iteration 27: {'ner': 1865.4523772399857}\n",
            "Losses at iteration 28: {'ner': 1910.1327183825056}\n",
            "Losses at iteration 29: {'ner': 1803.1674590533717}\n"
          ]
        }
      ]
    },
    {
      "cell_type": "code",
      "source": [
        "# Evaluasi Model\n",
        "def evaluate_model(text):\n",
        "    doc = nlp_model(text)\n",
        "    print(\"Entities:\", [(ent.text, ent.label_) for ent in doc.ents])\n",
        "    displacy.render(doc, style=\"ent\")"
      ],
      "metadata": {
        "id": "jICkgrMtjHf0"
      },
      "execution_count": 14,
      "outputs": []
    },
    {
      "cell_type": "code",
      "source": [
        "from spacy import displacy\n",
        "\n",
        "# Test Model\n",
        "evaluate_model(\"Kementerian Perhubungan tidak mewajibkan rapid test COVID-19 untuk perjalanan darat lintas daerah, kecuali untuk tujuan Bali.\")"
      ],
      "metadata": {
        "colab": {
          "base_uri": "https://localhost:8080/",
          "height": 159
        },
        "id": "0coD8Z7MjMO0",
        "outputId": "1ab66125-0725-47c0-ba00-88299167061a"
      },
      "execution_count": 15,
      "outputs": [
        {
          "output_type": "stream",
          "name": "stdout",
          "text": [
            "Entities: [('COVID-19', 'DISEASE'), ('Bali', 'LOCATION')]\n"
          ]
        },
        {
          "output_type": "stream",
          "name": "stderr",
          "text": [
            "/usr/local/lib/python3.10/dist-packages/spacy/pipeline/entityruler.py:405: UserWarning: [W036] The component 'entity_ruler' does not have any patterns defined.\n",
            "  warnings.warn(Warnings.W036.format(name=self.name))\n"
          ]
        },
        {
          "output_type": "display_data",
          "data": {
            "text/plain": [
              "<IPython.core.display.HTML object>"
            ],
            "text/html": [
              "<span class=\"tex2jax_ignore\"><div class=\"entities\" style=\"line-height: 2.5; direction: ltr\">Kementerian Perhubungan tidak mewajibkan rapid test \n",
              "<mark class=\"entity\" style=\"background: #ddd; padding: 0.45em 0.6em; margin: 0 0.25em; line-height: 1; border-radius: 0.35em;\">\n",
              "    COVID-19\n",
              "    <span style=\"font-size: 0.8em; font-weight: bold; line-height: 1; border-radius: 0.35em; vertical-align: middle; margin-left: 0.5rem\">DISEASE</span>\n",
              "</mark>\n",
              " untuk perjalanan darat lintas daerah, kecuali untuk tujuan \n",
              "<mark class=\"entity\" style=\"background: #ddd; padding: 0.45em 0.6em; margin: 0 0.25em; line-height: 1; border-radius: 0.35em;\">\n",
              "    Bali\n",
              "    <span style=\"font-size: 0.8em; font-weight: bold; line-height: 1; border-radius: 0.35em; vertical-align: middle; margin-left: 0.5rem\">LOCATION</span>\n",
              "</mark>\n",
              ".</div></span>"
            ]
          },
          "metadata": {}
        }
      ]
    },
    {
      "cell_type": "code",
      "source": [
        "# Test Model\n",
        "evaluate_model(\"Calon gubernur (cagub)-calon wakil gubernur (cawagub) Ridwan Kamil-Suswono menyoroti kesehatan mental di Jakarta. Menurut Ridwan Kamil, Jakarta menduduki peringkat ke-9 sebagai kota paling stres di dunia. Dia mengutip data Dinas Kesehatan (Dinkes) Jakarta yang menunjukkan bahwa penderita skizofrenia, jumlahnya lebih banyak dari pasien pneumonia, diare, diabetes hingga DBD.\")\n"
      ],
      "metadata": {
        "colab": {
          "base_uri": "https://localhost:8080/",
          "height": 264
        },
        "id": "ZuGorup7jPSb",
        "outputId": "dff5281d-4208-4046-fd6a-afbe2a14aaee"
      },
      "execution_count": 16,
      "outputs": [
        {
          "output_type": "stream",
          "name": "stdout",
          "text": [
            "Entities: [('Suswono', 'PERSON'), ('Jakarta', 'LOCATION'), ('Ridwan Kamil', 'PERSON'), ('Jakarta', 'LOCATION'), ('Dinas Kesehatan (Dinkes) Jakarta', 'ORGANIZATION')]\n"
          ]
        },
        {
          "output_type": "stream",
          "name": "stderr",
          "text": [
            "/usr/local/lib/python3.10/dist-packages/spacy/pipeline/entityruler.py:405: UserWarning: [W036] The component 'entity_ruler' does not have any patterns defined.\n",
            "  warnings.warn(Warnings.W036.format(name=self.name))\n"
          ]
        },
        {
          "output_type": "display_data",
          "data": {
            "text/plain": [
              "<IPython.core.display.HTML object>"
            ],
            "text/html": [
              "<span class=\"tex2jax_ignore\"><div class=\"entities\" style=\"line-height: 2.5; direction: ltr\">Calon gubernur (cagub)-calon wakil gubernur (cawagub) Ridwan Kamil-\n",
              "<mark class=\"entity\" style=\"background: #aa9cfc; padding: 0.45em 0.6em; margin: 0 0.25em; line-height: 1; border-radius: 0.35em;\">\n",
              "    Suswono\n",
              "    <span style=\"font-size: 0.8em; font-weight: bold; line-height: 1; border-radius: 0.35em; vertical-align: middle; margin-left: 0.5rem\">PERSON</span>\n",
              "</mark>\n",
              " menyoroti kesehatan mental di \n",
              "<mark class=\"entity\" style=\"background: #ddd; padding: 0.45em 0.6em; margin: 0 0.25em; line-height: 1; border-radius: 0.35em;\">\n",
              "    Jakarta\n",
              "    <span style=\"font-size: 0.8em; font-weight: bold; line-height: 1; border-radius: 0.35em; vertical-align: middle; margin-left: 0.5rem\">LOCATION</span>\n",
              "</mark>\n",
              ". Menurut \n",
              "<mark class=\"entity\" style=\"background: #aa9cfc; padding: 0.45em 0.6em; margin: 0 0.25em; line-height: 1; border-radius: 0.35em;\">\n",
              "    Ridwan Kamil\n",
              "    <span style=\"font-size: 0.8em; font-weight: bold; line-height: 1; border-radius: 0.35em; vertical-align: middle; margin-left: 0.5rem\">PERSON</span>\n",
              "</mark>\n",
              ", \n",
              "<mark class=\"entity\" style=\"background: #ddd; padding: 0.45em 0.6em; margin: 0 0.25em; line-height: 1; border-radius: 0.35em;\">\n",
              "    Jakarta\n",
              "    <span style=\"font-size: 0.8em; font-weight: bold; line-height: 1; border-radius: 0.35em; vertical-align: middle; margin-left: 0.5rem\">LOCATION</span>\n",
              "</mark>\n",
              " menduduki peringkat ke-9 sebagai kota paling stres di dunia. Dia mengutip data \n",
              "<mark class=\"entity\" style=\"background: #ddd; padding: 0.45em 0.6em; margin: 0 0.25em; line-height: 1; border-radius: 0.35em;\">\n",
              "    Dinas Kesehatan (Dinkes) Jakarta\n",
              "    <span style=\"font-size: 0.8em; font-weight: bold; line-height: 1; border-radius: 0.35em; vertical-align: middle; margin-left: 0.5rem\">ORGANIZATION</span>\n",
              "</mark>\n",
              " yang menunjukkan bahwa penderita skizofrenia, jumlahnya lebih banyak dari pasien pneumonia, diare, diabetes hingga DBD.</div></span>"
            ]
          },
          "metadata": {}
        }
      ]
    },
    {
      "cell_type": "code",
      "source": [],
      "metadata": {
        "id": "RPE8mcikIIOM"
      },
      "execution_count": 16,
      "outputs": []
    }
  ]
}
