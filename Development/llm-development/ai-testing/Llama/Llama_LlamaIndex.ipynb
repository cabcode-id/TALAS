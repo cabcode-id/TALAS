{
 "cells": [
  {
   "cell_type": "code",
   "execution_count": null,
   "metadata": {
    "colab": {
     "base_uri": "https://localhost:8080/"
    },
    "id": "RVhj5WpMwY84",
    "outputId": "1d5ab43b-8230-4c29-8379-3d59fa95384b"
   },
   "outputs": [],
   "source": [
    "# import kagglehub\n",
    "# path = kagglehub.dataset_download('iqbalmaulana/indonesian-news-dataset')\n",
    "# print(path)"
   ]
  },
  {
   "cell_type": "code",
   "execution_count": null,
   "metadata": {
    "id": "cuD7_9C_wipD"
   },
   "outputs": [],
   "source": [
    "from llama_index.llms.lmstudio import LMStudio\n",
    "import pandas as pd"
   ]
  },
  {
   "cell_type": "code",
   "execution_count": 57,
   "metadata": {
    "id": "bmXSnyuCxRbE"
   },
   "outputs": [
    {
     "name": "stdout",
     "output_type": "stream",
     "text": [
      "<class 'pandas.core.frame.DataFrame'>\n",
      "RangeIndex: 968 entries, 0 to 967\n",
      "Data columns (total 6 columns):\n",
      " #   Column     Non-Null Count  Dtype \n",
      "---  ------     --------------  ----- \n",
      " 0   id         968 non-null    int64 \n",
      " 1   source     968 non-null    object\n",
      " 2   title      968 non-null    object\n",
      " 3   url        968 non-null    object\n",
      " 4   content    968 non-null    object\n",
      " 5   embedding  968 non-null    object\n",
      "dtypes: int64(1), object(5)\n",
      "memory usage: 45.5+ KB\n"
     ]
    }
   ],
   "source": [
    "df = pd.read_csv('../train_data.csv')\n",
    "df.head()\n",
    "df.info()"
   ]
  },
  {
   "cell_type": "code",
   "execution_count": 59,
   "metadata": {
    "id": "2LFjR1HpwlZs"
   },
   "outputs": [],
   "source": [
    "llm = LMStudio(\n",
    "    model_name=\"meta-llama-3-8b-instruct-v2\",\n",
    "    base_url=\"http://localhost:1234/v1\",\n",
    "    temperature=0.8,\n",
    ")"
   ]
  },
  {
   "cell_type": "code",
   "execution_count": 60,
   "metadata": {
    "id": "0TcOavhFG7w_"
   },
   "outputs": [],
   "source": [
    "template = \"Here is the news: {news}\""
   ]
  },
  {
   "cell_type": "code",
   "execution_count": null,
   "metadata": {
    "id": "MFq6Q2JOxxCc"
   },
   "outputs": [
    {
     "name": "stdout",
     "output_type": "stream",
     "text": [
      " OKU - Jhon Hendra (44), seorang oknum mantan Kepala Desa (Kades) Tanjung Sari, Kecamatan Pengandonan, Kabupaten Ogan Komering Ulu (OKU), Sumatera Selatan, ditetapkan sebagai tersangka oleh penyidik Polres OKU.     Kapolres OKU, AKBP Arif Harsono mengatakan, bahwa oknum mantan Kades tersebut ditetapkan sebagai tersangka setelah terbukti melakukan tindak pidana korupsi pada penggunaan dana desa. BACA JUGA: \"Tersangka Jhon Hendra terjerat kasus dugaan korupsi dana desa pada bidang pembangunan desa dan dana penyertaan modal pada Badan Usaha Milik Desa (BumDes) Tanjung Sari, Tahun Anggaran 2018,\" ujar Arif, Selasa (28/3/2023). Dijelaskan Arif, bahwa pada 2018 lalu saat tersangka masih menjabat sebagai Kades Tanjung Sari, terdapat pencarian dana desa yang bersumber dari APBN sebesar Rp700.730.000. BACA JUGA: \"Pencairannya dilakukan dalam tiga tahap. Pertama bulan Maret 2018 sebesar Rp140.147.800 ke rekening kas Desa Tanjung Sari. Pencairan tahap dua pada Juli 2018 sebesar Rp280.295.600 ke rekening kas desa yang sama. Pencairan ketiga pada bulan November Rp280.295.600, ke rekening kas Desa Tanjung Sari,\" jelasnya. Berdasarkan laporan hasil pemeriksaan PKN Desa Tanjung Sari, Kecamatan Pengandonan, Kabupaten OKU Tahun 2018 dan Inspektorat Kabupaten OKU, disebutkan terdapat kerugian keuangan negara sebesar Rp379.399.614. Menurutnya, pada saat pelaksanaan kegiatan dana yang bersumber dari APBN tersebut, diduga tersangka tidak melibatkan perangkat desa. Dan dari penggunaan dana desa tersebut didapatkan adanya mark up terhadap harga pembelian material dan barang-barang lainnya. \"Bahkan, dalam kegiatan fisik terdapat kekurangan volume dan tersangka Kades tidak merealisasikan pembiayaan penyertaan modal desa (Bumdes) 2018 ke pengurus,\" jelasnya.  Arif juga menjelaskan, selama proses penyelidikan dan penyidikan oleh Unit Idik IV Tipidkor Satreskrim Polres OKU, tersangka tidak kooperatif dan sudah dua tahun melarikan diri dan menjadi buronan polisi. Sehingga, kata Arif, pada awal Desember 2022, pihaknya terpaksa melakukan upaya penjemputan paksa terhadap tersangka di daerah Karang Raja, Kabupaten Muara Enim. \"Setelah dilakukan pemeriksaan, didapat keterangan dan alat bukti yang cukup terkait perbuatan yang dilakukan tersangka. Kemudian dilakukan gelar perkara dan penahanan di sel sementara Polres OKU,\" jelasnya. Akibat perbuatannya tersebut, tersangka dijerat Pasal 2 Ayat (1) UU Nomor 31 Tahun 1999 sebagai mana diubah dan diperbarui dengan UU Nomor 20 Tahun 2001 tentang pemberantasan Tipikor dengan ancaman hukuman pidana penjara maksimal selama 20 tahun.\n"
     ]
    }
   ],
   "source": [
    "text = df['content'].iloc[1]\n",
    "print(text)"
   ]
  },
  {
   "cell_type": "code",
   "execution_count": null,
   "metadata": {
    "id": "SnYrwbuGHHl6"
   },
   "outputs": [
    {
     "name": "stdout",
     "output_type": "stream",
     "text": [
      "Conservative\n"
     ]
    }
   ],
   "source": [
    "response = llm.complete(template.format(news=text))\n",
    "print(str(response))"
   ]
  }
 ],
 "metadata": {
  "colab": {
   "provenance": []
  },
  "kernelspec": {
   "display_name": "Python 3",
   "name": "python3"
  },
  "language_info": {
   "codemirror_mode": {
    "name": "ipython",
    "version": 3
   },
   "file_extension": ".py",
   "mimetype": "text/x-python",
   "name": "python",
   "nbconvert_exporter": "python",
   "pygments_lexer": "ipython3",
   "version": "3.12.6"
  }
 },
 "nbformat": 4,
 "nbformat_minor": 0
}
