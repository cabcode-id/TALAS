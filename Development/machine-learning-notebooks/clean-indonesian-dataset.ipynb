{
 "cells": [
  {
   "cell_type": "code",
   "execution_count": null,
   "metadata": {},
   "outputs": [],
   "source": [
    "%pip install pandas ast numpy scikit-learn "
   ]
  },
  {
   "cell_type": "code",
   "execution_count": 1,
   "metadata": {},
   "outputs": [],
   "source": [
    "import pandas as pd\n",
    "import ast\n",
    "import numpy as np"
   ]
  },
  {
   "cell_type": "code",
   "execution_count": 2,
   "metadata": {},
   "outputs": [
    {
     "name": "stdout",
     "output_type": "stream",
     "text": [
      "Warning: Looks like you're using an outdated `kagglehub` version, please consider updating (latest version: 0.3.4)\n",
      "Path to dataset files: C:\\Users\\USER\\.cache\\kagglehub\\datasets\\iqbalmaulana\\indonesian-news-dataset\\versions\\1\n"
     ]
    }
   ],
   "source": [
    "import kagglehub\n",
    "\n",
    "path = kagglehub.dataset_download(\"iqbalmaulana/indonesian-news-dataset\")\n",
    "\n",
    "print(\"Path to dataset files:\", path)"
   ]
  },
  {
   "cell_type": "code",
   "execution_count": 2,
   "metadata": {},
   "outputs": [],
   "source": [
    "df = pd.read_csv('../data/data.csv')\n",
    "# df = pd.read_csv(path + '/data.csv')\n",
    "# df.head()"
   ]
  },
  {
   "cell_type": "code",
   "execution_count": 3,
   "metadata": {},
   "outputs": [
    {
     "data": {
      "text/plain": [
       "id              0\n",
       "source          0\n",
       "title           0\n",
       "image         157\n",
       "url             0\n",
       "content         0\n",
       "date            0\n",
       "embedding       0\n",
       "created_at      0\n",
       "updated_at      0\n",
       "summary        10\n",
       "dtype: int64"
      ]
     },
     "execution_count": 3,
     "metadata": {},
     "output_type": "execute_result"
    }
   ],
   "source": [
    "df = df.dropna(subset=['content'])\n",
    "df.isnull().sum()"
   ]
  },
  {
   "cell_type": "code",
   "execution_count": 4,
   "metadata": {},
   "outputs": [
    {
     "name": "stdout",
     "output_type": "stream",
     "text": [
      "<class 'pandas.core.frame.DataFrame'>\n",
      "Index: 32294 entries, 0 to 32734\n",
      "Data columns (total 11 columns):\n",
      " #   Column      Non-Null Count  Dtype \n",
      "---  ------      --------------  ----- \n",
      " 0   id          32294 non-null  int64 \n",
      " 1   source      32294 non-null  object\n",
      " 2   title       32294 non-null  object\n",
      " 3   image       32137 non-null  object\n",
      " 4   url         32294 non-null  object\n",
      " 5   content     32294 non-null  object\n",
      " 6   date        32294 non-null  object\n",
      " 7   embedding   32294 non-null  object\n",
      " 8   created_at  32294 non-null  object\n",
      " 9   updated_at  32294 non-null  object\n",
      " 10  summary     32284 non-null  object\n",
      "dtypes: int64(1), object(10)\n",
      "memory usage: 3.0+ MB\n"
     ]
    }
   ],
   "source": [
    "df.info()"
   ]
  },
  {
   "cell_type": "code",
   "execution_count": 5,
   "metadata": {},
   "outputs": [],
   "source": [
    "df = df.drop(columns=['created_at', 'updated_at', 'summary'])"
   ]
  },
  {
   "cell_type": "code",
   "execution_count": 6,
   "metadata": {},
   "outputs": [],
   "source": [
    "df = df.sort_values(by='id')"
   ]
  },
  {
   "cell_type": "code",
   "execution_count": 7,
   "metadata": {},
   "outputs": [],
   "source": [
    "df = df.reset_index(drop=True)"
   ]
  },
  {
   "cell_type": "code",
   "execution_count": 8,
   "metadata": {},
   "outputs": [
    {
     "data": {
      "text/html": [
       "<div>\n",
       "<style scoped>\n",
       "    .dataframe tbody tr th:only-of-type {\n",
       "        vertical-align: middle;\n",
       "    }\n",
       "\n",
       "    .dataframe tbody tr th {\n",
       "        vertical-align: top;\n",
       "    }\n",
       "\n",
       "    .dataframe thead th {\n",
       "        text-align: right;\n",
       "    }\n",
       "</style>\n",
       "<table border=\"1\" class=\"dataframe\">\n",
       "  <thead>\n",
       "    <tr style=\"text-align: right;\">\n",
       "      <th></th>\n",
       "      <th>id</th>\n",
       "      <th>source</th>\n",
       "      <th>title</th>\n",
       "      <th>image</th>\n",
       "      <th>url</th>\n",
       "      <th>content</th>\n",
       "      <th>date</th>\n",
       "      <th>embedding</th>\n",
       "    </tr>\n",
       "  </thead>\n",
       "  <tbody>\n",
       "    <tr>\n",
       "      <th>0</th>\n",
       "      <td>33</td>\n",
       "      <td>tempo</td>\n",
       "      <td>Kapolri Instruksikan Proses Tegas Kasus Suap P...</td>\n",
       "      <td>https://statik.tempo.co/data/2023/02/16/id_118...</td>\n",
       "      <td>https://nasional.tempo.co/read/1698303/kapolri...</td>\n",
       "      <td>TEMPO.CO, Yogyakarta- Kapolri Jenderal Listyo ...</td>\n",
       "      <td>2023-03-03 12:57:37+00</td>\n",
       "      <td>[0.006670293,-0.008296051,0.018612592,-0.01163...</td>\n",
       "    </tr>\n",
       "    <tr>\n",
       "      <th>1</th>\n",
       "      <td>34</td>\n",
       "      <td>tempo</td>\n",
       "      <td>Terdampak Banjir, Mentan Siap Bantu Petani di ...</td>\n",
       "      <td>https://statik.tempo.co/data/2023/03/03/id_118...</td>\n",
       "      <td>https://nasional.tempo.co/read/1698325/terdamp...</td>\n",
       "      <td>INFO NASIONAL - Menteri Pertanian Syahrul Yasi...</td>\n",
       "      <td>2023-03-03 13:45:28+00</td>\n",
       "      <td>[-0.013915301,-0.018322684,0.012273976,-0.0048...</td>\n",
       "    </tr>\n",
       "    <tr>\n",
       "      <th>2</th>\n",
       "      <td>35</td>\n",
       "      <td>tempo</td>\n",
       "      <td>Kementan Upayakan Perizinan Mudah, Cepat, dan ...</td>\n",
       "      <td>https://statik.tempo.co/data/2023/03/03/id_118...</td>\n",
       "      <td>https://nasional.tempo.co/read/1698319/kementa...</td>\n",
       "      <td>INFO NASIONAL - Kementerian Pertanian memastik...</td>\n",
       "      <td>2023-03-03 13:33:55+00</td>\n",
       "      <td>[0.015555209,-0.015595161,-0.001956054,-0.0336...</td>\n",
       "    </tr>\n",
       "    <tr>\n",
       "      <th>3</th>\n",
       "      <td>36</td>\n",
       "      <td>tempo</td>\n",
       "      <td>Wapres Maruf Amin Dorong Pengusaha Sawit Perku...</td>\n",
       "      <td>https://statik.tempo.co/data/2023/03/03/id_118...</td>\n",
       "      <td>https://nasional.tempo.co/read/1698315/wapres-...</td>\n",
       "      <td>INFO NASIONAL  Para pengusaha yang tergabung d...</td>\n",
       "      <td>2023-03-03 13:00:00+00</td>\n",
       "      <td>[0.0035903626,-0.015759699,0.008853396,-0.0073...</td>\n",
       "    </tr>\n",
       "    <tr>\n",
       "      <th>4</th>\n",
       "      <td>37</td>\n",
       "      <td>tempo</td>\n",
       "      <td>Menpan RB: Minat ASN Muda Pindah ke IKN Nusant...</td>\n",
       "      <td>https://statik.tempo.co/data/2022/09/20/id_114...</td>\n",
       "      <td>https://nasional.tempo.co/read/1698324/menpan-...</td>\n",
       "      <td>TEMPO.CO, Malang - Menteri Pendayagunaan Apara...</td>\n",
       "      <td>2023-03-03 13:43:43+00</td>\n",
       "      <td>[-0.00013789257,-0.03197872,0.012931213,0.0022...</td>\n",
       "    </tr>\n",
       "  </tbody>\n",
       "</table>\n",
       "</div>"
      ],
      "text/plain": [
       "   id source                                              title  \\\n",
       "0  33  tempo  Kapolri Instruksikan Proses Tegas Kasus Suap P...   \n",
       "1  34  tempo  Terdampak Banjir, Mentan Siap Bantu Petani di ...   \n",
       "2  35  tempo  Kementan Upayakan Perizinan Mudah, Cepat, dan ...   \n",
       "3  36  tempo  Wapres Maruf Amin Dorong Pengusaha Sawit Perku...   \n",
       "4  37  tempo  Menpan RB: Minat ASN Muda Pindah ke IKN Nusant...   \n",
       "\n",
       "                                               image  \\\n",
       "0  https://statik.tempo.co/data/2023/02/16/id_118...   \n",
       "1  https://statik.tempo.co/data/2023/03/03/id_118...   \n",
       "2  https://statik.tempo.co/data/2023/03/03/id_118...   \n",
       "3  https://statik.tempo.co/data/2023/03/03/id_118...   \n",
       "4  https://statik.tempo.co/data/2022/09/20/id_114...   \n",
       "\n",
       "                                                 url  \\\n",
       "0  https://nasional.tempo.co/read/1698303/kapolri...   \n",
       "1  https://nasional.tempo.co/read/1698325/terdamp...   \n",
       "2  https://nasional.tempo.co/read/1698319/kementa...   \n",
       "3  https://nasional.tempo.co/read/1698315/wapres-...   \n",
       "4  https://nasional.tempo.co/read/1698324/menpan-...   \n",
       "\n",
       "                                             content                    date  \\\n",
       "0  TEMPO.CO, Yogyakarta- Kapolri Jenderal Listyo ...  2023-03-03 12:57:37+00   \n",
       "1  INFO NASIONAL - Menteri Pertanian Syahrul Yasi...  2023-03-03 13:45:28+00   \n",
       "2  INFO NASIONAL - Kementerian Pertanian memastik...  2023-03-03 13:33:55+00   \n",
       "3  INFO NASIONAL  Para pengusaha yang tergabung d...  2023-03-03 13:00:00+00   \n",
       "4  TEMPO.CO, Malang - Menteri Pendayagunaan Apara...  2023-03-03 13:43:43+00   \n",
       "\n",
       "                                           embedding  \n",
       "0  [0.006670293,-0.008296051,0.018612592,-0.01163...  \n",
       "1  [-0.013915301,-0.018322684,0.012273976,-0.0048...  \n",
       "2  [0.015555209,-0.015595161,-0.001956054,-0.0336...  \n",
       "3  [0.0035903626,-0.015759699,0.008853396,-0.0073...  \n",
       "4  [-0.00013789257,-0.03197872,0.012931213,0.0022...  "
      ]
     },
     "execution_count": 8,
     "metadata": {},
     "output_type": "execute_result"
    }
   ],
   "source": [
    "df.head()"
   ]
  },
  {
   "cell_type": "code",
   "execution_count": 9,
   "metadata": {},
   "outputs": [],
   "source": [
    "df['id'] = range(len(df))\n"
   ]
  },
  {
   "cell_type": "code",
   "execution_count": 10,
   "metadata": {},
   "outputs": [],
   "source": [
    "df['source'] = df['source'].astype(str)\n",
    "df['title'] = df['title'].astype(str)\n",
    "df['content'] = df['content'].astype(str)"
   ]
  },
  {
   "cell_type": "code",
   "execution_count": 11,
   "metadata": {},
   "outputs": [],
   "source": [
    "df['embedding'] = df['embedding'].apply(lambda x: ast.literal_eval(x))"
   ]
  },
  {
   "cell_type": "code",
   "execution_count": 12,
   "metadata": {},
   "outputs": [
    {
     "data": {
      "text/html": [
       "<div>\n",
       "<style scoped>\n",
       "    .dataframe tbody tr th:only-of-type {\n",
       "        vertical-align: middle;\n",
       "    }\n",
       "\n",
       "    .dataframe tbody tr th {\n",
       "        vertical-align: top;\n",
       "    }\n",
       "\n",
       "    .dataframe thead th {\n",
       "        text-align: right;\n",
       "    }\n",
       "</style>\n",
       "<table border=\"1\" class=\"dataframe\">\n",
       "  <thead>\n",
       "    <tr style=\"text-align: right;\">\n",
       "      <th></th>\n",
       "      <th>id</th>\n",
       "      <th>source</th>\n",
       "      <th>title</th>\n",
       "      <th>image</th>\n",
       "      <th>url</th>\n",
       "      <th>content</th>\n",
       "      <th>date</th>\n",
       "      <th>embedding</th>\n",
       "    </tr>\n",
       "  </thead>\n",
       "  <tbody>\n",
       "    <tr>\n",
       "      <th>0</th>\n",
       "      <td>0</td>\n",
       "      <td>tempo</td>\n",
       "      <td>Kapolri Instruksikan Proses Tegas Kasus Suap P...</td>\n",
       "      <td>https://statik.tempo.co/data/2023/02/16/id_118...</td>\n",
       "      <td>https://nasional.tempo.co/read/1698303/kapolri...</td>\n",
       "      <td>TEMPO.CO, Yogyakarta- Kapolri Jenderal Listyo ...</td>\n",
       "      <td>2023-03-03 12:57:37+00</td>\n",
       "      <td>[0.006670293, -0.008296051, 0.018612592, -0.01...</td>\n",
       "    </tr>\n",
       "    <tr>\n",
       "      <th>1</th>\n",
       "      <td>1</td>\n",
       "      <td>tempo</td>\n",
       "      <td>Terdampak Banjir, Mentan Siap Bantu Petani di ...</td>\n",
       "      <td>https://statik.tempo.co/data/2023/03/03/id_118...</td>\n",
       "      <td>https://nasional.tempo.co/read/1698325/terdamp...</td>\n",
       "      <td>INFO NASIONAL - Menteri Pertanian Syahrul Yasi...</td>\n",
       "      <td>2023-03-03 13:45:28+00</td>\n",
       "      <td>[-0.013915301, -0.018322684, 0.012273976, -0.0...</td>\n",
       "    </tr>\n",
       "    <tr>\n",
       "      <th>2</th>\n",
       "      <td>2</td>\n",
       "      <td>tempo</td>\n",
       "      <td>Kementan Upayakan Perizinan Mudah, Cepat, dan ...</td>\n",
       "      <td>https://statik.tempo.co/data/2023/03/03/id_118...</td>\n",
       "      <td>https://nasional.tempo.co/read/1698319/kementa...</td>\n",
       "      <td>INFO NASIONAL - Kementerian Pertanian memastik...</td>\n",
       "      <td>2023-03-03 13:33:55+00</td>\n",
       "      <td>[0.015555209, -0.015595161, -0.001956054, -0.0...</td>\n",
       "    </tr>\n",
       "    <tr>\n",
       "      <th>3</th>\n",
       "      <td>3</td>\n",
       "      <td>tempo</td>\n",
       "      <td>Wapres Maruf Amin Dorong Pengusaha Sawit Perku...</td>\n",
       "      <td>https://statik.tempo.co/data/2023/03/03/id_118...</td>\n",
       "      <td>https://nasional.tempo.co/read/1698315/wapres-...</td>\n",
       "      <td>INFO NASIONAL  Para pengusaha yang tergabung d...</td>\n",
       "      <td>2023-03-03 13:00:00+00</td>\n",
       "      <td>[0.0035903626, -0.015759699, 0.008853396, -0.0...</td>\n",
       "    </tr>\n",
       "    <tr>\n",
       "      <th>4</th>\n",
       "      <td>4</td>\n",
       "      <td>tempo</td>\n",
       "      <td>Menpan RB: Minat ASN Muda Pindah ke IKN Nusant...</td>\n",
       "      <td>https://statik.tempo.co/data/2022/09/20/id_114...</td>\n",
       "      <td>https://nasional.tempo.co/read/1698324/menpan-...</td>\n",
       "      <td>TEMPO.CO, Malang - Menteri Pendayagunaan Apara...</td>\n",
       "      <td>2023-03-03 13:43:43+00</td>\n",
       "      <td>[-0.00013789257, -0.03197872, 0.012931213, 0.0...</td>\n",
       "    </tr>\n",
       "  </tbody>\n",
       "</table>\n",
       "</div>"
      ],
      "text/plain": [
       "   id source                                              title  \\\n",
       "0   0  tempo  Kapolri Instruksikan Proses Tegas Kasus Suap P...   \n",
       "1   1  tempo  Terdampak Banjir, Mentan Siap Bantu Petani di ...   \n",
       "2   2  tempo  Kementan Upayakan Perizinan Mudah, Cepat, dan ...   \n",
       "3   3  tempo  Wapres Maruf Amin Dorong Pengusaha Sawit Perku...   \n",
       "4   4  tempo  Menpan RB: Minat ASN Muda Pindah ke IKN Nusant...   \n",
       "\n",
       "                                               image  \\\n",
       "0  https://statik.tempo.co/data/2023/02/16/id_118...   \n",
       "1  https://statik.tempo.co/data/2023/03/03/id_118...   \n",
       "2  https://statik.tempo.co/data/2023/03/03/id_118...   \n",
       "3  https://statik.tempo.co/data/2023/03/03/id_118...   \n",
       "4  https://statik.tempo.co/data/2022/09/20/id_114...   \n",
       "\n",
       "                                                 url  \\\n",
       "0  https://nasional.tempo.co/read/1698303/kapolri...   \n",
       "1  https://nasional.tempo.co/read/1698325/terdamp...   \n",
       "2  https://nasional.tempo.co/read/1698319/kementa...   \n",
       "3  https://nasional.tempo.co/read/1698315/wapres-...   \n",
       "4  https://nasional.tempo.co/read/1698324/menpan-...   \n",
       "\n",
       "                                             content                    date  \\\n",
       "0  TEMPO.CO, Yogyakarta- Kapolri Jenderal Listyo ...  2023-03-03 12:57:37+00   \n",
       "1  INFO NASIONAL - Menteri Pertanian Syahrul Yasi...  2023-03-03 13:45:28+00   \n",
       "2  INFO NASIONAL - Kementerian Pertanian memastik...  2023-03-03 13:33:55+00   \n",
       "3  INFO NASIONAL  Para pengusaha yang tergabung d...  2023-03-03 13:00:00+00   \n",
       "4  TEMPO.CO, Malang - Menteri Pendayagunaan Apara...  2023-03-03 13:43:43+00   \n",
       "\n",
       "                                           embedding  \n",
       "0  [0.006670293, -0.008296051, 0.018612592, -0.01...  \n",
       "1  [-0.013915301, -0.018322684, 0.012273976, -0.0...  \n",
       "2  [0.015555209, -0.015595161, -0.001956054, -0.0...  \n",
       "3  [0.0035903626, -0.015759699, 0.008853396, -0.0...  \n",
       "4  [-0.00013789257, -0.03197872, 0.012931213, 0.0...  "
      ]
     },
     "execution_count": 12,
     "metadata": {},
     "output_type": "execute_result"
    }
   ],
   "source": [
    "df.head()"
   ]
  },
  {
   "cell_type": "code",
   "execution_count": 13,
   "metadata": {},
   "outputs": [],
   "source": [
    "def convertEmbeddingStringToFloat(df, embedding_column):\n",
    "     X = np.array(df[embedding_column].to_list(), dtype=np.float32)\n",
    "     return X"
   ]
  },
  {
   "cell_type": "code",
   "execution_count": 15,
   "metadata": {},
   "outputs": [],
   "source": [
    "X = convertEmbeddingStringToFloat(df, 'embedding')"
   ]
  },
  {
   "cell_type": "code",
   "execution_count": 16,
   "metadata": {},
   "outputs": [],
   "source": [
    "np.save('../data/embeddings.npy', X)"
   ]
  },
  {
   "cell_type": "code",
   "execution_count": 14,
   "metadata": {},
   "outputs": [],
   "source": [
    "df.to_parquet('../data/data_cleaned.parquet.gzip', compression='gzip')"
   ]
  },
  {
   "cell_type": "markdown",
   "metadata": {},
   "source": [
    "Compute and save TSNE to save loading time in newsAnalysis.ipynb"
   ]
  },
  {
   "cell_type": "code",
   "execution_count": 18,
   "metadata": {},
   "outputs": [],
   "source": [
    "from sklearn.manifold import TSNE"
   ]
  },
  {
   "cell_type": "code",
   "execution_count": 19,
   "metadata": {},
   "outputs": [],
   "source": [
    "def reduceDimension(X, perplexity, n_components=2):\n",
    "    tsne = TSNE(n_components=n_components, random_state=123, perplexity=perplexity)\n",
    "    tsne_results = tsne.fit_transform(X)\n",
    "    return tsne_results\n",
    "\n",
    "def convertTSNEtoDF(df, tsne_results):\n",
    "    dimension = tsne_results.shape[1]\n",
    "    for i in range(dimension):\n",
    "        df[f'tsne-{dimension}d-{i+1}'] = tsne_results[:,i]\n",
    "    return df\n",
    "\n",
    "tsne_results_2d = reduceDimension(X, 50)\n",
    "df = convertTSNEtoDF(df, tsne_results_2d)\n",
    "\n",
    "tsne_results_3d = reduceDimension(X, 50,  n_components=3)\n",
    "df = convertTSNEtoDF(df, tsne_results_3d)"
   ]
  },
  {
   "cell_type": "code",
   "execution_count": 20,
   "metadata": {},
   "outputs": [],
   "source": [
    "df.to_parquet('../data/data_tsne.parquet.gzip', compression='gzip')"
   ]
  },
  {
   "cell_type": "code",
   "execution_count": 13,
   "metadata": {},
   "outputs": [],
   "source": [
    "# from Sastrawi.Stemmer.StemmerFactory import StemmerFactory\n",
    "# from Sastrawi.StopWordRemover.StopWordRemoverFactory import StopWordRemoverFactory\n",
    "# stopword_factory = StopWordRemoverFactory()\n",
    "# stopword = stopword_factory.create_stop_word_remover()\n",
    "\n",
    "# stemmer_factory = StemmerFactory()\n",
    "# stemmer = stemmer_factory.create_stemmer()"
   ]
  },
  {
   "cell_type": "code",
   "execution_count": null,
   "metadata": {},
   "outputs": [],
   "source": [
    "# import re\n",
    "# def preprocess_text(text):\n",
    "#     text = str(text)\n",
    "\n",
    "#     text = text.lower()\n",
    "\n",
    "#     text = re.sub(r'http\\S+', '', text)\n",
    "\n",
    "#     text = re.sub(r'(@\\w+|#\\w+)', '', text)\n",
    "\n",
    "#     text = re.sub(r'[^a-zA-Z\\s]', ' ', text)\n",
    "\n",
    "#     text = re.sub(r'\\n', ' ', text)\n",
    "\n",
    "#     text = stopword.remove(text)\n",
    "\n",
    "#     text = stemmer.stem(text)\n",
    "\n",
    "#     text = re.sub(r'\\s{2,}', ' ', text)\n",
    "#     return text"
   ]
  },
  {
   "cell_type": "code",
   "execution_count": null,
   "metadata": {},
   "outputs": [],
   "source": [
    "# import swifter\n",
    "# df['content'] = df['content'].swifter.apply(preprocess_text)"
   ]
  },
  {
   "cell_type": "code",
   "execution_count": null,
   "metadata": {},
   "outputs": [],
   "source": [
    "# from sklearn.model_selection import train_test_split\n",
    "# train_df, val_test_df = train_test_split(df, test_size=0.3, random_state=123)"
   ]
  },
  {
   "cell_type": "code",
   "execution_count": null,
   "metadata": {},
   "outputs": [],
   "source": [
    "# val_df, test_df = train_test_split(val_test_df, test_size=0.5, random_state=123)"
   ]
  },
  {
   "cell_type": "code",
   "execution_count": null,
   "metadata": {},
   "outputs": [],
   "source": [
    "# train_df.to_csv('../data/train_data.csv', index=False)\n",
    "# val_df.to_csv('../data/val_data.csv', index=False)\n",
    "# test_df.to_csv('../data/test_data.csv', index=False)"
   ]
  },
  {
   "cell_type": "code",
   "execution_count": null,
   "metadata": {},
   "outputs": [],
   "source": [
    "# dcp = pd.read_csv('../data/data_clean_preprocess.csv')\n",
    "# dcp.head()"
   ]
  }
 ],
 "metadata": {
  "kernelspec": {
   "display_name": "Python 3",
   "language": "python",
   "name": "python3"
  },
  "language_info": {
   "codemirror_mode": {
    "name": "ipython",
    "version": 3
   },
   "file_extension": ".py",
   "mimetype": "text/x-python",
   "name": "python",
   "nbconvert_exporter": "python",
   "pygments_lexer": "ipython3",
   "version": "3.12.6"
  }
 },
 "nbformat": 4,
 "nbformat_minor": 2
}
