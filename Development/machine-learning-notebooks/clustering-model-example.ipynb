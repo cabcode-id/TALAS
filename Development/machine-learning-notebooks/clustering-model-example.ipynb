{
 "cells": [
  {
   "cell_type": "markdown",
   "metadata": {},
   "source": [
    "# EXAMPLE OF KMEANS FOR NEWS CATEGORIZATION\n",
    "## TO BE CONVERTED TO API USING FLASK"
   ]
  },
  {
   "cell_type": "code",
   "execution_count": 3,
   "metadata": {},
   "outputs": [],
   "source": [
    "# Load sameExample.csv\n",
    "\n",
    "import pandas as pd\n",
    "\n",
    "df = pd.read_csv('../data/sameExample.csv')"
   ]
  },
  {
   "cell_type": "code",
   "execution_count": 4,
   "metadata": {},
   "outputs": [
    {
     "data": {
      "text/html": [
       "<div>\n",
       "<style scoped>\n",
       "    .dataframe tbody tr th:only-of-type {\n",
       "        vertical-align: middle;\n",
       "    }\n",
       "\n",
       "    .dataframe tbody tr th {\n",
       "        vertical-align: top;\n",
       "    }\n",
       "\n",
       "    .dataframe thead th {\n",
       "        text-align: right;\n",
       "    }\n",
       "</style>\n",
       "<table border=\"1\" class=\"dataframe\">\n",
       "  <thead>\n",
       "    <tr style=\"text-align: right;\">\n",
       "      <th></th>\n",
       "      <th>source</th>\n",
       "      <th>title</th>\n",
       "      <th>content</th>\n",
       "    </tr>\n",
       "  </thead>\n",
       "  <tbody>\n",
       "    <tr>\n",
       "      <th>0</th>\n",
       "      <td>detik</td>\n",
       "      <td>Polisi Tembak Polisi di Rumah Pejabat Polri, B...</td>\n",
       "      <td>Jakarta - Seorang polisi Brigadir J tewas dite...</td>\n",
       "    </tr>\n",
       "    <tr>\n",
       "      <th>1</th>\n",
       "      <td>cnnindonesia</td>\n",
       "      <td>Kronologi Polisi Tembak Polisi hingga Tewas di...</td>\n",
       "      <td>Jakarta, CNN Indonesia -- Mabes Polri mengungk...</td>\n",
       "    </tr>\n",
       "    <tr>\n",
       "      <th>2</th>\n",
       "      <td>ajnn</td>\n",
       "      <td>Polisi Tembak Polisi, Brigadir J Tewas di Ruma...</td>\n",
       "      <td>JAKARTA - Polisi Brigadir J tewas akibat temba...</td>\n",
       "    </tr>\n",
       "    <tr>\n",
       "      <th>3</th>\n",
       "      <td>Suratpemred</td>\n",
       "      <td>Dor! Polisi Tembak Polisi di Rumah Dinas Pejab...</td>\n",
       "      <td>JAKARTA, SP – Peristiwa penembakan sesama angg...</td>\n",
       "    </tr>\n",
       "    <tr>\n",
       "      <th>4</th>\n",
       "      <td>Indozone</td>\n",
       "      <td>Fakta-fakta Polisi Adu Tembak di Rumah Petingg...</td>\n",
       "      <td>Peristiwa adu tembak antara anggota kepolisian...</td>\n",
       "    </tr>\n",
       "  </tbody>\n",
       "</table>\n",
       "</div>"
      ],
      "text/plain": [
       "         source                                              title  \\\n",
       "0         detik  Polisi Tembak Polisi di Rumah Pejabat Polri, B...   \n",
       "1  cnnindonesia  Kronologi Polisi Tembak Polisi hingga Tewas di...   \n",
       "2          ajnn  Polisi Tembak Polisi, Brigadir J Tewas di Ruma...   \n",
       "3   Suratpemred  Dor! Polisi Tembak Polisi di Rumah Dinas Pejab...   \n",
       "4      Indozone  Fakta-fakta Polisi Adu Tembak di Rumah Petingg...   \n",
       "\n",
       "                                             content  \n",
       "0  Jakarta - Seorang polisi Brigadir J tewas dite...  \n",
       "1  Jakarta, CNN Indonesia -- Mabes Polri mengungk...  \n",
       "2  JAKARTA - Polisi Brigadir J tewas akibat temba...  \n",
       "3  JAKARTA, SP – Peristiwa penembakan sesama angg...  \n",
       "4  Peristiwa adu tembak antara anggota kepolisian...  "
      ]
     },
     "execution_count": 4,
     "metadata": {},
     "output_type": "execute_result"
    }
   ],
   "source": [
    "df.head()"
   ]
  },
  {
   "cell_type": "code",
   "execution_count": null,
   "metadata": {},
   "outputs": [],
   "source": [
    "# Load kmeans_8_cluster.pkl\n",
    "import pickle\n",
    "\n",
    "with open('../model/cluster/kmeans_8_cluster.pkl', 'rb') as f:\n",
    "    kmeans = pickle.load(f)"
   ]
  },
  {
   "cell_type": "code",
   "execution_count": null,
   "metadata": {},
   "outputs": [],
   "source": [
    "# Load dotenv\n",
    "from dotenv import load_dotenv\n",
    "import os\n",
    "from llama_index.embeddings.openai import OpenAIEmbedding\n",
    "from llama_index.core import Settings\n",
    "\n",
    "load_dotenv('var.env')\n",
    "os.environ['OPENAI_API_KEY'] = os.getenv('OPENAI_API_KEY')\n",
    "\n",
    "Settings.embed_model = OpenAIEmbedding(model=\"text-embedding-ada-002\")"
   ]
  },
  {
   "cell_type": "code",
   "execution_count": 7,
   "metadata": {},
   "outputs": [],
   "source": [
    "# Convert content to embedding\n",
    "# df['embedding'] = df['content'].apply(lambda x: embel_model.get_text_embedding(x)\n",
    "df = pd.read_parquet('../data/sameExample_embedded_clustered.parquet.gzip')"
   ]
  },
  {
   "cell_type": "code",
   "execution_count": 8,
   "metadata": {},
   "outputs": [],
   "source": [
    "import numpy as np\n",
    "X =  np.array(df['embedding'].to_list(), dtype=np.float32)"
   ]
  },
  {
   "cell_type": "code",
   "execution_count": 9,
   "metadata": {},
   "outputs": [],
   "source": [
    "# Predict cluster\n",
    "df['cluster'] = kmeans.predict(X)"
   ]
  },
  {
   "cell_type": "code",
   "execution_count": 10,
   "metadata": {},
   "outputs": [
    {
     "data": {
      "text/html": [
       "<div>\n",
       "<style scoped>\n",
       "    .dataframe tbody tr th:only-of-type {\n",
       "        vertical-align: middle;\n",
       "    }\n",
       "\n",
       "    .dataframe tbody tr th {\n",
       "        vertical-align: top;\n",
       "    }\n",
       "\n",
       "    .dataframe thead th {\n",
       "        text-align: right;\n",
       "    }\n",
       "</style>\n",
       "<table border=\"1\" class=\"dataframe\">\n",
       "  <thead>\n",
       "    <tr style=\"text-align: right;\">\n",
       "      <th></th>\n",
       "      <th>title</th>\n",
       "      <th>cluster</th>\n",
       "    </tr>\n",
       "  </thead>\n",
       "  <tbody>\n",
       "    <tr>\n",
       "      <th>0</th>\n",
       "      <td>Polisi Tembak Polisi di Rumah Pejabat Polri, B...</td>\n",
       "      <td>2</td>\n",
       "    </tr>\n",
       "    <tr>\n",
       "      <th>1</th>\n",
       "      <td>Kronologi Polisi Tembak Polisi hingga Tewas di...</td>\n",
       "      <td>2</td>\n",
       "    </tr>\n",
       "    <tr>\n",
       "      <th>2</th>\n",
       "      <td>Polisi Tembak Polisi, Brigadir J Tewas di Ruma...</td>\n",
       "      <td>2</td>\n",
       "    </tr>\n",
       "    <tr>\n",
       "      <th>3</th>\n",
       "      <td>Dor! Polisi Tembak Polisi di Rumah Dinas Pejab...</td>\n",
       "      <td>2</td>\n",
       "    </tr>\n",
       "    <tr>\n",
       "      <th>4</th>\n",
       "      <td>Fakta-fakta Polisi Adu Tembak di Rumah Petingg...</td>\n",
       "      <td>2</td>\n",
       "    </tr>\n",
       "    <tr>\n",
       "      <th>5</th>\n",
       "      <td>Polri Ungkap Penyebab 2 Polisi Baku Tembak di ...</td>\n",
       "      <td>2</td>\n",
       "    </tr>\n",
       "    <tr>\n",
       "      <th>6</th>\n",
       "      <td>Polri Jelaskan Alasan Kasus Penembakan Brigadi...</td>\n",
       "      <td>2</td>\n",
       "    </tr>\n",
       "    <tr>\n",
       "      <th>7</th>\n",
       "      <td>Brigadir Polisi Ditembak Bharada, Ini Penjelas...</td>\n",
       "      <td>2</td>\n",
       "    </tr>\n",
       "    <tr>\n",
       "      <th>8</th>\n",
       "      <td>Brigadir J Masuk Kamar dan Melecehkan Istri Ir...</td>\n",
       "      <td>2</td>\n",
       "    </tr>\n",
       "    <tr>\n",
       "      <th>9</th>\n",
       "      <td>Brigadir J Merupakan Sopir Istri Kadiv Propam ...</td>\n",
       "      <td>2</td>\n",
       "    </tr>\n",
       "    <tr>\n",
       "      <th>10</th>\n",
       "      <td>Polri: Istri Kadiv Propam Teriak Minta Tolong,...</td>\n",
       "      <td>2</td>\n",
       "    </tr>\n",
       "    <tr>\n",
       "      <th>11</th>\n",
       "      <td>Motif Polisi Tembak Polisi di Rumah Kadiv Prop...</td>\n",
       "      <td>2</td>\n",
       "    </tr>\n",
       "    <tr>\n",
       "      <th>12</th>\n",
       "      <td>Brigadir Yosua Sopir Istri Kadiv Propam Irjen ...</td>\n",
       "      <td>2</td>\n",
       "    </tr>\n",
       "    <tr>\n",
       "      <th>13</th>\n",
       "      <td>Kronologi Penembakan Maut Brigadir Yosua, Kelu...</td>\n",
       "      <td>2</td>\n",
       "    </tr>\n",
       "    <tr>\n",
       "      <th>14</th>\n",
       "      <td>Kronologi Polisi Adu Tembak di Rumah Irjen Fer...</td>\n",
       "      <td>2</td>\n",
       "    </tr>\n",
       "  </tbody>\n",
       "</table>\n",
       "</div>"
      ],
      "text/plain": [
       "                                                title  cluster\n",
       "0   Polisi Tembak Polisi di Rumah Pejabat Polri, B...        2\n",
       "1   Kronologi Polisi Tembak Polisi hingga Tewas di...        2\n",
       "2   Polisi Tembak Polisi, Brigadir J Tewas di Ruma...        2\n",
       "3   Dor! Polisi Tembak Polisi di Rumah Dinas Pejab...        2\n",
       "4   Fakta-fakta Polisi Adu Tembak di Rumah Petingg...        2\n",
       "5   Polri Ungkap Penyebab 2 Polisi Baku Tembak di ...        2\n",
       "6   Polri Jelaskan Alasan Kasus Penembakan Brigadi...        2\n",
       "7   Brigadir Polisi Ditembak Bharada, Ini Penjelas...        2\n",
       "8   Brigadir J Masuk Kamar dan Melecehkan Istri Ir...        2\n",
       "9   Brigadir J Merupakan Sopir Istri Kadiv Propam ...        2\n",
       "10  Polri: Istri Kadiv Propam Teriak Minta Tolong,...        2\n",
       "11  Motif Polisi Tembak Polisi di Rumah Kadiv Prop...        2\n",
       "12  Brigadir Yosua Sopir Istri Kadiv Propam Irjen ...        2\n",
       "13  Kronologi Penembakan Maut Brigadir Yosua, Kelu...        2\n",
       "14  Kronologi Polisi Adu Tembak di Rumah Irjen Fer...        2"
      ]
     },
     "execution_count": 10,
     "metadata": {},
     "output_type": "execute_result"
    }
   ],
   "source": [
    "df[['title', 'cluster']]"
   ]
  },
  {
   "cell_type": "code",
   "execution_count": 11,
   "metadata": {},
   "outputs": [],
   "source": [
    "# Save parquet\n",
    "# df.to_parquet('../data/sameExample_embedded_clustered.parquet.gzip', compression='gzip')"
   ]
  }
 ],
 "metadata": {
  "kernelspec": {
   "display_name": "Python 3",
   "language": "python",
   "name": "python3"
  },
  "language_info": {
   "codemirror_mode": {
    "name": "ipython",
    "version": 3
   },
   "file_extension": ".py",
   "mimetype": "text/x-python",
   "name": "python",
   "nbconvert_exporter": "python",
   "pygments_lexer": "ipython3",
   "version": "3.12.6"
  }
 },
 "nbformat": 4,
 "nbformat_minor": 2
}
