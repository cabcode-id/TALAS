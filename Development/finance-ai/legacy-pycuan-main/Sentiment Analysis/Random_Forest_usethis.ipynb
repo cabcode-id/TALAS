{
  "cells": [
    {
      "cell_type": "code",
      "execution_count": 2,
      "metadata": {
        "colab": {
          "base_uri": "https://localhost:8080/"
        },
        "id": "hK4KOq6iqr4S",
        "outputId": "7d254382-1499-4f1e-8ba3-d7fe7d3a6817"
      },
      "outputs": [
        {
          "name": "stdout",
          "output_type": "stream",
          "text": [
            "Requirement already satisfied: contractions in c:\\users\\user\\appdata\\local\\programs\\python\\python312\\lib\\site-packages (0.1.73)\n",
            "Requirement already satisfied: textsearch>=0.0.21 in c:\\users\\user\\appdata\\local\\programs\\python\\python312\\lib\\site-packages (from contractions) (0.0.24)\n",
            "Requirement already satisfied: anyascii in c:\\users\\user\\appdata\\local\\programs\\python\\python312\\lib\\site-packages (from textsearch>=0.0.21->contractions) (0.3.2)\n",
            "Requirement already satisfied: pyahocorasick in c:\\users\\user\\appdata\\local\\programs\\python\\python312\\lib\\site-packages (from textsearch>=0.0.21->contractions) (2.1.0)\n"
          ]
        },
        {
          "name": "stderr",
          "output_type": "stream",
          "text": [
            "\n",
            "[notice] A new release of pip is available: 25.0 -> 25.0.1\n",
            "[notice] To update, run: python.exe -m pip install --upgrade pip\n"
          ]
        },
        {
          "name": "stdout",
          "output_type": "stream",
          "text": [
            "Requirement already satisfied: scikit-learn in c:\\users\\user\\appdata\\local\\programs\\python\\python312\\lib\\site-packages (1.5.2)\n",
            "Requirement already satisfied: numpy>=1.19.5 in c:\\users\\user\\appdata\\local\\programs\\python\\python312\\lib\\site-packages (from scikit-learn) (1.26.4)\n",
            "Requirement already satisfied: scipy>=1.6.0 in c:\\users\\user\\appdata\\local\\programs\\python\\python312\\lib\\site-packages (from scikit-learn) (1.14.1)\n",
            "Requirement already satisfied: joblib>=1.2.0 in c:\\users\\user\\appdata\\local\\programs\\python\\python312\\lib\\site-packages (from scikit-learn) (1.4.2)\n",
            "Requirement already satisfied: threadpoolctl>=3.1.0 in c:\\users\\user\\appdata\\local\\programs\\python\\python312\\lib\\site-packages (from scikit-learn) (3.5.0)\n"
          ]
        },
        {
          "name": "stderr",
          "output_type": "stream",
          "text": [
            "\n",
            "[notice] A new release of pip is available: 25.0 -> 25.0.1\n",
            "[notice] To update, run: python.exe -m pip install --upgrade pip\n",
            "\n",
            "[notice] A new release of pip is available: 25.0 -> 25.0.1\n",
            "[notice] To update, run: python.exe -m pip install --upgrade pip\n",
            "\n",
            "[notice] A new release of pip is available: 25.0 -> 25.0.1\n",
            "[notice] To update, run: python.exe -m pip install --upgrade pip\n",
            "\n",
            "[notice] A new release of pip is available: 25.0 -> 25.0.1\n",
            "[notice] To update, run: python.exe -m pip install --upgrade pip\n"
          ]
        },
        {
          "ename": "ModuleNotFoundError",
          "evalue": "No module named 'wordcloud'",
          "output_type": "error",
          "traceback": [
            "\u001b[1;31m---------------------------------------------------------------------------\u001b[0m",
            "\u001b[1;31mModuleNotFoundError\u001b[0m                       Traceback (most recent call last)",
            "Cell \u001b[1;32mIn[2], line 28\u001b[0m\n\u001b[0;32m     26\u001b[0m \u001b[38;5;28;01mfrom\u001b[39;00m \u001b[38;5;21;01mSastrawi\u001b[39;00m\u001b[38;5;21;01m.\u001b[39;00m\u001b[38;5;21;01mStemmer\u001b[39;00m\u001b[38;5;21;01m.\u001b[39;00m\u001b[38;5;21;01mStemmerFactory\u001b[39;00m \u001b[38;5;28;01mimport\u001b[39;00m StemmerFactory\n\u001b[0;32m     27\u001b[0m \u001b[38;5;28;01mfrom\u001b[39;00m \u001b[38;5;21;01mSastrawi\u001b[39;00m\u001b[38;5;21;01m.\u001b[39;00m\u001b[38;5;21;01mStopWordRemover\u001b[39;00m\u001b[38;5;21;01m.\u001b[39;00m\u001b[38;5;21;01mStopWordRemoverFactory\u001b[39;00m \u001b[38;5;28;01mimport\u001b[39;00m StopWordRemoverFactory\n\u001b[1;32m---> 28\u001b[0m \u001b[38;5;28;01mfrom\u001b[39;00m \u001b[38;5;21;01mwordcloud\u001b[39;00m \u001b[38;5;28;01mimport\u001b[39;00m WordCloud\n\u001b[0;32m     29\u001b[0m \u001b[38;5;28;01mfrom\u001b[39;00m \u001b[38;5;21;01mcollections\u001b[39;00m \u001b[38;5;28;01mimport\u001b[39;00m Counter\n",
            "\u001b[1;31mModuleNotFoundError\u001b[0m: No module named 'wordcloud'"
          ]
        }
      ],
      "source": [
        "# Install library\n",
        "!pip install contractions\n",
        "!pip install scikit-learn\n",
        "!pip install -q Sastrawi\n",
        "!pip install -q  googletrans==4.0.0-rc1 \n",
        "!pip install -q langdetect \n",
        "\n",
        "import pandas as pd\n",
        "import seaborn as sns\n",
        "import matplotlib.pyplot as plt\n",
        "from sklearn.utils import resample\n",
        "from sklearn.model_selection import train_test_split\n",
        "from sklearn.feature_extraction.text import TfidfVectorizer\n",
        "from sklearn.ensemble import RandomForestClassifier\n",
        "from sklearn.metrics import precision_score, recall_score, f1_score, confusion_matrix\n",
        "from tensorflow.keras.preprocessing.text import Tokenizer\n",
        "from tensorflow.keras.preprocessing.sequence import pad_sequences\n",
        "from sklearn.preprocessing import LabelEncoder\n",
        "\n",
        "# Preprocessing\n",
        "from bs4 import BeautifulSoup\n",
        "import re\n",
        "import unicodedata\n",
        "import nltk\n",
        "import contractions\n",
        "from Sastrawi.Stemmer.StemmerFactory import StemmerFactory\n",
        "from Sastrawi.StopWordRemover.StopWordRemoverFactory import StopWordRemoverFactory\n",
        "from wordcloud import WordCloud\n",
        "from collections import Counter"
      ]
    },
    {
      "cell_type": "code",
      "execution_count": 3,
      "metadata": {
        "colab": {
          "base_uri": "https://localhost:8080/"
        },
        "id": "mtVQ0e22z5Hl",
        "outputId": "35970014-0a9f-4529-f7c4-7683a29209f4"
      },
      "outputs": [
        {
          "name": "stdout",
          "output_type": "stream",
          "text": [
            "<class 'pandas.core.frame.DataFrame'>\n",
            "RangeIndex: 3934 entries, 1 to 3934\n",
            "Data columns (total 3 columns):\n",
            " #   Column   Non-Null Count  Dtype \n",
            "---  ------   --------------  ----- \n",
            " 0   label    3934 non-null   object\n",
            " 1   id_text  3934 non-null   object\n",
            " 2   en_text  3934 non-null   object\n",
            "dtypes: object(3)\n",
            "memory usage: 92.3+ KB\n"
          ]
        }
      ],
      "source": [
        "# Load  dataset\n",
        "# url = 'https://raw.githubusercontent.com/22bayusetia/PyCuan/main/Sentiment%20Analysis/data_finance.csv'\n",
        "# url = 'https://raw.githubusercontent.com/hairulysin/Algoritma_Academy/main/dataset.csv'\n",
        "url = 'data_finance.csv'\n",
        "df = pd.read_csv(url, delimiter=',', encoding='latin-1', header=None)\n",
        "df = df.drop(0)\n",
        "df.columns = ['label', 'en_text', 'id_text']\n",
        "df = df[['label', 'id_text', 'en_text']]\n",
        "df.info()"
      ]
    },
    {
      "cell_type": "code",
      "execution_count": 4,
      "metadata": {
        "colab": {
          "base_uri": "https://localhost:8080/"
        },
        "id": "wkj_-pQ3rHSr",
        "outputId": "523555c6-21dc-4763-c877-0281d4787069"
      },
      "outputs": [
        {
          "name": "stderr",
          "output_type": "stream",
          "text": [
            "[nltk_data] Downloading package stopwords to\n",
            "[nltk_data]     C:\\Users\\USER\\AppData\\Roaming\\nltk_data...\n",
            "[nltk_data]   Package stopwords is already up-to-date!\n",
            "[nltk_data] Downloading package punkt to\n",
            "[nltk_data]     C:\\Users\\USER\\AppData\\Roaming\\nltk_data...\n",
            "[nltk_data]   Package punkt is already up-to-date!\n",
            "C:\\Users\\USER\\AppData\\Local\\Temp\\ipykernel_9864\\2972983280.py:17: MarkupResemblesLocatorWarning: The input looks more like a filename than markup. You may want to open this file and pass the filehandle into Beautiful Soup.\n",
            "  soup = BeautifulSoup(text, \"html.parser\")\n"
          ]
        }
      ],
      "source": [
        "nltk.download('stopwords')\n",
        "nltk.download('punkt')\n",
        "\n",
        "# Load stopwords for Indonesian\n",
        "indonesian_stopwords = set(nltk.corpus.stopwords.words('indonesian'))\n",
        "\n",
        "# Load Sastrawi stemmer and stopword remover\n",
        "factory1 = StopWordRemoverFactory()\n",
        "stopword_sastrawi = factory1.create_stop_word_remover()\n",
        "\n",
        "factory2 = StemmerFactory()\n",
        "stemmer_sastrawi = factory2.create_stemmer()\n",
        "\n",
        "# Data preprocessing functions\n",
        "\n",
        "def strip_html_tags(text):\n",
        "    soup = BeautifulSoup(text, \"html.parser\")\n",
        "    [s.extract() for s in soup(['iframe', 'script'])]\n",
        "    stripped_text = soup.get_text()\n",
        "    stripped_text = re.sub(r'[\\r|\\n|\\r\\n]+', '\\n', stripped_text)\n",
        "    return stripped_text\n",
        "\n",
        "def remove_accented_chars(text):\n",
        "    text = unicodedata.normalize('NFKD', text).encode('ascii', 'ignore').decode('utf-8', 'ignore')\n",
        "    return text\n",
        "\n",
        "def stopwords_removal(words, language):\n",
        "    if language == 'english':\n",
        "        list_stopwords = nltk.corpus.stopwords.words('english')\n",
        "    elif language == 'indonesian':\n",
        "        list_stopwords = indonesian_stopwords\n",
        "    return [word for word in words if word not in list_stopwords]\n",
        "\n",
        "def preprocess_text_sastrawi(text):\n",
        "    tokens = nltk.word_tokenize(text)\n",
        "    tokens = [stopword_sastrawi.remove(token) for token in tokens]\n",
        "    # tokens = [stemmer_sastrawi.stem(token) for token in tokens if token != '']\n",
        "    return \" \".join(tokens)\n",
        "\n",
        "def pre_process_text(text, language):\n",
        "    text = text.lower()\n",
        "    text = strip_html_tags(text)\n",
        "    text = text.translate(text.maketrans(\"\\n\\t\\r\", \"   \"))\n",
        "    text = remove_accented_chars(text)\n",
        "    text = contractions.fix(text)\n",
        "    text = re.sub(r'[^a-zA-Z0-9\\s]', '', text, re.I | re.A)\n",
        "    text = re.sub(' +', ' ', text)\n",
        "    text = preprocess_text_sastrawi(text) if language == 'indonesian' else text\n",
        "    return text\n",
        "\n",
        "# Apply data preprocessing\n",
        "df['en_text'] = df['en_text'].apply(lambda x: pre_process_text(x, 'english'))\n",
        "df['id_text'] = df['id_text'].apply(lambda x: pre_process_text(x, 'indonesian'))\n",
        "df = df.drop_duplicates(subset=['en_text', 'id_text'])"
      ]
    },
    {
      "cell_type": "code",
      "execution_count": 5,
      "metadata": {
        "colab": {
          "base_uri": "https://localhost:8080/",
          "height": 564
        },
        "id": "DvXNenegrH79",
        "outputId": "06d881ec-5f43-446a-e1b2-2ee76237816c"
      },
      "outputs": [
        {
          "data": {
            "image/png": "[encoded data removed]",
            "text/plain": [
              "<Figure size 800x600 with 1 Axes>"
            ]
          },
          "metadata": {},
          "output_type": "display_data"
        }
      ],
      "source": [
        "# Upsample the minority class after train-validation-test split\n",
        "data_majority = df[df['label'] == \"positive\"]\n",
        "data_minority = df[df['label'] == \"negative\"]\n",
        "\n",
        "data_minority_upsampled = resample(data_minority,\n",
        "                                   replace=True,\n",
        "                                   n_samples=data_majority.shape[0],\n",
        "                                   random_state=123)\n",
        "\n",
        "df_balance_upsampled = pd.concat([data_majority, data_minority_upsampled])\n",
        "df_balanced_upsampled = df.drop_duplicates(subset=['en_text', 'id_text'])\n",
        "\n",
        "# Visualize the distribution of labels before upsampling\n",
        "# plt.figure(figsize=(8, 6))\n",
        "# sns.countplot(data=df, x='label')\n",
        "# plt.xlabel('Label')\n",
        "# plt.ylabel('Count')\n",
        "# plt.title('Distribution of Labels Before Upsampling')\n",
        "# plt.show()\n",
        "\n",
        "# Visualize the distribution of labels after upsampling\n",
        "plt.figure(figsize=(8, 6))\n",
        "sns.countplot(data=df_balance_upsampled, x='label')\n",
        "plt.xlabel('Label')\n",
        "plt.ylabel('Count')\n",
        "plt.title('Distribution of Labels After Upsampling')\n",
        "plt.show()"
      ]
    },
    {
      "cell_type": "code",
      "execution_count": 6,
      "metadata": {
        "id": "nlr2D782rNkL"
      },
      "outputs": [],
      "source": [
        "# Split data (80:10:10)\n",
        "X_train, X_temp, y_train, y_temp = train_test_split(df_balance_upsampled.en_text, df_balance_upsampled.label, test_size=0.2, random_state=42)\n",
        "X_val, X_test, y_val, y_test = train_test_split(X_temp, y_temp, test_size=0.5, random_state=42)\n",
        "\n",
        "# Convert text sequences to dense feature vectors using TF-IDF\n",
        "tfidf_vectorizer = TfidfVectorizer(max_features=3000)\n",
        "X_train_tfidf = tfidf_vectorizer.fit_transform(X_train)\n",
        "X_val_tfidf = tfidf_vectorizer.transform(X_val)\n",
        "X_test_tfidf = tfidf_vectorizer.transform(X_test)"
      ]
    },
    {
      "cell_type": "code",
      "execution_count": 7,
      "metadata": {
        "colab": {
          "base_uri": "https://localhost:8080/"
        },
        "id": "e_Zq2MOctfCR",
        "outputId": "15e9223d-ec11-49e8-cef9-3583715448b2"
      },
      "outputs": [
        {
          "name": "stdout",
          "output_type": "stream",
          "text": [
            "Train Accuracy: 1.0\n",
            "Validation Accuracy: 0.9918864097363083\n",
            "Test Accuracy: 0.9838056680161943\n"
          ]
        }
      ],
      "source": [
        "# Initialize the Random Forest classifier\n",
        "rf_classifier = RandomForestClassifier(n_estimators=100, random_state=42)\n",
        "\n",
        "# Train the Random Forest classifier with validation set\n",
        "rf_classifier.fit(X_train_tfidf, y_train)\n",
        "y_pred = rf_classifier.predict(X_test_tfidf)\n",
        "\n",
        "# Evaluate the model on training, validation, and test sets\n",
        "train_acc = rf_classifier.score(X_train_tfidf, y_train)\n",
        "val_acc = rf_classifier.score(X_val_tfidf, y_val)\n",
        "test_acc = rf_classifier.score(X_test_tfidf, y_test)\n",
        "\n",
        "print('Train Accuracy:', train_acc)\n",
        "print('Validation Accuracy:', val_acc)\n",
        "print('Test Accuracy:', test_acc)"
      ]
    },
    {
      "cell_type": "code",
      "execution_count": 8,
      "metadata": {
        "colab": {
          "base_uri": "https://localhost:8080/"
        },
        "id": "5irEs6iQmW6a",
        "outputId": "869c7f58-404a-4a20-e630-a9db78e9ba07"
      },
      "outputs": [
        {
          "name": "stdout",
          "output_type": "stream",
          "text": [
            "Precision: 0.984287283837274\n",
            "Recall: 0.9838056680161943\n",
            "F1 Score: 0.9837864541758246\n"
          ]
        }
      ],
      "source": [
        "# Metrics Evaluasi lain\n",
        "precision = precision_score(y_test, y_pred, average='weighted')\n",
        "recall = recall_score(y_test, y_pred, average='weighted')\n",
        "f1 = f1_score(y_test, y_pred, average='weighted')\n",
        "\n",
        "print('Precision:', precision)\n",
        "print('Recall:', recall)\n",
        "print('F1 Score:', f1)"
      ]
    },
    {
      "cell_type": "code",
      "execution_count": 9,
      "metadata": {
        "colab": {
          "base_uri": "https://localhost:8080/",
          "height": 450
        },
        "id": "0ZiPpuKxu55K",
        "outputId": "98f54f52-3070-41c2-d6f7-262a3e51ef2f"
      },
      "outputs": [
        {
          "data": {
            "image/png": "[encoded data removed]",
            "text/plain": [
              "<Figure size 1200x600 with 2 Axes>"
            ]
          },
          "metadata": {},
          "output_type": "display_data"
        }
      ],
      "source": [
        "train_lens = [len(s) for s in X_train]\n",
        "val_lens = [len(s) for s in X_val]\n",
        "\n",
        "fig, ax = plt.subplots(1, 2, figsize=(12, 6))\n",
        "h1 = ax[0].hist(train_lens)\n",
        "h2 = ax[1].hist(val_lens)\n",
        "plt.title('Identifying Overfitting - Sequence Length Distribution')\n",
        "plt.xlabel('Sequence Length')\n",
        "plt.ylabel('Frequency')\n",
        "plt.show()"
      ]
    },
    {
      "cell_type": "code",
      "execution_count": 10,
      "metadata": {
        "colab": {
          "base_uri": "https://localhost:8080/",
          "height": 472
        },
        "id": "kNA5msVOx0K8",
        "outputId": "b0ec0426-ca94-4d2e-e327-137ffb2c2275"
      },
      "outputs": [
        {
          "data": {
            "image/png": "[encoded data removed]",
            "text/plain": [
              "<Figure size 640x480 with 1 Axes>"
            ]
          },
          "metadata": {},
          "output_type": "display_data"
        }
      ],
      "source": [
        "# Visualize sentiment prediction distribution\n",
        "predicted_sentiments = rf_classifier.predict(X_test_tfidf)\n",
        "positive_percentage = (predicted_sentiments == 'positive').sum() / len(predicted_sentiments) * 100\n",
        "negative_percentage = 100 - positive_percentage\n",
        "\n",
        "plt.bar(['Positive', 'Negative'], [positive_percentage, negative_percentage])\n",
        "plt.xlabel('Sentiment')\n",
        "plt.ylabel('Percentage')\n",
        "plt.title('Sentiment Analysis Result')\n",
        "plt.show()"
      ]
    },
    {
      "cell_type": "code",
      "execution_count": 11,
      "metadata": {
        "colab": {
          "base_uri": "https://localhost:8080/",
          "height": 564
        },
        "id": "V2q_8vfeu_BF",
        "outputId": "9abb40d8-7940-40b7-b298-737a81c1ab9c"
      },
      "outputs": [
        {
          "data": {
            "image/png": "[encoded data removed]",
            "text/plain": [
              "<Figure size 800x600 with 2 Axes>"
            ]
          },
          "metadata": {},
          "output_type": "display_data"
        }
      ],
      "source": [
        "from sklearn.metrics import confusion_matrix\n",
        "\n",
        "y_pred = rf_classifier.predict(X_test_tfidf)\n",
        "conf_matrix = confusion_matrix(y_test, y_pred)\n",
        "\n",
        "plt.figure(figsize=(8, 6))\n",
        "sns.heatmap(conf_matrix, annot=True, fmt=\"d\", cmap=\"Blues\", xticklabels=['Negative', 'Positive'], yticklabels=['Negative', 'Positive'])\n",
        "plt.title('Confusion Matrix')\n",
        "plt.xlabel('Predicted')\n",
        "plt.ylabel('Actual')\n",
        "plt.show()"
      ]
    },
    {
      "cell_type": "code",
      "execution_count": 12,
      "metadata": {
        "colab": {
          "base_uri": "https://localhost:8080/"
        },
        "id": "gsEK8jS2vizC",
        "outputId": "56c289c2-e0df-4d40-e17e-4876cea17792"
      },
      "outputs": [
        {
          "name": "stdout",
          "output_type": "stream",
          "text": [
            "Actual: negative, Predicted: positive, Text: finnish textiles and clothing group marimekko oyj posted a net profit of 799 mln euro 104 mln for 2006 compared to 84 mln euro 109 mln for 2005 \n",
            "Actual: negative, Predicted: positive, Text: employing 112 in finland and 280 abroad the unit recorded firstquarter 2007 sales of 86 mln eur with an operating loss of 16 mln eur \n",
            "Actual: negative, Predicted: positive, Text: in this case the effect would be negative in finland \n",
            "Actual: negative, Predicted: positive, Text: operating profit fell to eur 151 mn from eur 246 mn in 2006 \n",
            "Actual: negative, Predicted: positive, Text: in october upm reported a thirdquarter net loss of euro86 million 110 million compared with a net profit of euro120 million in 2007 \n",
            "Actual: negative, Predicted: positive, Text: finlandbased stockmann group has closed seven franchising sports stores nike in russia \n",
            "Actual: negative, Predicted: positive, Text: however this increases signaling traffic which wastes network resources and allows fewer smartphones to connect \n",
            "Actual: negative, Predicted: positive, Text: the result will also be burdened by increased fixed costs associated with operations in china and restructuring costs in japan \n"
          ]
        }
      ],
      "source": [
        "# Misclassified samples\n",
        "misclassified_indices = [i for i, (true, pred) in enumerate(zip(y_test, y_pred)) if true != pred]\n",
        "misclassified_texts = X_test.iloc[misclassified_indices]\n",
        "\n",
        "# Print misclassified samples\n",
        "for i, text in zip(misclassified_indices, misclassified_texts):\n",
        "    print(f\"Actual: {y_test.iloc[i]}, Predicted: {y_pred[i]}, Text: {text}\")"
      ]
    },
    {
      "cell_type": "code",
      "execution_count": 13,
      "metadata": {
        "colab": {
          "base_uri": "https://localhost:8080/",
          "height": 570
        },
        "id": "x7ZytaPoyyVM",
        "outputId": "8ee84fd8-c19c-460b-93ea-05baf338b9dd"
      },
      "outputs": [
        {
          "ename": "NameError",
          "evalue": "name 'Counter' is not defined",
          "output_type": "error",
          "traceback": [
            "\u001b[1;31m---------------------------------------------------------------------------\u001b[0m",
            "\u001b[1;31mNameError\u001b[0m                                 Traceback (most recent call last)",
            "Cell \u001b[1;32mIn[13], line 13\u001b[0m\n\u001b[0;32m     10\u001b[0m     \u001b[38;5;28;01mreturn\u001b[39;00m top_words\n\u001b[0;32m     12\u001b[0m \u001b[38;5;66;03m# Dapatkan kata-kata teratas untuk sentimen positif dan negatif\u001b[39;00m\n\u001b[1;32m---> 13\u001b[0m top_positive_words \u001b[38;5;241m=\u001b[39m \u001b[43mget_top_words\u001b[49m\u001b[43m(\u001b[49m\u001b[43mpositive_texts\u001b[49m\u001b[43m)\u001b[49m\n\u001b[0;32m     14\u001b[0m top_negative_words \u001b[38;5;241m=\u001b[39m get_top_words(negative_texts)\n\u001b[0;32m     16\u001b[0m positive_words, positive_word_counts \u001b[38;5;241m=\u001b[39m \u001b[38;5;28mzip\u001b[39m(\u001b[38;5;241m*\u001b[39mtop_positive_words)\n",
            "Cell \u001b[1;32mIn[13], line 8\u001b[0m, in \u001b[0;36mget_top_words\u001b[1;34m(texts, n)\u001b[0m\n\u001b[0;32m      6\u001b[0m \u001b[38;5;28;01mdef\u001b[39;00m \u001b[38;5;21mget_top_words\u001b[39m(texts, n\u001b[38;5;241m=\u001b[39m\u001b[38;5;241m10\u001b[39m):\n\u001b[0;32m      7\u001b[0m     all_words \u001b[38;5;241m=\u001b[39m \u001b[38;5;124m\"\u001b[39m\u001b[38;5;124m \u001b[39m\u001b[38;5;124m\"\u001b[39m\u001b[38;5;241m.\u001b[39mjoin(texts)\u001b[38;5;241m.\u001b[39msplit()\n\u001b[1;32m----> 8\u001b[0m     word_counts \u001b[38;5;241m=\u001b[39m \u001b[43mCounter\u001b[49m(all_words)\n\u001b[0;32m      9\u001b[0m     top_words \u001b[38;5;241m=\u001b[39m word_counts\u001b[38;5;241m.\u001b[39mmost_common(n)\n\u001b[0;32m     10\u001b[0m     \u001b[38;5;28;01mreturn\u001b[39;00m top_words\n",
            "\u001b[1;31mNameError\u001b[0m: name 'Counter' is not defined"
          ]
        }
      ],
      "source": [
        "# Memisahkan dataset berdasarkan label sentimen\n",
        "positive_texts = df_balance_upsampled[df_balance_upsampled['label'] == 'positive']['id_text']\n",
        "negative_texts = df_balance_upsampled[df_balance_upsampled['label'] == 'negative']['id_text']\n",
        "\n",
        "# Fungsi untuk mendapatkan kata-kata teratas\n",
        "def get_top_words(texts, n=10):\n",
        "    all_words = \" \".join(texts).split()\n",
        "    word_counts = Counter(all_words)\n",
        "    top_words = word_counts.most_common(n)\n",
        "    return top_words\n",
        "\n",
        "# Dapatkan kata-kata teratas untuk sentimen positif dan negatif\n",
        "top_positive_words = get_top_words(positive_texts)\n",
        "top_negative_words = get_top_words(negative_texts)\n",
        "\n",
        "positive_words, positive_word_counts = zip(*top_positive_words)\n",
        "negative_words, negative_word_counts = zip(*top_negative_words)\n",
        "\n",
        "# Plot kata-kata paling umum\n",
        "plt.figure(figsize=(10, 6))\n",
        "plt.bar(negative_words, negative_word_counts, color='red', alpha=0.7, label='Negative')\n",
        "plt.bar(positive_words, positive_word_counts, color='green', alpha=0.7, label='Positive')\n",
        "plt.xlabel('Kata')\n",
        "plt.ylabel('Frekuensi')\n",
        "plt.title('Kata-Kata Teratas pada Sentimen Positif dan Negatif')\n",
        "plt.xticks(rotation=45)\n",
        "plt.legend()\n",
        "plt.show()"
      ]
    },
    {
      "cell_type": "code",
      "execution_count": 14,
      "metadata": {
        "colab": {
          "base_uri": "https://localhost:8080/"
        },
        "id": "pftjPRVzm9ee",
        "outputId": "446a8bdb-b188-4b43-cd9a-e6303c7a2e08"
      },
      "outputs": [
        {
          "name": "stdout",
          "output_type": "stream",
          "text": [
            "Text: MK;SA (Mager Kepanjangan, Singkat Aja) Intinya… Mantan eksekutif FTX (iya, FTX nya mas SBF), meluncurkan pertukaran mata uang kripto baru yang disebut Backpack Exchange. Pertukaran ini bertujuan untuk menghindari kesalahan yang menyebabkan jatuhnya FTX dengan menggunakan dompet hak asuh mandiri yang memberi pengguna kendali penuh atas dana mereka. Backpack Exchange sedang mencari investasi $100 juta dengan 10% saham. Mantan eksekutif FTX Can Sun dan Armani Ferrante meluncurkan pertukaran mata uang kripto baru yang disebut Backpack Exchange. Pertukaran ini bertujuan untuk mengatasi masalah yang menyebabkan runtuhnya FTX dengan menggunakan dompet hak asuh mandiri yang memberi pengguna kendali penuh atas dana mereka. Sun dan Ferrante telah membentuk tim yang terdiri dari mantan karyawan FTX, termasuk mantan wakil hukum Sun, Claire Zhang, untuk membantu mereka membangun Backpack Exchange. Pertukaran ini mencari investasi $100 juta dengan 10% saham. Sun dan Ferrante mengatakan mereka mendapat pelajaran berharga dari kejatuhan FTX dan berkomitmen untuk menciptakan pertukaran yang lebih transparan dan aman, khususnya belajar dari kesalahan FTX. Mereka percaya bahwa dompet penyimpanan mandiri Backpack Exchange akan menjadi pembeda utama di pasar. Masih harus dilihat bagaimana reaksi investor dan pengguna terhadap Backpack Exchange mengingat keterlibatan mantan eksekutif FTX. Namun, Sun dan Ferrante yakin bahwa pertukaran mereka dapat berhasil jika berfokus pada kepercayaan dan transparansi.\n",
            "Sentiment Probability: 0.76\n",
            "Sentiment: Positive\n"
          ]
        }
      ],
      "source": [
        "from langdetect import detect\n",
        "from googletrans import Translator\n",
        "from sklearn.feature_extraction.text import TfidfVectorizer\n",
        "from sklearn.ensemble import RandomForestClassifier\n",
        "\n",
        "translator = Translator()\n",
        "narrative = \"MK;SA (Mager Kepanjangan, Singkat Aja) Intinya… Mantan eksekutif FTX (iya, FTX nya mas SBF), meluncurkan pertukaran mata uang kripto baru yang disebut Backpack Exchange. Pertukaran ini bertujuan untuk menghindari kesalahan yang menyebabkan jatuhnya FTX dengan menggunakan dompet hak asuh mandiri yang memberi pengguna kendali penuh atas dana mereka. Backpack Exchange sedang mencari investasi $100 juta dengan 10% saham. Mantan eksekutif FTX Can Sun dan Armani Ferrante meluncurkan pertukaran mata uang kripto baru yang disebut Backpack Exchange. Pertukaran ini bertujuan untuk mengatasi masalah yang menyebabkan runtuhnya FTX dengan menggunakan dompet hak asuh mandiri yang memberi pengguna kendali penuh atas dana mereka. Sun dan Ferrante telah membentuk tim yang terdiri dari mantan karyawan FTX, termasuk mantan wakil hukum Sun, Claire Zhang, untuk membantu mereka membangun Backpack Exchange. Pertukaran ini mencari investasi $100 juta dengan 10% saham. Sun dan Ferrante mengatakan mereka mendapat pelajaran berharga dari kejatuhan FTX dan berkomitmen untuk menciptakan pertukaran yang lebih transparan dan aman, khususnya belajar dari kesalahan FTX. Mereka percaya bahwa dompet penyimpanan mandiri Backpack Exchange akan menjadi pembeda utama di pasar. Masih harus dilihat bagaimana reaksi investor dan pengguna terhadap Backpack Exchange mengingat keterlibatan mantan eksekutif FTX. Namun, Sun dan Ferrante yakin bahwa pertukaran mereka dapat berhasil jika berfokus pada kepercayaan dan transparansi.\"\n",
        "# Deteksi bahasa narasi\n",
        "language = detect(narrative)\n",
        "\n",
        "# Jika bahasa narasi bukan bahasa Inggris, terjemahkan ke bahasa Inggris\n",
        "if language != 'en':\n",
        "    narrative1 = translator.translate(narrative, dest='en').text\n",
        "    narrative_tfidf = tfidf_vectorizer.transform([narrative1])\n",
        "else:\n",
        "    narrative_tfidf = tfidf_vectorizer.transform([narrative])\n",
        "\n",
        "# Prediksi sentimen\n",
        "predicted_sentiment = rf_classifier.predict(narrative_tfidf)\n",
        "sentiment_probability = rf_classifier.predict_proba(narrative_tfidf)[0, 1]\n",
        "\n",
        "threshold = 0.5  # Tresholdnya diatur sesuai kebutuhan\n",
        "sentiment = \"Positive\" if sentiment_probability > threshold else \"Negative\"\n",
        "\n",
        "# Print hasil prediksi\n",
        "print(\"Text:\", narrative)\n",
        "print(\"Sentiment Probability:\", sentiment_probability)\n",
        "print(\"Sentiment:\", sentiment)\n"
      ]
    },
    {
      "cell_type": "code",
      "execution_count": 15,
      "metadata": {
        "colab": {
          "base_uri": "https://localhost:8080/"
        },
        "id": "fpjH5mhbau8V",
        "outputId": "5dbdcec1-70c9-4503-9713-7fa2210e53aa"
      },
      "outputs": [
        {
          "name": "stdout",
          "output_type": "stream",
          "text": [
            "Requirement already satisfied: joblib in c:\\users\\user\\appdata\\local\\programs\\python\\python312\\lib\\site-packages (1.4.2)\n"
          ]
        },
        {
          "name": "stderr",
          "output_type": "stream",
          "text": [
            "\n",
            "[notice] A new release of pip is available: 25.0 -> 25.0.1\n",
            "[notice] To update, run: python.exe -m pip install --upgrade pip\n"
          ]
        },
        {
          "data": {
            "text/plain": [
              "['random_forest_model.joblib']"
            ]
          },
          "execution_count": 15,
          "metadata": {},
          "output_type": "execute_result"
        }
      ],
      "source": [
        "!pip install joblib\n",
        "import joblib\n",
        "\n",
        "joblib.dump(tfidf_vectorizer, 'tfidf_vectorizer.joblib')\n",
        "joblib.dump(rf_classifier, 'random_forest_model.joblib')\n"
      ]
    },
    {
      "cell_type": "code",
      "execution_count": 16,
      "metadata": {
        "id": "K-Yvr7H6a0el"
      },
      "outputs": [],
      "source": [
        "loaded_tfidf_vectorizer = joblib.load('tfidf_vectorizer.joblib')\n",
        "loaded_rf_model = joblib.load('random_forest_model.joblib')"
      ]
    },
    {
      "cell_type": "code",
      "execution_count": null,
      "metadata": {
        "colab": {
          "base_uri": "https://localhost:8080/",
          "height": 17
        },
        "id": "BRJah6Yzm9IA",
        "outputId": "c76e8697-e5b2-45d6-9a2b-619841144889"
      },
      "outputs": [
        {
          "data": {
            "application/javascript": "\n    async function download(id, filename, size) {\n      if (!google.colab.kernel.accessAllowed) {\n        return;\n      }\n      const div = document.createElement('div');\n      const label = document.createElement('label');\n      label.textContent = `Downloading \"${filename}\": `;\n      div.appendChild(label);\n      const progress = document.createElement('progress');\n      progress.max = size;\n      div.appendChild(progress);\n      document.body.appendChild(div);\n\n      const buffers = [];\n      let downloaded = 0;\n\n      const channel = await google.colab.kernel.comms.open(id);\n      // Send a message to notify the kernel that we're ready.\n      channel.send({})\n\n      for await (const message of channel.messages) {\n        // Send a message to notify the kernel that we're ready.\n        channel.send({})\n        if (message.buffers) {\n          for (const buffer of message.buffers) {\n            buffers.push(buffer);\n            downloaded += buffer.byteLength;\n            progress.value = downloaded;\n          }\n        }\n      }\n      const blob = new Blob(buffers, {type: 'application/binary'});\n      const a = document.createElement('a');\n      a.href = window.URL.createObjectURL(blob);\n      a.download = filename;\n      div.appendChild(a);\n      a.click();\n      div.remove();\n    }\n  ",
            "text/plain": [
              "<IPython.core.display.Javascript object>"
            ]
          },
          "metadata": {},
          "output_type": "display_data"
        },
        {
          "data": {
            "application/javascript": "download(\"download_fcbd57f0-c2d7-4cee-901f-39219b8a2ad3\", \"tfidf_vectorizer.joblib\", 180968)",
            "text/plain": [
              "<IPython.core.display.Javascript object>"
            ]
          },
          "metadata": {},
          "output_type": "display_data"
        },
        {
          "data": {
            "application/javascript": "\n    async function download(id, filename, size) {\n      if (!google.colab.kernel.accessAllowed) {\n        return;\n      }\n      const div = document.createElement('div');\n      const label = document.createElement('label');\n      label.textContent = `Downloading \"${filename}\": `;\n      div.appendChild(label);\n      const progress = document.createElement('progress');\n      progress.max = size;\n      div.appendChild(progress);\n      document.body.appendChild(div);\n\n      const buffers = [];\n      let downloaded = 0;\n\n      const channel = await google.colab.kernel.comms.open(id);\n      // Send a message to notify the kernel that we're ready.\n      channel.send({})\n\n      for await (const message of channel.messages) {\n        // Send a message to notify the kernel that we're ready.\n        channel.send({})\n        if (message.buffers) {\n          for (const buffer of message.buffers) {\n            buffers.push(buffer);\n            downloaded += buffer.byteLength;\n            progress.value = downloaded;\n          }\n        }\n      }\n      const blob = new Blob(buffers, {type: 'application/binary'});\n      const a = document.createElement('a');\n      a.href = window.URL.createObjectURL(blob);\n      a.download = filename;\n      div.appendChild(a);\n      a.click();\n      div.remove();\n    }\n  ",
            "text/plain": [
              "<IPython.core.display.Javascript object>"
            ]
          },
          "metadata": {},
          "output_type": "display_data"
        },
        {
          "data": {
            "application/javascript": "download(\"download_41f716bc-b34e-4a58-aa89-452bad40cdbf\", \"random_forest_model.joblib\", 7882169)",
            "text/plain": [
              "<IPython.core.display.Javascript object>"
            ]
          },
          "metadata": {},
          "output_type": "display_data"
        }
      ],
      "source": [
        "# from google.colab import files\n",
        "\n",
        "# # Mengunduh model ke komputer lokal\n",
        "# files.download('tfidf_vectorizer.joblib')\n",
        "# files.download('random_forest_model.joblib')"
      ]
    },
    {
      "cell_type": "code",
      "execution_count": null,
      "metadata": {
        "id": "T1whaReMAtE-"
      },
      "outputs": [],
      "source": [
        "# from sklearn.metrics import precision_recall_curve\n",
        "\n",
        "# # Prediksi probabilitas kelas\n",
        "# class_probabilities = rf_classifier.predict_proba(X_val_tfidf)[:, 1]\n",
        "\n",
        "# # Hitung precision dan recall untuk berbagai threshold\n",
        "# precision, recall, thresholds = precision_recall_curve(y_val == 'positive', class_probabilities)\n",
        "\n",
        "# # Pilih threshold terbaik berdasarkan F1 Score\n",
        "# f1_scores = 2 * (precision * recall) / (precision + recall)\n",
        "# best_threshold = thresholds[np.argmax(f1_scores)]\n",
        "\n",
        "# # Gunakan threshold terbaik\n",
        "# print(\"Best Threshold:\", best_threshold)"
      ]
    }
  ],
  "metadata": {
    "colab": {
      "provenance": []
    },
    "kernelspec": {
      "display_name": "Python 3",
      "name": "python3"
    },
    "language_info": {
      "codemirror_mode": {
        "name": "ipython",
        "version": 3
      },
      "file_extension": ".py",
      "mimetype": "text/x-python",
      "name": "python",
      "nbconvert_exporter": "python",
      "pygments_lexer": "ipython3",
      "version": "3.12.6"
    }
  },
  "nbformat": 4,
  "nbformat_minor": 0
}
