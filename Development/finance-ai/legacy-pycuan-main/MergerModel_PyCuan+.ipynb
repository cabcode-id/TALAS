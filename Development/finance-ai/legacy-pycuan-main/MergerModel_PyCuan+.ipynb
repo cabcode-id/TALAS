{
  "nbformat": 4,
  "nbformat_minor": 0,
  "metadata": {
    "colab": {
      "provenance": [],
      "mount_file_id": "1QHz8MWxn3bbARD-NIdT90Uw3JzawvaDT",
      "authorship_tag": "ABX9TyNFU4sGtRz2IZbNXkhJsL+5",
      "include_colab_link": true
    },
    "kernelspec": {
      "name": "python3",
      "display_name": "Python 3"
    },
    "language_info": {
      "name": "python"
    }
  },
  "cells": [
    {
      "cell_type": "markdown",
      "metadata": {
        "id": "view-in-github",
        "colab_type": "text"
      },
      "source": [
        "<a href=\"https://colab.research.google.com/github/22bayusetia/PyCuan/blob/main/MergerModel_PyCuan%2B.ipynb\" target=\"_parent\"><img src=\"https://colab.research.google.com/assets/colab-badge.svg\" alt=\"Open In Colab\"/></a>"
      ]
    },
    {
      "cell_type": "markdown",
      "source": [
        "**Check File Colab in Drive**\n"
      ],
      "metadata": {
        "id": "ArbEneu1EIv_"
      }
    },
    {
      "cell_type": "code",
      "execution_count": 36,
      "metadata": {
        "id": "dsB1qh3R2Rve",
        "colab": {
          "base_uri": "https://localhost:8080/"
        },
        "outputId": "e8703c37-ac33-4db1-87ff-2ffbefa678c4"
      },
      "outputs": [
        {
          "output_type": "stream",
          "name": "stdout",
          "text": [
            "Drive already mounted at /content/drive; to attempt to forcibly remount, call drive.mount(\"/content/drive\", force_remount=True).\n",
            "'/content/drive/My Drive/PyCuanProject/SentimentAnalysis.ipynb'\n",
            "'/content/drive/My Drive/PyCuanProject/TimeSeries.ipynb'\n"
          ]
        }
      ],
      "source": [
        "from google.colab import drive\n",
        "\n",
        "drive.mount('/content/drive')\n",
        "\n",
        "# Verify that the file available\n",
        "!ls '/content/drive/My Drive/PyCuanProject/SentimentAnalysis.ipynb'\n",
        "!ls '/content/drive/My Drive/PyCuanProject/TimeSeries.ipynb'"
      ]
    },
    {
      "cell_type": "markdown",
      "source": [
        "**Running Folder in Drive**"
      ],
      "metadata": {
        "id": "SDPtMt42Ek6G"
      }
    },
    {
      "cell_type": "code",
      "source": [
        "# Add the Colab working directory to the system path\n",
        "import sys\n",
        "sys.path.append('/content/drive/MyDrive/PyCuanProject')\n"
      ],
      "metadata": {
        "id": "rtRUobV35TqN"
      },
      "execution_count": 37,
      "outputs": []
    },
    {
      "cell_type": "markdown",
      "source": [
        "**Running Sentiment Analysis**"
      ],
      "metadata": {
        "id": "MlLSR6_QE_3P"
      }
    },
    {
      "cell_type": "code",
      "source": [
        "# This code for Sentiment Analysis\n",
        "%%capture\n",
        "%cd /content/drive/MyDrive/PyCuanProject\n",
        "%ls\n",
        "%run SentimentAnalysis.ipynb"
      ],
      "metadata": {
        "colab": {
          "base_uri": "https://localhost:8080/"
        },
        "id": "fFkweiO8E-U4",
        "outputId": "474fca13-f367-40fb-d86c-06d07d4a68f0"
      },
      "execution_count": 38,
      "outputs": [
        {
          "output_type": "stream",
          "name": "stderr",
          "text": [
            "[nltk_data] Downloading package stopwords to /root/nltk_data...\n",
            "[nltk_data]   Package stopwords is already up-to-date!\n",
            "[nltk_data] Downloading package punkt to /root/nltk_data...\n",
            "[nltk_data]   Package punkt is already up-to-date!\n"
          ]
        }
      ]
    },
    {
      "cell_type": "markdown",
      "source": [
        "**Running Time Series**"
      ],
      "metadata": {
        "id": "a6kZOvwbFkcx"
      }
    },
    {
      "cell_type": "code",
      "source": [
        "# This code for Time Series\n",
        "%%capture\n",
        "%cd /content/drive/MyDrive/PyCuanProject\n",
        "%ls\n",
        "%run TimeSeries.ipynb"
      ],
      "metadata": {
        "id": "3z5QhtFgFWQM"
      },
      "execution_count": 39,
      "outputs": []
    },
    {
      "cell_type": "markdown",
      "source": [
        "**Merger the Result from Sentiment Analysis and Time Series**"
      ],
      "metadata": {
        "id": "qKKj9vqEHlQK"
      }
    },
    {
      "cell_type": "code",
      "source": [
        "# Import the function from Sentiment Analysis\n",
        "%store -r Sentiment_Analysis\n",
        "print(\"\\nSentiment Analysis: \")\n",
        "print(Sentiment_Analysis)\n",
        "\n",
        "# Import the function from Time Series\n",
        "%store -r Time_Series\n",
        "print(\"\\nTime Series: \")\n",
        "print(Time_Series)\n"
      ],
      "metadata": {
        "colab": {
          "base_uri": "https://localhost:8080/"
        },
        "id": "iWVjXhe3HuY_",
        "outputId": "33d68444-5334-422f-8acd-99af8676214e"
      },
      "execution_count": 71,
      "outputs": [
        {
          "output_type": "stream",
          "name": "stdout",
          "text": [
            "\n",
            "Sentiment Analysis: \n",
            "0.24700000000000003\n",
            "\n",
            "Time Series: \n",
            "0.14555239114117563\n"
          ]
        }
      ]
    },
    {
      "cell_type": "markdown",
      "source": [
        "**Showing a Widget for Both Sentiment Analysis and Time Series**\n"
      ],
      "metadata": {
        "id": "izU81hFARFIG"
      }
    },
    {
      "cell_type": "code",
      "source": [
        "from IPython.display import HTML\n",
        "#Widget for Up result\n",
        "def up(result):\n",
        "  # Create a Markdown cell with HTML and CSS to style the output\n",
        "  display(HTML(\"\"\"\n",
        "  <div style=\"border: 1px solid #ccc; padding: 10px; background-color: white; width: 75%;\">\n",
        "      <p style=\"color: green;\"> {}</p>\n",
        "  </div>\n",
        "  \"\"\".format(result)))\n",
        "\n",
        "#Widget for Down result\n",
        "def down(result):\n",
        "  # Create a Markdown cell with HTML and CSS to style the output\n",
        "  display(HTML(\"\"\"\n",
        "  <div style=\"border: 1px solid #ccc; padding: 10px; background-color: black; width: 75%;\">\n",
        "      <p style=\"color: red;\"> {}</p>\n",
        "  </div>\n",
        "  \"\"\".format(result)))\n",
        "\n",
        "#Sentiment Analysis Widget\n",
        "if (Sentiment_Analysis < 0.5):\n",
        "  result = \"Sentiment Analysis Result: \\nThe Stock Price by News is Down!🌂🌂🌂\\n\"\n",
        "  down(result)\n",
        "else:\n",
        "  result = \"Sentiment Analysis Result: \\nThe Stock Price by News is Up!🚀🚀🚀\\n\"\n",
        "  up(result)\n",
        "\n",
        "#Sentiment Analysis Widget\n",
        "if (Time_Series < 0.5):\n",
        "  result = \"Time Series Analysis Result: \\nThe Stock Price by Yahoo Finance is Down!🌂🌂🌂\\n\"\n",
        "  down(result)\n",
        "else:\n",
        "  result = \"Time Series Analysis Result: \\nThe Stock Price by Yahoo Finance is Up!🚀🚀🚀\\n\"\n",
        "  up(result)"
      ],
      "metadata": {
        "colab": {
          "base_uri": "https://localhost:8080/",
          "height": 120
        },
        "id": "soUxyRYuRMZr",
        "outputId": "ce0f344c-a244-40e4-a886-8f04e3ea0175"
      },
      "execution_count": 67,
      "outputs": [
        {
          "output_type": "display_data",
          "data": {
            "text/plain": [
              "<IPython.core.display.HTML object>"
            ],
            "text/html": [
              "\n",
              "  <div style=\"border: 1px solid #ccc; padding: 10px; background-color: black; width: 75%;\">\n",
              "      <p style=\"color: red;\"> Sentiment Analysis Result: \n",
              "The Stock Price by News is Down!🌂🌂🌂\n",
              "</p>\n",
              "  </div>\n",
              "  "
            ]
          },
          "metadata": {}
        },
        {
          "output_type": "display_data",
          "data": {
            "text/plain": [
              "<IPython.core.display.HTML object>"
            ],
            "text/html": [
              "\n",
              "  <div style=\"border: 1px solid #ccc; padding: 10px; background-color: black; width: 75%;\">\n",
              "      <p style=\"color: red;\"> Time Series Analysis Result: \n",
              "The Stock Price by Yahoo Finance is Down!🌂🌂🌂\n",
              "</p>\n",
              "  </div>\n",
              "  "
            ]
          },
          "metadata": {}
        }
      ]
    }
  ]
}