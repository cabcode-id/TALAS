{
 "cells": [
  {
   "cell_type": "code",
   "execution_count": null,
   "id": "f3e9ba9f",
   "metadata": {},
   "outputs": [],
   "source": [
    "!pip install twikit"
   ]
  },
  {
   "cell_type": "code",
   "execution_count": null,
   "id": "e50be0c2",
   "metadata": {},
   "outputs": [],
   "source": [
    "import pandas as pd\n",
    "import asyncio\n",
    "import random\n",
    "import os\n",
    "import nest_asyncio \n",
    "from dotenv import load_dotenv\n",
    "from twikit import Client"
   ]
  },
  {
   "cell_type": "code",
   "execution_count": null,
   "id": "98ef049a",
   "metadata": {},
   "outputs": [],
   "source": [
    "nest_asyncio.apply()\n",
    "load_dotenv\n",
    "USERNAME = os.getenv(\"USERNAME\")\n",
    "EMAIL = os.getenv(\"EMAIL\")\n",
    "PASSWORD = os.getenv(\"PASSWORD\")\n",
    "client = Client('en-US')"
   ]
  },
  {
   "cell_type": "code",
   "execution_count": null,
   "id": "bc699deb",
   "metadata": {},
   "outputs": [],
   "source": [
    "async def search_and_collect_tweets(query, THROTTLE_MIN = 10, THROTTLE_MAX = 20, MAX_PAGES=30, MAX_TWEETS=100):\n",
    "    COOKIE_FILE = 'cookies.json'\n",
    "    tweet_data = []\n",
    "\n",
    "    # Login / Cookie \n",
    "    try:\n",
    "        if os.path.exists(COOKIE_FILE):\n",
    "            client.load_cookies(COOKIE_FILE)\n",
    "            print(\"Loaded existing cookies\")\n",
    "        else:\n",
    "            await client.login(\n",
    "                auth_info_1=USERNAME,\n",
    "                auth_info_2=EMAIL,\n",
    "                password=PASSWORD\n",
    "            )\n",
    "            client.save_cookies(COOKIE_FILE)\n",
    "            print(\"Saved new cookies\")\n",
    "    except Exception as e:\n",
    "        print(f\"Login failed: {str(e)}\")\n",
    "        return pd.DataFrame()\n",
    "\n",
    "    # Fungsi utk search\n",
    "    page = await client.search_tweet(query=query, product='Latest', count=20)\n",
    "\n",
    "    page_count = 0\n",
    "\n",
    "    # Selama ada page\n",
    "    while page:\n",
    "        page_count += 1\n",
    "        print(f\"Processing page {page_count} (current total tweets: {len(tweet_data)})\")\n",
    "\n",
    "        for tweet in page:\n",
    "            tweet_data.append({\n",
    "                'created_at': tweet.created_at,\n",
    "                'text': tweet.text\n",
    "            })\n",
    "\n",
    "        # Check stopping conditions BEFORE fetching next page\n",
    "        if len(tweet_data) >= MAX_TWEETS:\n",
    "            print(f\"Reached {len(tweet_data)} tweets; stopping.\")\n",
    "            break\n",
    "        if page_count >= MAX_PAGES:\n",
    "            print(f\"Fetched {page_count} pages; stopping.\")\n",
    "            break\n",
    "\n",
    "        # Throttle 10-20 seconds between pages\n",
    "        sleep_secs = random.uniform(THROTTLE_MIN, THROTTLE_MAX)\n",
    "        print(f\"Sleeping for {sleep_secs:.1f}s before next page...\")\n",
    "        await asyncio.sleep(sleep_secs)\n",
    "\n",
    "        # Try to fetch the next page and break if none or error\n",
    "        try:\n",
    "            page = await page.next()\n",
    "            if not page:\n",
    "                print(\"No more pages; stopping.\")\n",
    "                break\n",
    "        except Exception as e:\n",
    "            print(f\"Pagination stopped (blocked or error): {e}\")\n",
    "            break\n",
    "\n",
    "    df = pd.DataFrame(tweet_data)\n",
    "\n",
    "    return df\n",
    "\n"
   ]
  },
  {
   "cell_type": "code",
   "execution_count": null,
   "id": "0c8d1a76",
   "metadata": {},
   "outputs": [],
   "source": [
    "# make date = today in format yyyy-mm-dd\n",
    "today = pd.to_datetime('today').strftime('%Y-%m-%d')"
   ]
  },
  {
   "cell_type": "code",
   "execution_count": null,
   "id": "27c869ae",
   "metadata": {},
   "outputs": [],
   "source": [
    "THROTTLE_MIN = 10 # seconds\n",
    "THROTTLE_MAX = 20 # seconds\n",
    "MAX_PAGES = 30 # Rate limit 50 per 15 minutes.\n",
    "MAX_TWEETS = 100 # Rate limit 150 per 15 minutes.\n",
    "sincedate = '2025-05-08'\n",
    "untildate = '2025-07-14'\n",
    "query = \"pantai sanur bali\"\n",
    "query_today = f\"pantai sanur bali since:{today}\"\n",
    "query_sincedate = f\"pantai sanur bali since:{sincedate} until:{today}\"\n",
    "query_untildate = f\"pantai sanur bali until:{untildate}\"\n",
    "# Format since until contoh: pantai sanur until:2025-07-14 since:2025-05-08\n",
    "# Kirim query ke fungsi search_and_collect_tweets tergantung kebutuhan."
   ]
  },
  {
   "cell_type": "code",
   "execution_count": null,
   "id": "e7ec22df",
   "metadata": {},
   "outputs": [],
   "source": [
    "async def main():\n",
    "    df_tweets = await search_and_collect_tweets(query_today, THROTTLE_MIN, THROTTLE_MAX, MAX_PAGES, MAX_TWEETS)\n",
    "    return df_tweets"
   ]
  },
  {
   "cell_type": "code",
   "execution_count": null,
   "id": "24799c7f",
   "metadata": {},
   "outputs": [],
   "source": [
    "df_tweets = await main()"
   ]
  },
  {
   "cell_type": "code",
   "execution_count": null,
   "id": "6aafa9c0",
   "metadata": {},
   "outputs": [],
   "source": [
    "len(df_tweets)"
   ]
  },
  {
   "cell_type": "code",
   "execution_count": null,
   "id": "a610dbc2",
   "metadata": {},
   "outputs": [
    {
     "name": "stdout",
     "output_type": "stream",
     "text": [
      "Login failed: status: 400, message: \"{\"errors\":[{\"code\":399,\"message\":\"Salah. Silakan coba lagi. g;174669037387682407:-1746690374114:CUWhxbPJ3s1ZdIaxKQ0wDgvu:6\"}]}\"\n",
      "Collected 0 tweets\n",
      "Empty DataFrame\n",
      "Columns: []\n",
      "Index: []\n"
     ]
    }
   ],
   "source": [
    "df_tweets"
   ]
  },
  {
   "cell_type": "code",
   "execution_count": null,
   "id": "2827a7df",
   "metadata": {},
   "outputs": [],
   "source": [
    "df_tweets.to_csv('tweets_data.csv', index=False)"
   ]
  }
 ],
 "metadata": {
  "kernelspec": {
   "display_name": "Python 3",
   "language": "python",
   "name": "python3"
  },
  "language_info": {
   "codemirror_mode": {
    "name": "ipython",
    "version": 3
   },
   "file_extension": ".py",
   "mimetype": "text/x-python",
   "name": "python",
   "nbconvert_exporter": "python",
   "pygments_lexer": "ipython3",
   "version": "3.12.6"
  }
 },
 "nbformat": 4,
 "nbformat_minor": 5
}
