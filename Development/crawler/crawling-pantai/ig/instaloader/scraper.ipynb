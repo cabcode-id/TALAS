{
 "cells": [
  {
   "cell_type": "code",
   "execution_count": 12,
   "id": "822346b3",
   "metadata": {},
   "outputs": [
    {
     "name": "stdout",
     "output_type": "stream",
     "text": [
      "Logging in as parktaekun6...\n",
      "password: abracadabraabraoonana\n",
      "Loaded session from session-parktaekun6.\n"
     ]
    }
   ],
   "source": [
    "from datetime import datetime\n",
    "import instaloader\n",
    "from dotenv import load_dotenv\n",
    "import os\n",
    "import pandas as pd\n",
    "\n",
    "# Load environment variables from .env file\n",
    "load_dotenv()\n",
    "\n",
    "L = instaloader.Instaloader(\n",
    "    download_pictures=False,\n",
    "    download_videos=False,\n",
    "    download_comments=False,\n",
    "    save_metadata=True\n",
    ")\n",
    "\n",
    "# Login\n",
    "username = os.getenv('usernm')\n",
    "password = os.getenv('passwd')\n",
    "print(f\"Logging in as {username}...\")\n",
    "print(f\"password: {password}\")\n",
    "# L.login(username, password)\n",
    "L.load_session_from_file(username=username, filename='session-parktaekun6')"
   ]
  },
  {
   "cell_type": "markdown",
   "id": "b7ea660d",
   "metadata": {},
   "source": [
    "Error: Need to try cookies"
   ]
  },
  {
   "cell_type": "code",
   "execution_count": null,
   "id": "919d819e",
   "metadata": {},
   "outputs": [
    {
     "name": "stderr",
     "output_type": "stream",
     "text": [
      "JSON Query to api/v1/tags/web_info/: 403 Forbidden - \"fail\" status, message \"login_required\" when accessing https://i.instagram.com/api/v1/tags/web_info/?__a=1&__d=dis&tag_name=pantaisanur [retrying; skip with ^C]\n",
      "JSON Query to api/v1/tags/web_info/: 403 Forbidden - \"fail\" status, message \"login_required\" when accessing https://i.instagram.com/api/v1/tags/web_info/?__a=1&__d=dis&tag_name=pantaisanur [retrying; skip with ^C]\n"
     ]
    },
    {
     "ename": "ConnectionException",
     "evalue": "JSON Query to api/v1/tags/web_info/: 403 Forbidden - \"fail\" status, message \"login_required\" when accessing https://i.instagram.com/api/v1/tags/web_info/?__a=1&__d=dis&tag_name=pantaisanur",
     "output_type": "error",
     "traceback": [
      "\u001b[1;31m---------------------------------------------------------------------------\u001b[0m",
      "\u001b[1;31mConnectionException\u001b[0m                       Traceback (most recent call last)",
      "File \u001b[1;32mc:\\Users\\USER\\AppData\\Local\\Programs\\Python\\Python312\\Lib\\site-packages\\instaloader\\instaloadercontext.py:456\u001b[0m, in \u001b[0;36mInstaloaderContext.get_json\u001b[1;34m(self, path, params, host, session, _attempt, response_headers, use_post)\u001b[0m\n\u001b[0;32m    455\u001b[0m \u001b[38;5;28;01mif\u001b[39;00m resp\u001b[38;5;241m.\u001b[39mstatus_code \u001b[38;5;241m!=\u001b[39m \u001b[38;5;241m200\u001b[39m:\n\u001b[1;32m--> 456\u001b[0m     \u001b[38;5;28;01mraise\u001b[39;00m ConnectionException(\u001b[38;5;28mself\u001b[39m\u001b[38;5;241m.\u001b[39m_response_error(resp))\n\u001b[0;32m    457\u001b[0m \u001b[38;5;28;01melse\u001b[39;00m:\n",
      "\u001b[1;31mConnectionException\u001b[0m: 403 Forbidden - \"fail\" status, message \"login_required\" when accessing https://i.instagram.com/api/v1/tags/web_info/?__a=1&__d=dis&tag_name=pantaisanur",
      "\nDuring handling of the above exception, another exception occurred:\n",
      "\u001b[1;31mConnectionException\u001b[0m                       Traceback (most recent call last)",
      "File \u001b[1;32mc:\\Users\\USER\\AppData\\Local\\Programs\\Python\\Python312\\Lib\\site-packages\\instaloader\\instaloadercontext.py:456\u001b[0m, in \u001b[0;36mInstaloaderContext.get_json\u001b[1;34m(self, path, params, host, session, _attempt, response_headers, use_post)\u001b[0m\n\u001b[0;32m    455\u001b[0m \u001b[38;5;28;01mif\u001b[39;00m resp\u001b[38;5;241m.\u001b[39mstatus_code \u001b[38;5;241m!=\u001b[39m \u001b[38;5;241m200\u001b[39m:\n\u001b[1;32m--> 456\u001b[0m     \u001b[38;5;28;01mraise\u001b[39;00m ConnectionException(\u001b[38;5;28mself\u001b[39m\u001b[38;5;241m.\u001b[39m_response_error(resp))\n\u001b[0;32m    457\u001b[0m \u001b[38;5;28;01melse\u001b[39;00m:\n",
      "\u001b[1;31mConnectionException\u001b[0m: 403 Forbidden - \"fail\" status, message \"login_required\" when accessing https://i.instagram.com/api/v1/tags/web_info/?__a=1&__d=dis&tag_name=pantaisanur",
      "\nDuring handling of the above exception, another exception occurred:\n",
      "\u001b[1;31mConnectionException\u001b[0m                       Traceback (most recent call last)",
      "File \u001b[1;32mc:\\Users\\USER\\AppData\\Local\\Programs\\Python\\Python312\\Lib\\site-packages\\instaloader\\instaloadercontext.py:456\u001b[0m, in \u001b[0;36mInstaloaderContext.get_json\u001b[1;34m(self, path, params, host, session, _attempt, response_headers, use_post)\u001b[0m\n\u001b[0;32m    455\u001b[0m \u001b[38;5;28;01mif\u001b[39;00m resp\u001b[38;5;241m.\u001b[39mstatus_code \u001b[38;5;241m!=\u001b[39m \u001b[38;5;241m200\u001b[39m:\n\u001b[1;32m--> 456\u001b[0m     \u001b[38;5;28;01mraise\u001b[39;00m ConnectionException(\u001b[38;5;28mself\u001b[39m\u001b[38;5;241m.\u001b[39m_response_error(resp))\n\u001b[0;32m    457\u001b[0m \u001b[38;5;28;01melse\u001b[39;00m:\n",
      "\u001b[1;31mConnectionException\u001b[0m: 403 Forbidden - \"fail\" status, message \"login_required\" when accessing https://i.instagram.com/api/v1/tags/web_info/?__a=1&__d=dis&tag_name=pantaisanur",
      "\nThe above exception was the direct cause of the following exception:\n",
      "\u001b[1;31mConnectionException\u001b[0m                       Traceback (most recent call last)",
      "Cell \u001b[1;32mIn[13], line 6\u001b[0m\n\u001b[0;32m      3\u001b[0m limit \u001b[38;5;241m=\u001b[39m \u001b[38;5;241m10\u001b[39m\n\u001b[0;32m      5\u001b[0m \u001b[38;5;66;03m# Hashtag object\u001b[39;00m\n\u001b[1;32m----> 6\u001b[0m hashtags \u001b[38;5;241m=\u001b[39m \u001b[43minstaloader\u001b[49m\u001b[38;5;241;43m.\u001b[39;49m\u001b[43mHashtag\u001b[49m\u001b[38;5;241;43m.\u001b[39;49m\u001b[43mfrom_name\u001b[49m\u001b[43m(\u001b[49m\u001b[43mL\u001b[49m\u001b[38;5;241;43m.\u001b[39;49m\u001b[43mcontext\u001b[49m\u001b[43m,\u001b[49m\u001b[43m \u001b[49m\u001b[43msearch\u001b[49m\u001b[43m)\u001b[49m\u001b[38;5;241m.\u001b[39mget_posts()\n\u001b[0;32m      8\u001b[0m today \u001b[38;5;241m=\u001b[39m datetime\u001b[38;5;241m.\u001b[39mtoday()\u001b[38;5;241m.\u001b[39mdate()\n\u001b[0;32m      9\u001b[0m data \u001b[38;5;241m=\u001b[39m []\n",
      "File \u001b[1;32mc:\\Users\\USER\\AppData\\Local\\Programs\\Python\\Python312\\Lib\\site-packages\\instaloader\\structures.py:1856\u001b[0m, in \u001b[0;36mHashtag.from_name\u001b[1;34m(cls, context, name)\u001b[0m\n\u001b[0;32m   1854\u001b[0m \u001b[38;5;66;03m# pylint:disable=protected-access\u001b[39;00m\n\u001b[0;32m   1855\u001b[0m hashtag \u001b[38;5;241m=\u001b[39m \u001b[38;5;28mcls\u001b[39m(context, {\u001b[38;5;124m'\u001b[39m\u001b[38;5;124mname\u001b[39m\u001b[38;5;124m'\u001b[39m: name\u001b[38;5;241m.\u001b[39mlower()})\n\u001b[1;32m-> 1856\u001b[0m \u001b[43mhashtag\u001b[49m\u001b[38;5;241;43m.\u001b[39;49m\u001b[43m_obtain_metadata\u001b[49m\u001b[43m(\u001b[49m\u001b[43m)\u001b[49m\n\u001b[0;32m   1857\u001b[0m \u001b[38;5;28;01mreturn\u001b[39;00m hashtag\n",
      "File \u001b[1;32mc:\\Users\\USER\\AppData\\Local\\Programs\\Python\\Python312\\Lib\\site-packages\\instaloader\\structures.py:1872\u001b[0m, in \u001b[0;36mHashtag._obtain_metadata\u001b[1;34m(self)\u001b[0m\n\u001b[0;32m   1870\u001b[0m \u001b[38;5;28;01mdef\u001b[39;00m \u001b[38;5;21m_obtain_metadata\u001b[39m(\u001b[38;5;28mself\u001b[39m):\n\u001b[0;32m   1871\u001b[0m     \u001b[38;5;28;01mif\u001b[39;00m \u001b[38;5;129;01mnot\u001b[39;00m \u001b[38;5;28mself\u001b[39m\u001b[38;5;241m.\u001b[39m_has_full_metadata:\n\u001b[1;32m-> 1872\u001b[0m         \u001b[38;5;28mself\u001b[39m\u001b[38;5;241m.\u001b[39m_node \u001b[38;5;241m=\u001b[39m \u001b[38;5;28;43mself\u001b[39;49m\u001b[38;5;241;43m.\u001b[39;49m\u001b[43m_query\u001b[49m\u001b[43m(\u001b[49m\u001b[43m{\u001b[49m\u001b[38;5;124;43m\"\u001b[39;49m\u001b[38;5;124;43m__a\u001b[39;49m\u001b[38;5;124;43m\"\u001b[39;49m\u001b[43m:\u001b[49m\u001b[43m \u001b[49m\u001b[38;5;241;43m1\u001b[39;49m\u001b[43m,\u001b[49m\u001b[43m \u001b[49m\u001b[38;5;124;43m\"\u001b[39;49m\u001b[38;5;124;43m__d\u001b[39;49m\u001b[38;5;124;43m\"\u001b[39;49m\u001b[43m:\u001b[49m\u001b[43m \u001b[49m\u001b[38;5;124;43m\"\u001b[39;49m\u001b[38;5;124;43mdis\u001b[39;49m\u001b[38;5;124;43m\"\u001b[39;49m\u001b[43m}\u001b[49m\u001b[43m)\u001b[49m\n\u001b[0;32m   1873\u001b[0m         \u001b[38;5;28mself\u001b[39m\u001b[38;5;241m.\u001b[39m_has_full_metadata \u001b[38;5;241m=\u001b[39m \u001b[38;5;28;01mTrue\u001b[39;00m\n",
      "File \u001b[1;32mc:\\Users\\USER\\AppData\\Local\\Programs\\Python\\Python312\\Lib\\site-packages\\instaloader\\structures.py:1865\u001b[0m, in \u001b[0;36mHashtag._query\u001b[1;34m(self, params)\u001b[0m\n\u001b[0;32m   1864\u001b[0m \u001b[38;5;28;01mdef\u001b[39;00m \u001b[38;5;21m_query\u001b[39m(\u001b[38;5;28mself\u001b[39m, params):\n\u001b[1;32m-> 1865\u001b[0m     json_response \u001b[38;5;241m=\u001b[39m \u001b[38;5;28;43mself\u001b[39;49m\u001b[38;5;241;43m.\u001b[39;49m\u001b[43m_context\u001b[49m\u001b[38;5;241;43m.\u001b[39;49m\u001b[43mget_iphone_json\u001b[49m\u001b[43m(\u001b[49m\n\u001b[0;32m   1866\u001b[0m \u001b[43m        \u001b[49m\u001b[38;5;124;43m\"\u001b[39;49m\u001b[38;5;124;43mapi/v1/tags/web_info/\u001b[39;49m\u001b[38;5;124;43m\"\u001b[39;49m\u001b[43m,\u001b[49m\u001b[43m \u001b[49m\u001b[43m{\u001b[49m\u001b[38;5;241;43m*\u001b[39;49m\u001b[38;5;241;43m*\u001b[39;49m\u001b[43mparams\u001b[49m\u001b[43m,\u001b[49m\u001b[43m \u001b[49m\u001b[38;5;124;43m\"\u001b[39;49m\u001b[38;5;124;43mtag_name\u001b[39;49m\u001b[38;5;124;43m\"\u001b[39;49m\u001b[43m:\u001b[49m\u001b[43m \u001b[49m\u001b[38;5;28;43mself\u001b[39;49m\u001b[38;5;241;43m.\u001b[39;49m\u001b[43mname\u001b[49m\u001b[43m}\u001b[49m\n\u001b[0;32m   1867\u001b[0m \u001b[43m    \u001b[49m\u001b[43m)\u001b[49m\n\u001b[0;32m   1868\u001b[0m     \u001b[38;5;28;01mreturn\u001b[39;00m json_response[\u001b[38;5;124m\"\u001b[39m\u001b[38;5;124mgraphql\u001b[39m\u001b[38;5;124m\"\u001b[39m][\u001b[38;5;124m\"\u001b[39m\u001b[38;5;124mhashtag\u001b[39m\u001b[38;5;124m\"\u001b[39m] \u001b[38;5;28;01mif\u001b[39;00m \u001b[38;5;124m\"\u001b[39m\u001b[38;5;124mgraphql\u001b[39m\u001b[38;5;124m\"\u001b[39m \u001b[38;5;129;01min\u001b[39;00m json_response \u001b[38;5;28;01melse\u001b[39;00m json_response[\u001b[38;5;124m\"\u001b[39m\u001b[38;5;124mdata\u001b[39m\u001b[38;5;124m\"\u001b[39m]\n",
      "File \u001b[1;32mc:\\Users\\USER\\AppData\\Local\\Programs\\Python\\Python312\\Lib\\site-packages\\instaloader\\instaloadercontext.py:642\u001b[0m, in \u001b[0;36mInstaloaderContext.get_iphone_json\u001b[1;34m(self, path, params)\u001b[0m\n\u001b[0;32m    639\u001b[0m     tempsession\u001b[38;5;241m.\u001b[39mcookies\u001b[38;5;241m.\u001b[39mclear()\n\u001b[0;32m    641\u001b[0m response_headers \u001b[38;5;241m=\u001b[39m \u001b[38;5;28mdict\u001b[39m()    \u001b[38;5;66;03m# type: Dict[str, Any]\u001b[39;00m\n\u001b[1;32m--> 642\u001b[0m response \u001b[38;5;241m=\u001b[39m \u001b[38;5;28;43mself\u001b[39;49m\u001b[38;5;241;43m.\u001b[39;49m\u001b[43mget_json\u001b[49m\u001b[43m(\u001b[49m\u001b[43mpath\u001b[49m\u001b[43m,\u001b[49m\u001b[43m \u001b[49m\u001b[43mparams\u001b[49m\u001b[43m,\u001b[49m\u001b[43m \u001b[49m\u001b[38;5;124;43m'\u001b[39;49m\u001b[38;5;124;43mi.instagram.com\u001b[39;49m\u001b[38;5;124;43m'\u001b[39;49m\u001b[43m,\u001b[49m\u001b[43m \u001b[49m\u001b[43mtempsession\u001b[49m\u001b[43m,\u001b[49m\u001b[43m \u001b[49m\u001b[43mresponse_headers\u001b[49m\u001b[38;5;241;43m=\u001b[39;49m\u001b[43mresponse_headers\u001b[49m\u001b[43m)\u001b[49m\n\u001b[0;32m    644\u001b[0m \u001b[38;5;66;03m# Extract the ig-set-* headers and use them in the next request\u001b[39;00m\n\u001b[0;32m    645\u001b[0m \u001b[38;5;28;01mfor\u001b[39;00m key, value \u001b[38;5;129;01min\u001b[39;00m response_headers\u001b[38;5;241m.\u001b[39mitems():\n",
      "File \u001b[1;32mc:\\Users\\USER\\AppData\\Local\\Programs\\Python\\Python312\\Lib\\site-packages\\instaloader\\instaloadercontext.py:480\u001b[0m, in \u001b[0;36mInstaloaderContext.get_json\u001b[1;34m(self, path, params, host, session, _attempt, response_headers, use_post)\u001b[0m\n\u001b[0;32m    478\u001b[0m         \u001b[38;5;28;01mif\u001b[39;00m is_other_query:\n\u001b[0;32m    479\u001b[0m             \u001b[38;5;28mself\u001b[39m\u001b[38;5;241m.\u001b[39m_rate_controller\u001b[38;5;241m.\u001b[39mhandle_429(\u001b[38;5;124m'\u001b[39m\u001b[38;5;124mother\u001b[39m\u001b[38;5;124m'\u001b[39m)\n\u001b[1;32m--> 480\u001b[0m     \u001b[38;5;28;01mreturn\u001b[39;00m \u001b[38;5;28;43mself\u001b[39;49m\u001b[38;5;241;43m.\u001b[39;49m\u001b[43mget_json\u001b[49m\u001b[43m(\u001b[49m\u001b[43mpath\u001b[49m\u001b[38;5;241;43m=\u001b[39;49m\u001b[43mpath\u001b[49m\u001b[43m,\u001b[49m\u001b[43m \u001b[49m\u001b[43mparams\u001b[49m\u001b[38;5;241;43m=\u001b[39;49m\u001b[43mparams\u001b[49m\u001b[43m,\u001b[49m\u001b[43m \u001b[49m\u001b[43mhost\u001b[49m\u001b[38;5;241;43m=\u001b[39;49m\u001b[43mhost\u001b[49m\u001b[43m,\u001b[49m\u001b[43m \u001b[49m\u001b[43msession\u001b[49m\u001b[38;5;241;43m=\u001b[39;49m\u001b[43msess\u001b[49m\u001b[43m,\u001b[49m\u001b[43m \u001b[49m\u001b[43m_attempt\u001b[49m\u001b[38;5;241;43m=\u001b[39;49m\u001b[43m_attempt\u001b[49m\u001b[43m \u001b[49m\u001b[38;5;241;43m+\u001b[39;49m\u001b[43m \u001b[49m\u001b[38;5;241;43m1\u001b[39;49m\u001b[43m,\u001b[49m\n\u001b[0;32m    481\u001b[0m \u001b[43m                         \u001b[49m\u001b[43mresponse_headers\u001b[49m\u001b[38;5;241;43m=\u001b[39;49m\u001b[43mresponse_headers\u001b[49m\u001b[43m)\u001b[49m\n\u001b[0;32m    482\u001b[0m \u001b[38;5;28;01mexcept\u001b[39;00m \u001b[38;5;167;01mKeyboardInterrupt\u001b[39;00m:\n\u001b[0;32m    483\u001b[0m     \u001b[38;5;28mself\u001b[39m\u001b[38;5;241m.\u001b[39merror(\u001b[38;5;124m\"\u001b[39m\u001b[38;5;124m[skipped by user]\u001b[39m\u001b[38;5;124m\"\u001b[39m, repeat_at_end\u001b[38;5;241m=\u001b[39m\u001b[38;5;28;01mFalse\u001b[39;00m)\n",
      "File \u001b[1;32mc:\\Users\\USER\\AppData\\Local\\Programs\\Python\\Python312\\Lib\\site-packages\\instaloader\\instaloadercontext.py:480\u001b[0m, in \u001b[0;36mInstaloaderContext.get_json\u001b[1;34m(self, path, params, host, session, _attempt, response_headers, use_post)\u001b[0m\n\u001b[0;32m    478\u001b[0m         \u001b[38;5;28;01mif\u001b[39;00m is_other_query:\n\u001b[0;32m    479\u001b[0m             \u001b[38;5;28mself\u001b[39m\u001b[38;5;241m.\u001b[39m_rate_controller\u001b[38;5;241m.\u001b[39mhandle_429(\u001b[38;5;124m'\u001b[39m\u001b[38;5;124mother\u001b[39m\u001b[38;5;124m'\u001b[39m)\n\u001b[1;32m--> 480\u001b[0m     \u001b[38;5;28;01mreturn\u001b[39;00m \u001b[38;5;28;43mself\u001b[39;49m\u001b[38;5;241;43m.\u001b[39;49m\u001b[43mget_json\u001b[49m\u001b[43m(\u001b[49m\u001b[43mpath\u001b[49m\u001b[38;5;241;43m=\u001b[39;49m\u001b[43mpath\u001b[49m\u001b[43m,\u001b[49m\u001b[43m \u001b[49m\u001b[43mparams\u001b[49m\u001b[38;5;241;43m=\u001b[39;49m\u001b[43mparams\u001b[49m\u001b[43m,\u001b[49m\u001b[43m \u001b[49m\u001b[43mhost\u001b[49m\u001b[38;5;241;43m=\u001b[39;49m\u001b[43mhost\u001b[49m\u001b[43m,\u001b[49m\u001b[43m \u001b[49m\u001b[43msession\u001b[49m\u001b[38;5;241;43m=\u001b[39;49m\u001b[43msess\u001b[49m\u001b[43m,\u001b[49m\u001b[43m \u001b[49m\u001b[43m_attempt\u001b[49m\u001b[38;5;241;43m=\u001b[39;49m\u001b[43m_attempt\u001b[49m\u001b[43m \u001b[49m\u001b[38;5;241;43m+\u001b[39;49m\u001b[43m \u001b[49m\u001b[38;5;241;43m1\u001b[39;49m\u001b[43m,\u001b[49m\n\u001b[0;32m    481\u001b[0m \u001b[43m                         \u001b[49m\u001b[43mresponse_headers\u001b[49m\u001b[38;5;241;43m=\u001b[39;49m\u001b[43mresponse_headers\u001b[49m\u001b[43m)\u001b[49m\n\u001b[0;32m    482\u001b[0m \u001b[38;5;28;01mexcept\u001b[39;00m \u001b[38;5;167;01mKeyboardInterrupt\u001b[39;00m:\n\u001b[0;32m    483\u001b[0m     \u001b[38;5;28mself\u001b[39m\u001b[38;5;241m.\u001b[39merror(\u001b[38;5;124m\"\u001b[39m\u001b[38;5;124m[skipped by user]\u001b[39m\u001b[38;5;124m\"\u001b[39m, repeat_at_end\u001b[38;5;241m=\u001b[39m\u001b[38;5;28;01mFalse\u001b[39;00m)\n",
      "File \u001b[1;32mc:\\Users\\USER\\AppData\\Local\\Programs\\Python\\Python312\\Lib\\site-packages\\instaloader\\instaloadercontext.py:468\u001b[0m, in \u001b[0;36mInstaloaderContext.get_json\u001b[1;34m(self, path, params, host, session, _attempt, response_headers, use_post)\u001b[0m\n\u001b[0;32m    466\u001b[0m         \u001b[38;5;28;01mraise\u001b[39;00m QueryReturnedNotFoundException(error_string) \u001b[38;5;28;01mfrom\u001b[39;00m \u001b[38;5;21;01merr\u001b[39;00m\n\u001b[0;32m    467\u001b[0m     \u001b[38;5;28;01melse\u001b[39;00m:\n\u001b[1;32m--> 468\u001b[0m         \u001b[38;5;28;01mraise\u001b[39;00m ConnectionException(error_string) \u001b[38;5;28;01mfrom\u001b[39;00m \u001b[38;5;21;01merr\u001b[39;00m\n\u001b[0;32m    469\u001b[0m \u001b[38;5;28mself\u001b[39m\u001b[38;5;241m.\u001b[39merror(error_string \u001b[38;5;241m+\u001b[39m \u001b[38;5;124m\"\u001b[39m\u001b[38;5;124m [retrying; skip with ^C]\u001b[39m\u001b[38;5;124m\"\u001b[39m, repeat_at_end\u001b[38;5;241m=\u001b[39m\u001b[38;5;28;01mFalse\u001b[39;00m)\n\u001b[0;32m    470\u001b[0m \u001b[38;5;28;01mtry\u001b[39;00m:\n",
      "\u001b[1;31mConnectionException\u001b[0m: JSON Query to api/v1/tags/web_info/: 403 Forbidden - \"fail\" status, message \"login_required\" when accessing https://i.instagram.com/api/v1/tags/web_info/?__a=1&__d=dis&tag_name=pantaisanur"
     ]
    }
   ],
   "source": [
    "# User Query\n",
    "search = \"pantaisanur\"\n",
    "limit = 10\n",
    "\n",
    "# Hashtag object\n",
    "hashtags = instaloader.Hashtag.from_name(L.context, search).get_posts()\n",
    "\n",
    "today = datetime.today().date()\n",
    "data = []\n",
    "no_of_downloads = 0\n",
    "\n",
    "for post in hashtags:\n",
    "    if post.date.date() == today:\n",
    "        # Get top 10 comment texts\n",
    "        comments = []\n",
    "        for i, comment in enumerate(post.get_comments()):\n",
    "            if i >= 10:\n",
    "                break\n",
    "            comments.append(comment.text)\n",
    "        # Prepare data row\n",
    "        data.append({\n",
    "            \"caption\": post.caption,\n",
    "            \"date\": post.date,\n",
    "            \"comments\": comments,\n",
    "            \"url\": f\"https://www.instagram.com/p/{post.shortcode}/\",\n",
    "            \"image_url\": post.url\n",
    "        })\n",
    "        no_of_downloads += 1\n",
    "        if no_of_downloads == limit:\n",
    "            break\n",
    "    elif post.date.date() < today:\n",
    "        break\n",
    "\n",
    "df = pd.DataFrame(data)\n",
    "df.to_csv(\"instagram_today.csv\", index=False)"
   ]
  },
  {
   "cell_type": "code",
   "execution_count": null,
   "id": "fb9eb9dc",
   "metadata": {},
   "outputs": [],
   "source": []
  }
 ],
 "metadata": {
  "kernelspec": {
   "display_name": "Python 3",
   "language": "python",
   "name": "python3"
  },
  "language_info": {
   "codemirror_mode": {
    "name": "ipython",
    "version": 3
   },
   "file_extension": ".py",
   "mimetype": "text/x-python",
   "name": "python",
   "nbconvert_exporter": "python",
   "pygments_lexer": "ipython3",
   "version": "3.12.6"
  }
 },
 "nbformat": 4,
 "nbformat_minor": 5
}
