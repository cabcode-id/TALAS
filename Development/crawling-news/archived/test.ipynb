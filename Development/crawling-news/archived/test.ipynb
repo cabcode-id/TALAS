{
 "cells": [
  {
   "cell_type": "code",
   "execution_count": 6,
   "metadata": {},
   "outputs": [
    {
     "name": "stdout",
     "output_type": "stream",
     "text": [
      "[<span class=\"text-dark text-capitalize\">9 Maret 2025</span>]\n"
     ]
    }
   ],
   "source": [
    "from bs4 import BeautifulSoup\n",
    "import requests\n",
    "import re\n",
    "url = \"https://www.antaranews.com/tag/cek-fakta/\"\n",
    "response = requests.get(url)\n",
    "soup = BeautifulSoup(response.content, 'html.parser')\n",
    "\n",
    "span_elements = soup.find_all('span', string=re.compile(r\"9 Maret 2025\"))\n",
    "\n",
    "print(span_elements)\n"
   ]
  },
  {
   "cell_type": "code",
   "execution_count": 8,
   "metadata": {},
   "outputs": [
    {
     "name": "stdout",
     "output_type": "stream",
     "text": [
      "https://www.antaranews.com/berita/4698137/libur-sekolah-lebih-awal-berikut-jadwal-lengkap-hari-libur-maret-2025\n",
      "Libur sekolah lebih awal: Berikut jadwal lengkap hari libur Maret 2025\n"
     ]
    }
   ],
   "source": [
    "hrefs = set()\n",
    "titles = set()\n",
    "for span in span_elements:\n",
    "    # Find the nearest parent that contains an <a> child with href\n",
    "    parent = span.find_parent()\n",
    "    \n",
    "    while parent:  # Keep going up in the hierarchy if necessary\n",
    "        link = parent.find('a', href=True)\n",
    "        if link:\n",
    "            hrefs.add(link['href'])\n",
    "            titles.add(link['title'])  # Store the found href\n",
    "            break  # Stop once we find the first valid parent with a link\n",
    "        parent = parent.find_parent()  # Move to the next level up\n",
    "\n",
    "# Print all collected hrefs\n",
    "for href in hrefs:\n",
    "    print(href)\n",
    "\n",
    "for title in titles:\n",
    "    print(title)"
   ]
  },
  {
   "cell_type": "code",
   "execution_count": 10,
   "metadata": {},
   "outputs": [
    {
     "name": "stdout",
     "output_type": "stream",
     "text": [
      "Jakarta (ANTARA) - Bulan Maret 2025 bertepatan dengan bulan suci Ramadhan 1446 Hijriah, di mana umat Muslim di seluruh dunia saat ini tengah menjalankan ibadah puasa. Pada saat tulisan ini dibuat, puasa telah berlangsung selama delapan hari sejak dimulai pada Sabtu, 1 Maret 2025.\n",
      "Dalam beberapa hari ke depan, bulan Maret akan memasuki pertengahan, dan banyak masyarakat mulai mencari informasi mengenai jadwal libur, termasuk libur Lebaran.\n",
      "Tidak hanya pekerja, jadwal libur ini juga menjadi perhatian bagi seluruh lapisan masyarakat, seperti pelajar, pegawai negeri, serta pelaku usaha yang perlu menyesuaikan agenda mereka selama Hari Raya Idul Fitri.\n",
      "Selain itu, pada bulan Maret 2025, juga terdapat perayaan keagamaan lainnya, yakni Hari Raya Nyepi bagi umat Hindu serta perayaan Idul Fitri bagi umat Islam. Karena itu, terdapat beberapa hari libur nasional, cuti bersama, dan masa libur sekolah yang cukup panjang.\n",
      "Berikut adalah rincian jadwal libur di bulan Maret 2025 berdasarkan peraturan SEB 3 Menteri serta kalender resmi pemerintah.\n",
      "Baca juga:\n",
      "Pemerintah tetapkan siswa libur hanya pada awal dan akhir Ramadhan\n",
      "Jadwal libur bulan Maret 2025\n",
      "Kementerian Pendidikan Dasar dan Menengah (Kemendikdasmen) RI telah memutuskan untuk memajukan jadwal libur Idul Fitri 2025 bagi sekolah, madrasah, dan satuan pendidikan keagamaan. Semula, libur Lebaran bagi siswa direncanakan mulai pada Rabu, 26 Maret 2025. Namun, jadwal tersebut dimajukan lebih awal menjadi Jumat, 21 Maret 2025.\n",
      "\"Libur Idul Fitri bagi madrasah dan satuan pendidikan keagamaan berlangsung pada 21-28 Maret serta 2-8 April,\" ujar Menteri Pendidikan Dasar dan Menengah, Abdul Mu'ti, dalam keterangannya di Jakarta pada, Senin (3/3).\n",
      "Dengan adanya perubahan ini, berikut jadwal lengkap hari libur, termasuk tanggal merah, libur sekolah, cuti bersama dan hari libur nasional di bulan Maret 2025.\n",
      "Tanggal hari Minggu bulan Maret 2025\n",
      "• Minggu, 2 Maret 2025.\n",
      "• Minggu, 9 Maret 2025.\n",
      "• Minggu, 16 Maret 2025.\n",
      "• Minggu, 23 Maret 2025.\n",
      "• Minggu, 30 Maret 2025.\n",
      "Tanggal libur sekolah Maret 2025\n",
      "• Senin, 3 Maret 2025: Libur awal bulan Ramadhan 2025.\n",
      "• Selasa, 4 Maret 2025: Libur awal bulan Ramadhan 2025.\n",
      "• Rabu, 5 Maret 2025: Libur awal bulan Ramadhan 2025.\n",
      "• Jumat, 21 Maret 2025: Libur akhir bulan Ramadhan 2025.\n",
      "• Sabtu, 22 Maret 2025: Libur akhir bulan Ramadhan 2025.\n",
      "• Minggu, 23 Maret 2025: Libur akhir bulan Ramadhan 2025.\n",
      "• Senin, 24 Maret 2025: Libur akhir bulan Ramadhan 2025.\n",
      "• Selasa, 25 Maret 2025: Libur akhir bulan Ramadhan 2025.\n",
      "• Rabu, 26 Maret 2025: Libur akhir bulan Ramadhan 2025.\n",
      "• Kamis, 27 Maret 2025: Libur akhir bulan Ramadhan 2025.\n",
      "• Jumat, 28 Maret 2025: Libur akhir bulan Ramadhan 2025.\n",
      "Baca juga:\n",
      "Cek fakta, sekolah diliburkan selama Ramadhan\n",
      "Cuti bersama dan hari libur nasional Maret 2025\n",
      "Pemerintah telah menetapkan hari libur nasional dan cuti bersama tahun 2025 melalui Surat Keputusan Bersama (SKB) 3 Menteri, yaitu SKB Nomor 1017 Tahun 2024, Nomor 2 Tahun 2024, dan Nomor 2 Tahun 2024.\n",
      "Keputusan ini ditandatangani oleh Menteri Agama (Menag), Menteri Ketenagakerjaan (Menaker), serta Menteri Pendayagunaan Aparatur Negara dan Reformasi Birokrasi (PANRB).\n",
      "Cuti bersama Maret 2025\n",
      "Berdasarkan SKB tersebut, cuti bersama di bulan Maret 2025 ditetapkan pada:\n",
      "• Jumat, 28 Maret 2025: Cuti Bersama Hari Suci Nyepi (Tahun Baru Saka 1947).\n",
      "Hari libur nasional Maret 2025\n",
      "Sementara itu, hari libur nasional di bulan Maret 2025 adalah sebagai berikut:\n",
      "• Sabtu, 29 Maret 2025: Hari Suci Nyepi (Tahun Baru Saka 1947).\n",
      "• Senin, 31 Maret 2025: Idul Fitri 1446 Hijriah.\n",
      "Baca juga:\n",
      "Hari libur Bulan Februari 2025? Ini daftar dan penjelasannya\n",
      "Libur nasional Hari Raya Idul Fitri 1446 H\n",
      "Untuk diketahui, berdasarkan kalender Hijriah yang dirilis oleh Kementerian Agama (Kemenag), libur nasional Hari Raya Idul Fitri 1446 H juga telah ditetapkan pada Selasa, 1 April 2025. Selain itu, pemerintah menambahkan cuti bersama guna memberikan kesempatan bagi masyarakat merayakan Lebaran bersama keluarga sepanjang bulan April.\n",
      "Berikut jadwal cuti bersama Lebaran 2025:\n",
      "• Rabu, 2 April 2025: Cuti bersama Idul Fitri 1446 H\n",
      "• Kamis, 3 April 2025: Cuti bersama Idul Fitri 1446 H\n",
      "• Jumat, 4 April 2025: Cuti bersama Idul Fitri 1446 H\n",
      "• Sabtu, 5 April 2025: Hari akhir pekan\n",
      "• Minggu, 6 April 2025: Tanggal merah akhir pekan\n",
      "• Senin, 7 April 2025: Cuti bersama Idul Fitri 1446 H\n",
      "Dengan adanya libur akhir pekan pada Sabtu, 5 April 2025, dan Minggu, 6 April 2025, masa libur Lebaran semakin panjang. Secara keseluruhan, pekerja dan pegawai mendapatkan total libur selama enam hari berturut-turut\n",
      "Baca juga:\n",
      "Mendikdasmen: Libur Lebaran anak sekolah dipercepat jadi 21 Maret\n",
      "Baca juga:\n",
      "Jadwal libur sekolah awal Ramadhan 2025\n",
      "Pewarta: Sean Anggiatheda Sitorus\n",
      "Editor: Suryanto\n",
      "Copyright © ANTARA 2025\n"
     ]
    }
   ],
   "source": [
    "from bs4 import BeautifulSoup\n",
    "import requests\n",
    "\n",
    "# URL to scrape\n",
    "url = \"https://www.antaranews.com/berita/4698137/libur-sekolah-lebih-awal-berikut-jadwal-lengkap-hari-libur-maret-2025\"\n",
    "response = requests.get(url)\n",
    "soup = BeautifulSoup(response.content, 'html.parser')\n",
    "\n",
    "# Dictionary to store parent elements and their <p> count\n",
    "parent_p_count = {}\n",
    "\n",
    "# Find all <p> elements\n",
    "for p in soup.find_all('p'):\n",
    "    parent = p.find_parent()  # Get the parent of <p>\n",
    "    \n",
    "    if parent:\n",
    "        parent_p_count[parent] = parent_p_count.get(parent, 0) + 1  # Count <p> elements under each parent\n",
    "\n",
    "# Find the parent with the most <p> children\n",
    "if parent_p_count:\n",
    "    max_parent = max(parent_p_count, key=parent_p_count.get)  # Get the parent with the max <p> count\n",
    "    print(max_parent.get_text(\"\\n\", strip=True))  # Print only the text inside the parent\n",
    "else:\n",
    "    print(\"No parent with multiple <p> tags found.\")\n"
   ]
  },
  {
   "cell_type": "code",
   "execution_count": 1,
   "metadata": {},
   "outputs": [
    {
     "name": "stdout",
     "output_type": "stream",
     "text": [
      "12 Maret 2025\n"
     ]
    }
   ],
   "source": [
    "import time\n",
    "\n",
    "# Mapping months to Indonesian names\n",
    "bulan = {\n",
    "    \"January\": \"Januari\", \"February\": \"Februari\", \"March\": \"Maret\", \"April\": \"April\",\n",
    "    \"May\": \"Mei\", \"June\": \"Juni\", \"July\": \"Juli\", \"August\": \"Agustus\",\n",
    "    \"September\": \"September\", \"October\": \"Oktober\", \"November\": \"November\", \"December\": \"Desember\"\n",
    "}\n",
    "\n",
    "def current_date():\n",
    "    raw_date = time.strftime(\"%d %B %Y\", time.localtime())\n",
    "    for eng, indo in bulan.items():\n",
    "        raw_date = raw_date.replace(eng, indo)\n",
    "    return raw_date\n",
    "\n",
    "print(current_date())\n"
   ]
  },
  {
   "cell_type": "code",
   "execution_count": 2,
   "metadata": {},
   "outputs": [
    {
     "name": "stdout",
     "output_type": "stream",
     "text": [
      "['https://news.detik.com/berita/indeks?page=2&date=03/12/2025', 'https://news.detik.com/berita/indeks?page=3&date=03/12/2025', 'https://news.detik.com/berita/indeks?page=4&date=03/12/2025', 'https://news.detik.com/berita/indeks?page=1&date=03/12/2025']\n"
     ]
    }
   ],
   "source": [
    "import requests\n",
    "from bs4 import BeautifulSoup\n",
    "import datetime\n",
    "\n",
    "def generate_url():\n",
    "    today = datetime.date.today()\n",
    "    formatted_date = today.strftime(\"%m%%2F%d%%2F%Y\")  # MM%2FDD%2FYYYY\n",
    "    return f\"https://news.detik.com/berita/indeks?date={formatted_date}\"\n",
    "\n",
    "def get_numbered_links(url):\n",
    "    response = requests.get(url)\n",
    "    soup = BeautifulSoup(response.content, 'html.parser')\n",
    "\n",
    "    # Find the 'Prev' or 'Next' anchor tag\n",
    "    prev_next_link = soup.find('a', string=lambda text: text and text.strip().lower() in [\"prev\", \"next\"])\n",
    "\n",
    "    if prev_next_link:\n",
    "        parent = prev_next_link.find_parent()  # Get the parent element\n",
    "        if parent:\n",
    "            numbered_links = set()  # Use a set to ensure no duplicates\n",
    "            for anchor in parent.find_all('a', href=True):\n",
    "                text = anchor.text.strip()\n",
    "                if text.isdigit() and 1 <= int(text) <= 9:\n",
    "                    if text.lower() not in [\"prev\", \"next\"]:  # Exclude prev and next\n",
    "                        numbered_links.add(anchor['href'])  # Add to set to remove duplicates\n",
    "            return list(numbered_links)  # Convert back to list before returning\n",
    "    return []\n",
    "\n",
    "# Example usage\n",
    "url = generate_url()\n",
    "numbered_links = get_numbered_links(url)\n",
    "print(numbered_links)\n"
   ]
  },
  {
   "cell_type": "code",
   "execution_count": null,
   "metadata": {},
   "outputs": [],
   "source": [
    "def get_articles(url):\n",
    "    response = requests.get(url)\n",
    "    soup = BeautifulSoup(response.content, 'html.parser')\n",
    "\n",
    "    articles = {}  # Dictionary to store unique titles and links\n",
    "\n",
    "    for h3 in soup.find_all('h3', class_='media__title'):\n",
    "        a_tag = h3.find('a', class_='media__link', href=True)\n",
    "        if a_tag:\n",
    "            title = a_tag.get_text(strip=True)  # Remove extra spaces & newlines\n",
    "            link = a_tag['href']\n",
    "\n",
    "            # Store unique articles (avoiding duplicates)\n",
    "            if link not in articles:\n",
    "                articles[link] = title\n",
    "\n",
    "    return articles\n"
   ]
  },
  {
   "cell_type": "code",
   "execution_count": 5,
   "metadata": {},
   "outputs": [],
   "source": [
    "def extract_content(url):\n",
    "    try:\n",
    "        response = requests.get(url, timeout=10)\n",
    "        response.raise_for_status()\n",
    "        soup = BeautifulSoup(response.text, 'html.parser')\n",
    "\n",
    "        # Find all <p> tags within the div.detail__body-text\n",
    "        content_div = soup.find('div', class_='detail__body-text')\n",
    "        if content_div:\n",
    "            paragraphs = content_div.find_all('p')\n",
    "            paragraph_text = ' '.join(p.get_text(strip=True) for p in paragraphs)  # Join text without newlines\n",
    "            return paragraph_text\n",
    "        return \"\"  # Return empty string if no content found\n",
    "    except requests.exceptions.RequestException as e:\n",
    "        print(f\"Error fetching content from {url}: {e}\")\n",
    "        return \"\""
   ]
  },
  {
   "cell_type": "code",
   "execution_count": null,
   "metadata": {},
   "outputs": [
    {
     "name": "stdout",
     "output_type": "stream",
     "text": [
      "Processing: TB Hasanuddin Minta Seskab Teddy Mundur dari TNI, Ungkit Penjelasan Istana\n",
      "Processing: Bagaimana Persiapan Pengamanan Jalur Mudik? Yuk, Simak di Sini!\n",
      "Processing: Jangan Lewatkan! #DemiIndonesia Bangkitkan Koperasi Hari Ini Hanya di detikcom\n",
      "Processing: Ngaku Intel, Pria Minta 'Jatah Bensin' di Jakpus Ternyata Pecatan Polisi\n",
      "Processing: Mendes Yandri Temui Jaksa Agung Adukan Dana Desa Dipakai Judol\n",
      "Processing: IOJI Dorong Pemerintah Beri Hukuman Penjara Jika Pejabat Terlibat Pagar Laut\n",
      "Processing: Kapolda Metro Tegakkan Disiplin, Pecat 4 Anggota Terbukti Melanggar\n",
      "Processing: Barang-barang Ini Disita KPK dari Rumah Ridwan Kamil\n",
      "Processing: Arus Balik, Menhub Ungkap Ada Usul WFA Juga Diberlakukan Usai Lebaran\n",
      "Processing: Gubernur Banten-Kapolda Cek Gudang Bulog Pastikan Stok Beras Aman\n",
      "Processing: Koster Ungkap Nama Ketut dan Nyoman Terancam Punah\n",
      "Processing: Transmedia dan PAM JAYA Teken MoU Sosialisasi Proyek Penyediaan Air Minum\n",
      "Processing: Penggunaan Bahu Jalan Tol Dalkot Dimajukan Jadi Jam 17.00 Selama Ramadan\n",
      "Processing: Marak Aksi Premanisme di Tanah Abang, Pramono Dukung Aparat Tindak Tegas\n",
      "Processing: Petugas PUPR Angkut 6 Ban Bekas Bikin Mampet Got di Jalan KSU Depok\n",
      "Processing: Perkara Review Makanan Berujung Codeblu Dipolisikan\n",
      "Processing: Menag Ungkap Alasan Libur Sekolah Lebaran 2025 Diperpanjang Jadi 20 Hari\n",
      "Processing: Menag: Koruptor Nerakanya Lebih Jahanam Dibanding Pencurian Biasa\n",
      "Processing: Penyebab Kebakaran 3 Gerbong Kereta di Stasiun Tugu Jogja Masih Ditelusuri\n",
      "Processing: Kisah Pilu Castiel, Bayi Penderita Tumor Hati yang Berjuang Sembuh\n",
      "Processing: 3 Pesawat Dikerahkan Modifikasi Cuaca Jakarta-Jabar pada 11-20 Maret\n",
      "Processing: Layanan Gratis Masuk Museum di Jakarta, Begini Syarat dan Caranya\n",
      "Processing: Pria di Cibinong Bogor Tewas Ditusuk Alami 5 Luka Tusukan\n",
      "Processing: Kronologi Kebakaran Gerbong Kereta Cadangan di Stasiun Tugu Jogja\n",
      "Processing: Viral Maling Motor Dikejar-kejar Warga di Depok Berujung Dikeroyok\n",
      "Processing: Info Acara Khataman Al-Qur'an Peringati Nuzulul Quran 2025 di Istiqlal\n",
      "Processing: Kapan THR Lebaran 2025 Cair? Ini Jadwal untuk PNS dan Karyawan Swasta\n",
      "Processing: Cara Daftar Mudik Gratis Kapal Laut Kemenhub Lebaran 2025\n",
      "Processing: Heboh Teror Penembakan Sasar Mobil Rental di Malang\n",
      "Processing: Pengabdian Bripka Batias di Keerom: Ajari Anak-anak Membaca hingga Bina Petani\n",
      "Processing: 3 Hambatan Utama di Jalur Mudik Kalimalang: Jalan Berlubang-Pasar Tumpah\n",
      "Processing: Pramono Dukung Polisi Tindak Tegas Pihak Sunat Minyakita: Ini Keterlaluan\n",
      "Processing: Dikritik soal Naik Perahu Karet Saat Cek Banjir, Ini Kata Rano Karno\n",
      "Processing: Mahasiswi di Bekasi Terjatuh ke Kolong Truk hingga Tewas Terlindas\n",
      "Processing: Larangan Study Tour Sekolah di Jabar Berdampak ke Jumlah Kunjungan TMII\n",
      "Processing: 83 Rumah Warga Rusak Akibat Tanah Bergerak di Sukamakmur Bogor\n",
      "Processing: Pramono Bertemu Kepala Badan Gizi Sore Ini, Bahas Nasib Sarapan Gratis di DKI\n",
      "Processing: Kejagung Diminta Periksa Eks Menteri ESDM soal Korupsi Tata Kelola Minyak Mentah\n",
      "Processing: Pramono Ingin Jakarta Ubah Orientasi dari Kendaraan Pribadi ke Kendaraan Umum\n",
      "Processing: Polda Metro Kantongi 3 Distributor 'Nakal' Kurangi Takaran Minyakita\n",
      "Data collection complete!\n"
     ]
    }
   ],
   "source": [
    "# Step 1: Get the main index page\n",
    "url = generate_url()\n",
    "\n",
    "# Step 2: Find pagination links\n",
    "pagination_links = get_numbered_links(url)\n",
    "\n",
    "# Step 3: Extract articles from the main page\n",
    "articles = get_articles(url)\n",
    "\n",
    "# Step 4: Scan each pagination page for more articles\n",
    "for page_link in pagination_links:\n",
    "    page_articles = get_articles(page_link)\n",
    "    articles.update(page_articles)  # Merge, avoiding duplicates\n",
    "\n",
    "# Step 5: Extract content for each article\n",
    "data = []\n",
    "for link, title in articles.items():\n",
    "    print(f\"Processing: {title}\")  # Print progress\n",
    "    content = extract_content(link)\n",
    "    date = current_date()   # Placeholder for now, can extract if needed\n",
    "    is_fake = 0  # Assuming articles are real by default\n",
    "    data.append([title, link, date, content, is_fake])\n",
    "    time.sleep(2)  # Avoid overwhelming the server\n",
    "\n",
    "# Print final dataset\n",
    "print(\"Data collection complete!\")\n",
    "for row in data:\n",
    "    print(row)"
   ]
  },
  {
   "cell_type": "code",
   "execution_count": 7,
   "metadata": {},
   "outputs": [
    {
     "data": {
      "text/plain": [
       "[['TB Hasanuddin Minta Seskab Teddy Mundur dari TNI, Ungkit Penjelasan Istana',\n",
       "  'https://news.detik.com/berita/d-7819380/tb-hasanuddin-minta-seskab-teddy-mundur-dari-tni-ungkit-penjelasan-istana',\n",
       "  '',\n",
       "  'Anggota Komisi I DPR Fraksi PDIP TB Hasanuddin menilai SeskabLetkol Teddy Indra Wijayaseharusnya mundur dari TNI karena menduduki jabatan sipil. Hasanuddin menyinggung pernyataan Istana Kepresidenan soal jabatan Seskab berada di bawah Kementerian Sekretariat Negara, bukan Sekretariat Militer. Hasanuddin awalnya menyinggung daftar inventarisasi masalah (DIM) dari pemerintah ada 15 kementerian atau lembaga (K/L) yang bisa diisi oleh prajurit TNI aktif. Hasanuddin mengatakan sempat menyampaikan pendapat di Istana terkait posisi Teddy. \"Saat itu saya menyarankan agar jika ingin mempertahankan status militer Mayor Teddy, maka posisinya sebaiknya ditempatkan di Sekretariat Militer. Ada beberapa jabatan di sana, seperti Kepala Biro Umum, Kepala Biro Tanda Pangkat, dan Kepala Biro Tanda Jasa dan Kehormatan. Kalau mau, ya di tambahkan saja satu Kepala Biro Sekretariat Kabinet di bawah Sekretariat Militer. Itu sesuai dengan UU TNI Pasal 47,\" kata TB Hasanuddin kepada wartawan, Rabu (12/3/2025). ADVERTISEMENT SCROLL TO CONTINUE WITH CONTENT Hasanuddin mengungkit pernyataan Kepala Kantor Komunikasi Kepresidenan (PCO) Hasan Nasbi pada (21/10/2024) bahwa Seskab berada di bawah Kementerian Sekretariat Negara, bukan di bawah Sekretariat Militer. Pernyataan tersebut, kata dia, juga diperkuat oleh Kepala Dinas Penerangan TNI AD Brigjen Wahyu Yudhayana. Oleh karena itu, Hasanuddin meminta Letkol Teddy harus mundur dari jabatan Seskab. Hasanuddin menegaskan prajurit aktif hanya boleh mengisi jabatan sipil di 15 kementerian atau lembaga. \"Maka sesuai aturan Teddy harus mundur dari prajurit TNI. Ini jelas tidak termasuk dalam Pasal 47 UU TNI,\" ujarnya. TB Hasanuddin menegaskan perlunya konsistensi dalam menjalankan aturan hukum agar tidak menimbulkan polemik dan menjaga profesionalisme TNI. Untuk diketahui, dalam Pasal 47 ayat 2 UU TNI tahun 2004 prajurit aktif dapat menduduki jabatan sipil di 10 kementerian atau lembaga. Namun, di usulan terbaru dari pemerintah dalam DIM ada penambahan lima K/L di antaranya KKP, BNPB, BNPT, Keamanan Laut dan Kejagung.',\n",
       "  0],\n",
       " ['Bagaimana Persiapan Pengamanan Jalur Mudik? Yuk, Simak di Sini!',\n",
       "  'https://news.detik.com/berita/d-7819366/bagaimana-persiapan-pengamanan-jalur-mudik-yuk-simak-di-sini',\n",
       "  '',\n",
       "  'Masyarakat Indonesia siap melaksanakan mudik menjelang Hari Raya Idul Fitri 2025. Berdasarkan hasil analisa terbaru, puncak arus mudik diperkirakan terjadi antara tanggal 28 hingga 30 Maret 2025. Kepala Korps Lalu Lintas Polri (Korlantas), Irjen Agus Suryo Nugroho mengatakan sejumlah kebijakan lalu lintas telah disiapkan untuk menghadapi arus mudik dan arus balik Lebaran tahun 2025. \"Jalan tol nanti akan terjadi kebangkitan arus yang cukup tinggi sehingga strategi kita yang pertama contraflow. Contraflow nanti tergantung tempatnya di mana dan bagaimana caranya sudah kami rumuskan,\" ungkap Suryo beberapa waktu lalu. ADVERTISEMENT SCROLL TO CONTINUE WITH CONTENT Ia mengatakan, kebijakan one way nasional juga akan tetap diterapkan dalam arus mudik Lebaran 2025. One way acap kali dilakukan pada H-3 Lebaran saat arus pemudik mulai meningkat drastis. Rekayasa lalu lintas juga akan diberlakukan dengan melihat situasi di lapangan \"Bila terjadi puncak arus biasanya H-3 nanti akan kita lakukan one way nasional, termasuk juga pada saat arus balik. Jadi H-3 atau H-2 akan kita umumkan ketika terjadi kebangkitan arus akan kita umumkan one way,\" ujarnya. Dalam upaya mengelola arus mudik, Korlantas Polri berkolaborasi dengan berbagai pihak untuk merancang rekayasa lalu lintas, mengamankan jalur, serta menyediakan fasilitas bagi pemudik di lokasi-lokasi strategis dalam diskusi Interaktif \\'Mudik Aman Keluarga Nyaman\\'. Acara ini akan menghadirkan berbagai pemangku kepentingan dengan membahas strategi pengamanan mudik, kesiapan infrastruktur, serta inovasi transportasi guna meningkatkan kenyamanan bagi para pemudik. Sebagai bagian dari upaya sosialisasi, program ini juga menyajikan liputan khusus melalui berbagai platform digital. Masyarakat dapat memperoleh informasi terbaru mengenai kondisi jalur mudik, rekayasa lalu lintas, serta tips perjalanan aman melalui media online dan siaran langsung. Melalui Mudik Aman Keluarga Nyaman, seluruh pemudik diharapkan dapat melakukan perjalanan dengan selamat hingga sampai ke kampung halaman dan merayakan Lebaran bersama keluarga tercinta. Pastikan selalu mengikuti informasi resmi dari pihak berwenang dan tetap mengutamakan keselamatan dalam perjalanan. Jangan lewatkan live streaming Mudik Aman Keluarga Nyaman Bersama Korlantas Polri pada 14 Maret 2025 pukul 14:00 WIB di detikcom.',\n",
       "  0],\n",
       " ['Jangan Lewatkan! #DemiIndonesia Bangkitkan Koperasi Hari Ini Hanya di detikcom',\n",
       "  'https://news.detik.com/berita/d-7819363/jangan-lewatkan-demiindonesia-bangkitkan-koperasi-hari-ini-hanya-di-detikcom',\n",
       "  '',\n",
       "  'Koperasi menjadi soko guru perekonomian nasional. PemerintahanPrabowo Subianto-GibranRakabuming Raka memberi perhatian dengan menyebut koperasi ke dalam program visi Asta Cita. Kementerian Koperasi yang dipimpin Menteri Koperasi Budi Arie merumuskan program strategis dalam rangka menyelesaikan problematika koperasi di Indonesia dan mengembalikan marwah koperasi Indonesia. Kementerian Koperasi pun bekerja sama dengandetikcommenghadirkan #DemiIndonesiaAyo Berkoperasi, Koperasi Bangkit. #DemiIndonesiaAyo Berkoperasi, Koperasi Bangkit adalah program komprehensif yang bertujuan untuk meningkatkan pemahaman dan kesadaran seluruh lapisan masyarakat Indonesia tentang pentingnya menerapkan sistem koperasi dan keuntungan pemaksimalan sistem koperasi melalui wawasan yang relevan dan penerapan yang praktis oleh para ahli. ADVERTISEMENT SCROLL TO CONTINUE WITH CONTENT   Acara ini nantinya akan dimoderatori oleh Pemimpin RedaksidetikcomAlfito Deannova Ginting. Hadir pula Menteri Koperasi Budi Arie Setiadi mengisi keynote speech sekaligus narasumber dalam talkshow inspiratif #DemiIndonesia Ayo Berkoperasi, Koperasi Bangkit. Acara ini juga menghadirkan sesi hiburan dari Uut Salsabil. Tak hanya Budi Arie, acara #DemiIndonesia Ayo Berkoperasi akan menghadirkan berbagai narasumber yang kompeten di bidangnya, di antaranya: 1. Komjen Tomsi Tohir Balaw - Sekjen Kementerian Menteri Dalam Negeri 2. Yandri Susanto - Menteri Desa dan Pembangunan Daerah Tertinggal 3. Munadi Herlambang - Direktur Institutional Banking BNI 4. Supomo - Direktur Utama LPDB (Lembaga Pengelola Dana Bergulir) Dilaksanakan pada hari ini, Rabu, 12 Maret 2025, #DemiIndonesia Ayo Berkoperasi, Koperasi Bangkit juga akan menghadirkan buka puasa bersama yang menjadi ajang silaturahmi di bulan suci Ramadan. Saksikan penampilan komika secara gratis dan raih kesempatan untuk membawa pulang doorprize dengan mengikuti acara ini. Jangan lewatkan keseruannya! Datang dan saksikan acara#DemiIndonesiaAyo Berkoperasi,Koperasi Bangkitpada hari ini, Rabu, 12 Maret 2025 pukul 15.00 WIB, bertempat di Menara Bank Mega, Jakarta Selatan. Bagi yang ingin mengikuti secara daring, bisa mengunjungi lamandetikcom. #DemiIndonesia#AyoBerkoperasi#KoperasiBangkitdipersembahkan olehdetikcombekerja sama dengan Kementerian Koperasi dan Lembaga Pengelola Dana Bergulir serta didukung PT Bank Negara Indonesia (Persero) Tbk dan PT PLN (Persero).',\n",
       "  0],\n",
       " [\"Ngaku Intel, Pria Minta 'Jatah Bensin' di Jakpus Ternyata Pecatan Polisi\",\n",
       "  'https://news.detik.com/berita/d-7819356/ngaku-intel-pria-minta-jatah-bensin-di-jakpus-ternyata-pecatan-polisi',\n",
       "  '',\n",
       "  'Seorang pria berinisial DT (45) ditangkap setelah melakukanpemalakanterhadap sopir angkot Jaklingko di Stasiun Tanah Abang, Jakarta Pusat. DT mengaku sebagai intel kepolisian untuk menakut-nakuti korban saat itu. Kapolsek Metro Gambir Kompol Rezeki Respati mengatakan DTmerupakan pecatan polisi.DT resmi dipecat sejak 13 tahun lalu karena desersi atau meninggalkan tugas tanpa alasan yang jelas dalam waktu yang lama. \"Artinya sejak tahun 2012 tersangka ini sudah tidak lagi menjadi anggota Kepolisian Negara Republik Indonesia,\" kata Kompol Respati dalam jumpa pers di Mapolsek Metro Gambir, Jakarta Pusat, Rabu (12/3/2025). ADVERTISEMENT SCROLL TO CONTINUE WITH CONTENT Respati menceritakan DT mengaku intel Polri untuk menakut-nakuti korban saat dirinya terdesak. DT sempat mendapat perlawanan dari korban dan rekan-rekannya sambil mengeluarkan senjata api yang ternyata korek api. \"Kemudian senjata ini pada saat ada perlawanan itu, dia mengaku intel Polri. Tapi ada masyarakat (melihat) di situ (pistol) ternyata jatuh,\" katanya. \"Kemudian pada saat jatuh diamankan oleh masyarakat pada saat diledakkan ke atas ternyata itu korek (api),\" jelasnya. Setelah diketahui bahwasenpi tersebut adalah korek api, DT kemudian diamankan oleh sekuriti stasiun. Kemudian dia dibawa ke Polsek Metro Gambir. Pada malam kejadian, DT memalak empat sopir angkot yang sedang bermain ludo sehabis buka puasa. Imbas perbuatannya itu, DT dijerat dengan Pasal 368 KUHP dengan ancaman 9 tahun penjara. \"Ada pun pasal yang kita persangkakan, pemerasan pasal 368 KUHP. Untuk korban ada sekitar 3-4 orang sopir angkot yang pada saat itu sedang bermain ludo,\" jelas dia.',\n",
       "  0],\n",
       " ['Mendes Yandri Temui Jaksa Agung Adukan Dana Desa Dipakai Judol',\n",
       "  'https://news.detik.com/berita/d-7819342/mendes-yandri-temui-jaksa-agung-adukan-dana-desa-dipakai-judol',\n",
       "  '',\n",
       "  'Menteri Desa dan Pembangunan Daerah Tertinggal(Mendes PDT) Yandri Susanto menemui Jaksa Agung ST Burhanuddin di kantornya. Yandri meminta Kejaksaan mendalami terkait adanya penyimpangan dana desa, yaitu kepala desa yang menggunakan dana desa untuk judionline. \"Kami tadi juga mendiskusikan dengan Pak Jaksa Agung dan jajaran bahwa hasil evaluasi kami beberapa tahun terakhir, terutama tahun 2024 banyak penyimpangan dana desa, di antaranya ada oknum kepala desa yang menggunakan untuk judionline,\" kata Yandri, di Kejagung, Rabu (12/3/2025). Yandri mengatakan ada pula dana desa yang digunakan untuk kepentingan lain sertawebsitefiktif. Oleh karena itu, Yandri meminta Kejaksaan mendalami sejumlah dugaan penyimpangan dana desa tersebut. ADVERTISEMENT SCROLL TO CONTINUE WITH CONTENT \"Tadi juga kami bicarakan dan kami juga minta ini disupervisi atau didalami oleh pihak Kejaksaan, sehingga ada efek jera, para oknum kepala desa itu agar tidak mengulangi dan yang belum melakukan jangan sampai melakukan,\" katanya. Namun Yandri tak merinci siapa saja oknum pelaku penyimpangan dana desa maupun berapa jumlah dana desa yang dimainkan oleh oknum. Ia mengaku telah menerima datanya dari PPATK. Ia menyerahkan penanganan kasus tersebut kepada penegak hukum. \"Jadi kami di pihak yang meminta untuk aparat penegak hukum, tentu sudah kami serahkan. Kami tidak akan menyampaikan secara detail nama kepala desanya siapa, berapa jumlahnya, di desa mana, bulan berapa dia melakukan perbuatan tidak benar itu, semuanya sudah kami serahkan,\" katanya. \"Tinggal nanti mohon aparat penegak hukum yang akan kita minta untuk menelah lebih jauh tentang perbuatan melawan hukum itu,\" sambungnya. Selain itu Yandri mengatakan pada pertemuan itu pihaknya juga meminta agar Kejaksaan mengawal dan mengawasi dana desa. Saat ini telah ada aplikasi khusus dari Kejaksaan Agung Republik Indonesia yaitu aplikasi Jaga Desa, aplikasi tersebut untuk melaporkan secara langsung persoalan yang ada di desa. \"Bayangkan selama 10 tahun terakhir dana desa itu ada Rp 610 triliun. Dan tahun ini, tahun 2025 ada Rp 71 Triliun. Nah oleh karena itu kami dari Kementerian Desa dan Pembangunan Daerah Tertinggal perlu melakukan kolaborasi dengan aparat penegak hukum,\" kata Yandri. \"Karena bagaimanapun tangan kami tentu tidak sanggup secara sendirian untuk memastikan bahwa rupiah per rupiah dana itu benar adanya dimanfaatkan untuk kesejahteraan rakyat,\" katanya. Merespons hal itu, Jaksa Agung ST Burhanuddin mengatakan Kejaksaan siap melakukan penindakan jika ditemukan adanya penyimpangan penggunaan dana desa. \"Jadi pada dasarnya pendampingan-pendampingan ini, full kita kerjakan dan baik lagi dari segi preventif maupun represif. Jadi kita lakukan bagaimana mencegah terjadinya kebocoran. Dan kalau ada kebocoran akan kita tindak, itu yang akan kita lakukan,\" kata Burhanuddin.',\n",
       "  0],\n",
       " ['IOJI Dorong Pemerintah Beri Hukuman Penjara Jika Pejabat Terlibat Pagar Laut',\n",
       "  'https://news.detik.com/berita/d-7819337/ioji-dorong-pemerintah-beri-hukuman-penjara-jika-pejabat-terlibat-pagar-laut',\n",
       "  '',\n",
       "  'Peneliti Indonesia Ocean Justice Initiative (IOJI) Andreas Aditya Salim berbicara perihalkasus pemasangan pagar laut di perairan Tangerangyang tengah ramai dibicarakan. Andreas menilai pemerintah dalam hal ini Kementerian ATR/BPN bisa menjerat oknum pejabat jika terlibat dengan Undang-undang Penataan Ruang. Hal itu disampaikan IOJI saat diskusi dengan tema \\'Momentum Perbaikan Tata Kelola Pesisir: Pagar Laut Dibongkar, What\\'s Next?\\', Kebayoran, Jakarta Selatan, Rabu (12/3/2025). Diskusi ini membahas tindak lanjut dari proses hukum yang sedang berjalan mengenai pagar laut di kawasan perairan Kabupaten Tangerang. \"Berkenaan dengan penegakan hukum, mendorong Kementerian ATR/BPN tidak saja menjatuhkan sanksi administratif terhadap pejabat atau pegawai pada kantor Pertanahan Kabupaten Tangerang. Tetapi juga melakukan penyidikan terhadap dugaan tindak pidana yang diatur dalam Undang-undang penataan ruang,\" kata Andreas. ADVERTISEMENT SCROLL TO CONTINUE WITH CONTENT Andreas menerangkan selain Kementerian ATR/BPN, Polri juga diharapkan terus melakukan penindakan terhadap pelanggaran hukum yang terjadi di kasus pagar laut ini. Dia juga meminta Polri agar menyelidiki dugaan tindak pidana terhadap undang-undang kelautan di kasus pagar laut ini. \"Mendorong Kepolisian Republik Indonesia tidak saja melakukan proses hukum terhadap dugaan tindak pidana pemalsuan dokumen yang dilakukan oleh Kepala Desa Kohod. Tetapi juga melakukan penyelidikan dan penyidikan terhadap dugaan tindak pidana yang diatur dalam UU kelautan,\" ujar Andreas. Andreas meminta pemerintah menindak tegas berupa ancaman hukuman penjara jika ada oknum pejabat yang terlibat dalam kasus ini. Dia menyebut penindakan ini sudah sesuai dengan Pasal 74 ayat 1 Undang-undang Penataan ruang. \"Sanksinya adalah pidana penjara dan denda kepada pengurus, denda terhadap korporasi dan pencabutan izin dan atau status badan hukum,\" imbuhnya.',\n",
       "  0],\n",
       " ['Kapolda Metro Tegakkan Disiplin, Pecat 4 Anggota Terbukti Melanggar',\n",
       "  'https://news.detik.com/berita/d-7819317/kapolda-metro-tegakkan-disiplin-pecat-4-anggota-terbukti-melanggar',\n",
       "  '',\n",
       "  'Polda Metro Jaya menggelar upacarapemberhentian tidak dengan hormat (PTDH)terhadap 4 anggota. Keempat anggota tersebut dipecat karena melakukan pelanggaran serius. Upacara PTDH ini dipimpin langsung oleh Kapolda Metro Jaya Irjen Karyoto. Karyoto mengatakan pemecatan terhadap personel yang melakukan pelanggaran ini adalah upaya untuk menjaga integritas dan nama baik institusi Polri. Kapolda Metro Jaya, Irjen Pol. Karyoto, menjadi inspektur upacara pemberhentian tidak dengan hormat (PTDH) terhadap empat anggota Polda Metro Jaya yang terbukti melakukan pelanggaran serius, Rabu (12/03/2025), sebagai upaya menjaga integritas dan nama baik Polri. ADVERTISEMENT SCROLL TO CONTINUE WITH CONTENT \"Para peserta apel sekalian, di balik prestasi yang diperoleh oleh rekan-rekan, pada hari ini dengan rasa berat hati saya sebagai Kapolda Metro Jaya harus melaksanakan PTDH terhadap 4 orang anggota dari Satker Polda Metro Jaya,\" kata Karyoto dalam sambutannya, Rabu (12/3/2025). Karyoto mengatakan sanksi PTDH ini diberikan karena keempat personel tersebut terbukti melakukanpelanggaran serius. Keempat personel yang dipecat itu adalah Bripka PR, Aipda BR, Aipda UW, dan Bripda A. \"Pemberhentian tidak dengan hormat atau PTDH ini merupakan sanksi administratif yang diberikan kepada anggota yang telah terbukti melakukan pelanggaran serius,\" imbuhnya. Karyoto menyampaikan bahwa keputusan PTDH ini harus diambil untuk menegakkan disiplin di lingkungan Polda Metro Jaya. Adapun pelanggaran serius yang dilakukan keempat anggota itu antara lain Bripda A dengan pelanggaran kasus perzinaan, sedangkan 3 orang lainnya, yaitu Bripka PR, Aipda BR, dan Aipda UW, melakukan pelanggaran kasus penipuan. Jenderal bintang dua ini menegaskan keputusan tersebut merupakan langkah penting dalam upaya menjaga nama baik institusi Polri. PTDH diambil untuk mencegah tindakan individu yang bertentangan dengan kode etik dan aturan yang berlaku di kepolisian. \"Keputusan PTDH ini diambil sebagai upaya untuk menjaga nama baik institusi Polri agar tidak tercoreng oleh perilaku individu yang bertentangan dengan kode etik dan aturan yang berlaku di kepolisian,\" tegas Kapolda. Karyoto berharap peristiwa ini dapat menjadi pengingat bagi seluruh anggota Polda Metro Jaya untuk selalu bekerja sesuai dengan aturan yang ada,menghindari pelanggaran, dan menjaga kepercayaan masyarakat terhadap Polri. \"Saya berharap hal ini hendaknya menjadi pengingat bagi kita semua agar senantiasa bekerja sesuai aturan, menghindari segala bentuk pelanggaran, serta menjaga kepercayaan masyarakat terhadap Polri,\" sambungnya. Di akhir sambutannya, Karyoto mengingatkan pentingnya menjaga profesionalisme dalam setiap aspek tugas kepolisian. Dengan profesionalisme, Polri akan semakin dihormati dan menjadi kebanggaan bagi masyarakat dan institusinya. \"Jadilah teladan bagi sesama rekan dan masyarakat, karena dengan profesionalisme, kita akan semakin dihormati dan menjadi kebanggaan bagi institusi yang kita cintai,\" tutup Kapolda.',\n",
       "  0],\n",
       " ['Barang-barang Ini Disita KPK dari Rumah Ridwan Kamil',\n",
       "  'https://news.detik.com/berita/d-7819303/barang-barang-ini-disita-kpk-dari-rumah-ridwan-kamil',\n",
       "  '',\n",
       "  'Komisi Pemberantasan Korupsi telah menggeledah rumah mantan Gubernur Jawa BaratRidwan Kamil(RK) terkait kasus korupsi di Bank Pembangunan Daerah Jawa Barat dan Banten (BJB). KPK menyebut ada sejumlah dokumen hingga barang yang disita dari penggeledahan tersebut. \"Pastinya, kalau soal disita atau tidak, pasti ada ya, beberapa dokumen, kemudian beberapa barang. Itu ada prosesnya, sedang dikaji, sedang diteliti oleh para penyidik,\" kata Ketua KPK Setyo Budiyanto di gedung ACLC KPK, Jakarta, Rabu (12/3/2025). \"Memang tidak banyak, tapi setidaknya itu hal-hal yang relevan dengan penanganan perkara yang sekarang ditangani,\" tambahnya. ADVERTISEMENT SCROLL TO CONTINUE WITH CONTENT Setyo belum memerinci lebih detail terkait apa saja hal-hal yang disita KPK tersebut. Untuk sementara, dokumen hingga barang yang disita itu sedang diteliti apakah ada kaitannya dengan perkara BJB. \"Ya sementara kan pasti dikaji ya segala sesuatunya itu tidak serta-mertagitu. Diteliti, dilihat,gitu. Nanti kalau memang nggak ada relevansinya, pasti dikembalikan. Tapi yang ada nanti pasti akan diikutkan,\" sebutnya. Sebelumnya, KPK mengatakan ada kerugian negara yang timbul dari kasus korupsi di BJB. Kerugian negara ditaksir mencapai ratusan miliar rupiah. \"Ratusan miliar,\" kata Wakil Ketua KPK Fitroh Rohcahyanto saat dihubungi, Selasa (11/3). Fitroh menjawab besaran kerugian negara dalam kasus korupsi Bank BJB. Total ada lima orang yang telah ditetapkan sebagai tersangka dalam kasus ini. Fitroh mengatakan korupsi di Bank BJB berkaitan dengan proyek pengadaan iklan. \"Terkait dugaan korupsi pengadaan iklan,\" jelas Fitroh. Salah satu nama yang juga ikut terseret dalam kasus ini ialah mantan Gubernur Jawa Barat Ridwan Kamil (RK). Tim penyidik KPK menggeledah rumah RK di Bandung, Jawa Barat, pada Senin (10/3). RK juga telah buka suara terkait penggeledahan di rumahnya. RK mengaku siap mendukung proses hukum yang dijalankan KPK. \"Tim KPK sudah menunjukkan surat tugas resmi, dan kami selaku warga negara yang baik sangat kooperatif dan sepenuhnya mendukung dan membantu tim KPK secara profesional,\" kata RK dilansir detikJabar, Senin (10/3).  Simak Video: Suasana Rumah Ridwan Kamil yang Digeledah KPK Terkait Kasus BJB [Gambas:Video 20detik] ',\n",
       "  0],\n",
       " ['Arus Balik, Menhub Ungkap Ada Usul WFA Juga Diberlakukan Usai Lebaran',\n",
       "  'https://news.detik.com/berita/d-7819301/arus-balik-menhub-ungkap-ada-usul-wfa-juga-diberlakukan-usai-lebaran',\n",
       "  '',\n",
       "  'Kebijakanwork from anywhere(WFA) untuk aparatur sipil negara (ASN) dan pegawai BUMN menjelangmudik Lebaran 2025telah disetujui DPR RI. Kementerian Perhubungan (Kemenhub) mengatakan saat ini sedang berkoordinasi mengenai usulan WFA setelah Lebaran. \"Kami juga akan berkoordinasi dengan kementerian terkait agar pemberlakuan WFA juga untuk kepulangan,\" ujar Menhub Dudy Purwagandhi dalam rapat kerja bersama Komisi V DPR RI di gedung MPR/DPR/DPD, Jakarta, Selasa (11/3/2025). Untuk diketahui, usulan WFA menjelang mudik Lebaran telah disetujui. WFA akan dimulai pada 24 Maret 2025. ADVERTISEMENT SCROLL TO CONTINUE WITH CONTENT \"Alhamdulillah kami didukung dan mendapat persetujuan untuk melaksanakanwork from anywheredari 24 Maret 2025 hingga 27 Maret 2025,\" kata Dudy. Dudy mengatakan Kemenhub telah melakukan koordinasi dengan sejumlah kementerian terkait usulan WFA. Hal ini untuk mencegah penumpukan saat mudik Lebaran. \"Kami sampaikan indikasi jadwal dan dukungan Kementerian/lembaga atas rencanawork from anywhereselama periode angkutan Lebaran 2025. Kami melakukan koordinasi dengan Kementerian Dikdasmen, Kementerian Agama, dan Kementerian Dalam Negeri, berikut juga dengan KemenPAN-RB,\" ujarnya.  Simak juga Video: ASN Dapat Lampu Hijau Bisa WFA Mulai 24 Maret [Gambas:Video 20detik] ',\n",
       "  0],\n",
       " ['Gubernur Banten-Kapolda Cek Gudang Bulog Pastikan Stok Beras Aman',\n",
       "  'https://news.detik.com/berita/d-7819299/gubernur-banten-kapolda-cek-gudang-bulog-pastikan-stok-beras-aman',\n",
       "  '',\n",
       "  'Gubernur Banten Andra Sonibersama Kapolda Banten Irjen Suyudi Ario Seto mengecek gudang Bulog di Kota Serang. Mereka memastikan stok beras aman selama Ramadan dan Idul Fitri. Kunjungan itu dilakukan pada Rabu (12/3/2025). Mereka didampingi oleh Kepala Perum Bulog Cabang Serang Johan Wahyudi. Dalam kunjungan itu, terlihat stok beras sisa impor tahun lalu dan beras yang diserap dari petani Banten. Beberapa kali Andra Soni memastikan gudang Bulog menyerap padi hasil panen petani Banten. ADVERTISEMENT SCROLL TO CONTINUE WITH CONTENT \"Betul, Pak, ada di sini,\" ucap Johan menunjukkan tumpukan karung beras yang tidak dicap. Kepada wartawan, Andra Soni menyampaikan bahwa stok beras di Banten aman. Saat ini ada sekitar 400 ton beras di Banten. \"Kepala Distan (Dinas Pertanian) menyampaikan bahwa Banten, untuk stok beras itu ada 443 ton,\" ujar Andra Soni. Andra pun menyampaikan komitmen Bulog untuk menyerap gabah dan beras dari petani. Disampaikan bahwa gudang Bulog di Kota Serang telah menyerap sekitar 100 ton beras lokal. \"Jadi tadi disampaikan, Bulog ini menyerap dari lokal. Kalau yang ini stok impor lama, sekarang sudah tidak ada kebijakan impor. Jadi kita maksimalkan hasil panen masyarakat, dan dibeli juga sudah sesuai Rp 6.500 untuk gabah, dan Rp 12 ribu untuk beras,\" katanya.  Simak juga Video: Pemkot Bandung Jamin Stok-Harga Beras Aman Selama Ramadan [Gambas:Video 20detik] ',\n",
       "  0],\n",
       " ['Koster Ungkap Nama Ketut dan Nyoman Terancam Punah',\n",
       "  'https://news.detik.com/berita/d-7819278/koster-ungkap-nama-ketut-dan-nyoman-terancam-punah',\n",
       "  '',\n",
       "  'Gubernur Bali Wayan Kosterkembali menyinggung program empat anak untuk melindungi nama Nyoman atau Komang dan Ketut. Menurutnya, nama anak ketiga dan keempat khas Bali itu kini terancam punah. \"(Anak bernama) Ketut tinggal 6 persen, Nyoman tinggal 19 persen,\" ujar Koster dilansirdetikBali, Rabu (12/3/2025).  ADVERTISEMENT SCROLL TO CONTINUE WITH CONTENT  Koster pun berjanji bakal memberikan insentif kepada anak ketiga dengan nama depan Komang atau Nyoman dan anak keempat dengan nama depan Ketut. Insentif tersebut akan mulai diberikan pada tahun ini. \"Memberikan insentif kepada Nyoman dan Ketut mulai 2025,\" ujar Koster. Politikus PDIP itu lantas berkelakar kepada Wakil Gubernur Bali I Nyoman Giri Prasta. \"Mungkin Nyoman Giri Prasta akan menjadi nyoman yang terakhir,\" kata Koster disambut gelak tawa para hadirin. Koster tidak menjelaskan secara detail besaran insentif kepada anak bernama Nyoman dan Ketut itu. Pemerintah Provinsi (Pemprov) Bali, dia berujar, akan membentuk tim untuk mengatur teknis pemberian insentif tersebut. Baca berita selengkapnyadi sini.',\n",
       "  0],\n",
       " ['Transmedia dan PAM JAYA Teken MoU Sosialisasi Proyek Penyediaan Air Minum',\n",
       "  'https://news.detik.com/berita/d-7819277/transmedia-dan-pam-jaya-teken-mou-sosialisasi-proyek-penyediaan-air-minum',\n",
       "  '',\n",
       "  'TransmediabersamaPAM JAYAmenjalin kerja sama publikasi proyek sistem pengolahan air minum dan peningkatan layanan PAM JAYA. Kolaborasi ini diharapkan bisa membantu masyarakat Jakarta dalam hal penyediaan air bersih. Kerja sama itu terwujud dalam penandatanganan nota kesepahaman ataumemorandum of understanding(MoU) tentang publikasi dan sosialisasi Proyek Sistem Penyediaan Air Minum (SPAM) yang berlangsung di kantor pusat PAM JAYA, Rabu (12/3/2025). Direktur Utama PAM JAYA Arief Nasrudin hadir langsung, sedangkan dari Transmedia hadir CEO Transmedia yang menaungi Trans TV dan Trans7, yaitu Atiek Nur Wahyudi, dan CEO Detiknetwork Abdul Aziz. \"Ini sesuai arahan Pak Gubernur bahwasanya PAM memang harus melakukan masif komunikasi publik, salah satunya memang pastinya MoU ini dibentuk untuk membuat sosialisasi kepada masyarakat atas pembangunan mencapai 100 persen pelayanan sampai 2030 ini dilakukan lewat media,\" ucap Arief. ADVERTISEMENT SCROLL TO CONTINUE WITH CONTENT Arief mengatakan PAM JAYA akan membangun 7.000 km atau 1.092.000 sambungan menuju 2030. Pekerjaan ini disebut Arief penuh tantangan dan memerlukan dukungan dari banyak pihak. \"Alhamdulillah sudah mulaion boarddan tahun ini kita sudah tembus di angka 70 ribu sambungan,\" kata Arief. \"Harapannya, kerja sama inilah yang membuat kami, memudahkan kami berkomunikasi dengan masyarakat,\" sambung Arief. Sedangkan Atiek selaku CEO Transmedia berharap perannya akan mampu membantu tujuan PAM JAYA. Sering kali publik mengeluhkan banyaknya galian-galian, padahal tujuan PAM JAYA adalah menyediakan kebutuhan air bersih. \"Nah, contohnya tadi Pak Arief bicara bahwa kalau ada galian banyak yang komplain, padahal sebetulnya galian itu dibutuhkan. Setelah galian itu selesai itu manfaatnya buat masyarakat luar biasa,\" ucap Atiek. \"Juga tentang ternyata sekarang sudah ada dispenser nih baru dari PAM yang langsung bisa diminum dari air ledeng. Itu juga belum terkomunikasikan dengan baik. Jadi kami dari Transmedia ini akan berusaha membantu mensosialisasikan hal-hal tersebut dan kami percaya bahwa semua yang menjadi objektif dari PAM JAYA akan bisa tersampaikan kepada masyarakat yang baik dan akhirnya masyarakat memahami bahwa betapa usaha yang dilakukan oleh PAM JAYA itu adalah untuk kebaikan masyarakat,\" imbuh Atiek. Sementara itu, Abdul Aziz selaku CEO Detiknetwork mengakui layanan PAM JAYA luar biasa. Di sisi lain Abdul Aziz turut menegaskan kekuatan Transmedia dan Detiknetwork akan sangat membantu PAM JAYA. \"Saya harus ingat bahkan terima kasih kepada PAM JAYA. Karena kenapa? Karena kualitas layanannya luar biasa. Kalau umpamanya BUMD-BUMD DKI saja misalnya kerja sama dengan kita, itu luar biasa,\" kata Abdul Aziz.',\n",
       "  0],\n",
       " ['Penggunaan Bahu Jalan Tol Dalkot Dimajukan Jadi Jam 17.00 Selama Ramadan',\n",
       "  'https://news.detik.com/berita/d-7819273/penggunaan-bahu-jalan-tol-dalkot-dimajukan-jadi-jam-17-00-selama-ramadan',\n",
       "  '',\n",
       "  'Direktorat Lalu Lintas Polda Metro Jaya mengubahdiskresi penggunaan bahu jalandi ruas Tol Dalam Kota (Semanggi-Cawang) selama Ramadan. Pengguna jalan tol kini bisa menggunakan bahu jalan mulai pukul 17.00 WIB. Hal itu disampaikan oleh Dirlantas Polda Metro Jaya Kombes Latif Usman setelah mengikuti Apel Siaga Operasi Lintas Jaya 2025 di Monas, Jakarta Pusat. Sebelumnya, pengendara diperbolehkan menggunakan bahu jalan tol mulai pukul 18.00 WIB. \"Setelah kita melakukan evaluasi, khususnya untuk menyambut Ramadan, dalam artian memang ini kan (terjadi) pergeseran sebetulnya hanya sedikit, setengah jam atau satu jam, khususnya di pagi hari,\" kata Latif kepada wartawan di Monas, Jakarta Pusat, Rabu (12/3/2024). ADVERTISEMENT SCROLL TO CONTINUE WITH CONTENT \"Tapi sore hari itu nggak ada mengalami perubahan. Makanya pada sore hari, khususnya Dalam Kota, bahu jalan sudah kita majukandari jam 18.00 WIB sekarang jam 17.00 WIB,\" sambungnya. Dengan begitu, kata dia, efektivitas kecepatan pengguna jalan juga akan meningkat. Dia mengeklaim penggunaan bahu jalan tol tersebut memangkas waktu tempuh kendaraan, terutama di ruas Semanggi arah Cawang. \"Ini alhamdulillah menyingkat perjalanan waktu, yang tadinya efektivitasnya 20 menit dari Semanggi sampai Cawang, itu kecepatan sehingga akan bertambah,\" tuturnya. Sebelumnya,diskresi bahu jalan di Tol Dalam Kota(Dalkot) dari Semanggi hingga Cawang mulai dari pukul 18.00 WIB hingga 20.00 WIB. Diskresi ini berlaku sejak 24 Februari 2025 untuk memecah kemacetan di Tol Dalam Kota. Penggunaan bahu jalan tol ini hanya berlaku di ruas Tol Dalam Kota arah Cawang (Semanggi-Cawang) di Km 7+500 sampai dengan Km 1. Penggunaan bahu jalan tol dilakukan untuk mengurai kepadatan volume kendaraan pada jam pulang kerja.  Simak juga Video: Aksi Kakorlantas Tertibkan Kendaraan yang Berhenti di Bahu Jalan Tol Japek [Gambas:Video 20detik] ',\n",
       "  0],\n",
       " ['Marak Aksi Premanisme di Tanah Abang, Pramono Dukung Aparat Tindak Tegas',\n",
       "  'https://news.detik.com/berita/d-7819269/marak-aksi-premanisme-di-tanah-abang-pramono-dukung-aparat-tindak-tegas',\n",
       "  '',\n",
       "  'Gubernur DKI Jakarta, Pramono Anung, angkat bicara soal penodongan bersenjata tajam (sajam) yang terjadi di sekitarStasiun Tanah Abang. Dia menyatakan mendukung aparat penegak hukum (APH) menindak tegas segala aksipremanismedi Jakarta. \"Pokoknya saya akan memberikan dukungan sepenuhnya bagi aparat penegak hukum untuk melakukan tindakan tegas terhadap tindakan-tindakan seperti itu,\" ucap Pramono kepada wartawan di kawasan Monumen Nasional (Monas), Jakarta Pusat, Rabu (12/3/2024). Pramono menyebut tak akan pandang bulu untuk mendorong penegakan hukum. Siapa pun yang melakukan aksi premanisme akan ditindak. ADVERTISEMENT SCROLL TO CONTINUE WITH CONTENT \"Siapa pun yang melakukan, jelas ya,\" tegas Pramono. Sebelumnya, aksi preman meresahkan warga di Tanah Abang, Jakarta Pusat. Preman melakukan penodongan hingga membacok pria sampai korban berdarah-darah. Dirangkumdetikcom, penodongan bersenjata tajam (sajam) itu terjadi di sekitar Stasiun Tanah Abang, Jakarta Pusat, pada Rabu (5/3) pada pukul 14.01 WIB. Pelaku nekat melakukan aksinya di tengah keramaian. Dua pelaku memaksa korban menyerahkan ponsel dan uang miliknya, tetapi korban mencoba mempertahankan barang miliknya hingga akhirnya dibacok pelaku. Penodongan yang dilakukan dua orang preman di dekat Stasiun Tanah Abang ini terekam kamera pengawas (CCTV). Dalam rekaman CCTV yang beredar terlihat korban dikejar-kejar oleh pelaku yang mengeluarkan senjata tajam. Kejadian ini menjadi tontonan warga, tetapi tidak ada yang berani melerai. Polisi menangkap seorang pelaku dan masih memburu seorang lainnya.  Simak juga Video: Pramono Bakal Tertibkan Parkir Liar di Jakarta: Premanisme Kita Lawan [Gambas:Video 20detik] ',\n",
       "  0],\n",
       " ['Petugas PUPR Angkut 6 Ban Bekas Bikin Mampet Got di Jalan KSU Depok',\n",
       "  'https://news.detik.com/berita/d-7819262/petugas-pupr-angkut-6-ban-bekas-bikin-mampet-got-di-jalan-ksu-depok',\n",
       "  '',\n",
       "  'Petugas Dinas Pekerjaan Umum dan Penataan Ruang (Dinas PUPR) KotaDepokmembersihkan gorong-gorong di Jalan KSU, Depok. Petugas mengangkut enam ban di lokasi. Dilihat dari Instagram @dinaspupr_depok, petugas berpakaian warna biru itu turun ke dalam gorong-gorong. Mereka mengangkut ban dari dalam gorong-gorong menggunakan tali. Petugas sempat mengalami kesulitan saat mengangkut ban mobil tersebut dari gorong-gorong. Tampak kondisi ban itu juga berlumpur. Selain ban mobil, ada juga ban motor yang diangkut. ADVERTISEMENT SCROLL TO CONTINUE WITH CONTENT Pengangkutan ban tersebut dilaksanakan dalam upaya normalisasi berupa pembersihan saluran di Jalan Raya KSU, Depok pada Selasa (11/3/2025). Selain sampah plastik dan kayu, petugas juga menemukan 6 buah ban. \"Berbagai macam sampah seperti plastik, kayu bahkan satgas menemukan 6 (enam) ban di saluran yang mengakibatkan penyumbatan pada aliran air,\" tulis caption Instagram @dinaspupr_depok. Ban bekas itu dapat menimbulkan banjir, penyumbatan saluran air, kesehatan warga dan kerusakan infrastruktur. \"Ban bekas yang dibuang secara sembarangan dapat menimbulkan masalah baru, yaitu banjir, penyumbatan saluran air, kesehatan masyarakat dan kerusakan infrastruktur,\" jelasnya. Diberitakan sebelumnya, hujan deras yang melanda Kota Depok sempat berimbas banjir di Jalan Raya KSU arah Grand Depok City (GDC) pada Rabu (27/11/2024). Hujan deras menimbulkan genangan di lokasi. Lalu lintas pun tersendat karena banjir tersebut. Terlihat antrean kendara roda empat tersendat saat melintasi jalan.  Lihat juga Video: Momen Damkar Evakuasi Ular Sanca 4 Meter yang Bikin Mampet Saluran Air [Gambas:Video 20detik] ',\n",
       "  0],\n",
       " ['Perkara Review Makanan Berujung Codeblu Dipolisikan',\n",
       "  'https://news.detik.com/berita/d-7819254/perkara-review-makanan-berujung-codeblu-dipolisikan',\n",
       "  '',\n",
       "  'Urusan me-reviewmakanan berujungcontent creatorWilliam Andersondilaporkan ke polisi.Food revieweryang dikenal dengan sapaan Codeblu ini dituduh melakukan pemerasan. Codeblu dilaporkan oleh pihak manajemen toko roti ke Polres Metro Jakarta Selatan pada November 2024. Dia dilaporkan setelah memberikan ulasan buruk terhadap toko roti tersebut. Setelah ulasan buruk tersebut, Codeblu dituduh melakukanpemerasan Rp 350 juta.Padahal, menurutnya, permintaanfeetersebut adalah bentuk penawaran kerja sama. ADVERTISEMENT SCROLL TO CONTINUE WITH CONTENT Laporan terhadap Codeblu ini masih bergulir di kepolisian. Pada Selasa (11/3), pria yang dikenal dengan jargon \\'kek nana\\' itu diperiksa polisi. Kasat Reskrim Polres Metro Jakarta Selatan AKBP Ardian Satrio Utomo membenarkan bahwa pihaknya telah melakukan pemeriksaan terhadap Codeblu. \"Benar, yang bersangkutan kami periksa,\" kata Ardian saat dihubungi wartawan, Selasa (11/3). Codeblu diperiksa atas pelaporan dari manajemen toko roti yang dilayangkan pada November 2024 di Polres Metro Jakarta Selatan. Ini adalah pemeriksaan perdana terhadap Codeblu dengankapasitasnya sebagai saksi. \"Pemeriksaan pertama sebagai saksi. Pelapornya dari manajemen Clairmont,\" imbuhnya. Ditemui wartawan setelah menjalani pemeriksaan di Polres Metro Jaksel, Codeblu membenarkan dirinya dilaporkan. Dia mengaku dilaporkan atas tuduhan pemerasan, yang menurutnya hal itu tidak pernah terjadi. \"Iya dugaan pemerasan bahwa saya sebagaicontent creator(dituduh) memeras pemilik usaha, bahwa itu tidak pernah terjadi dan tidak pernah ada pemerasan. Itu hanya penawaran kerja sama,\" kata Codeblu di Polres Metro Jakarta Selatan, Selasa (11/3). Ia mengaku dirinya sudah melakukan mediasi dan mencoba berdamai dengan pihak pelapor. Ia punmeminta maafdan berjanji akan memperbaiki. \"Laluguejuga sudah mencoba untuk berdamai jadi mediasi perdamaian. Karena menurutgue, oke kalauguesalah,gueminta maaf. Banyak yang nggak terima, yaudahnantigueperbaiki, kangituaja,\" imbuhnya.  Simak Video: Muncul Seruan Boikot Codeblu, Begini Kronologinya [Gambas:Video 20detik]  Baca selanjutnya: bantah memeras   Codeblu membantah dirinya melakukan pemerasan. Menurutnya, ia hanya menawarkankerja sama pembuatan kontendenganfee rate cardsebesar Rp 350 juta. \"Penawarannya simpel sebenarnya. Oke ada 5 tahap kerja yang akan gua lakukan untuk pihak mereka. Lalu gua meminta imbalan fee sebesar Rp 350 juta dan gua akan posting sebanyak 8 konten, itu aja,\" ungkapnya. Codeblu menilai kerja sama itu membuat dirinya diduga melakukan pemerasan yang berujungdirinya di-bullyse-Indonesia. \"Itu didugaguamelakukan pemerasan. Iya (gara-gara) di-bullysatu Indonesia. Gua kan tiap tahun di-bullyyaguysyaudahlahya terima aja mungkin kita banyak yang salah yaudahperbaikiaja,\" ucapnya. \"Tapi setelah kejadian tahun 2024 ini gua merasa kinerja gua harus gua perbaiki banyak yang salah. Karena ada beberapa hal yang harusnya jangan menyimpulkan huru-hara. Karena kalau udah menyimpulkan huru-hara juga tidak baik ya,\" tambahnya. Dilansirdetikfood, William Anderson atau dikenal luas sebagai Codeblu kembali menuai kontroversi. Dampak kritiknya terhadapbakery(toko roti) Clairmont ternyata belum tuntas. Codeblu yang awalnya menuduhbakerytersebutmemberikan kue kedaluwarsa ke panti asuhankini minta maaf. Permohonan maaf ini diduga banyak orang dipicu beredarnya isu bahwa Codeblu memeras pihak bakery dengan nominal ratusan juta rupiah. Terlepas dari permohonan maaf yang sudah diunggah Codeblu, rupanya ada seruan boikot untuk dirinya. Ia dianggap sebagai oknum food reviewer yang mencari penonton dan\\'engagement\\'lewat dramatisasi di media sosial.  Simak Video: Muncul Seruan Boikot Codeblu, Begini Kronologinya [Gambas:Video 20detik] ',\n",
       "  0],\n",
       " ['Menag Ungkap Alasan Libur Sekolah Lebaran 2025 Diperpanjang Jadi 20 Hari',\n",
       "  'https://news.detik.com/berita/d-7819232/menag-ungkap-alasan-libur-sekolah-lebaran-2025-diperpanjang-jadi-20-hari',\n",
       "  '',\n",
       "  'Pemerintah memperpanjanglibur Lebaran1446 H/2025 M untuk sekolah, madrasah, dan satuan pendidikan keagamaan menjadi 20 hari. Libur Lebaran anak sekolah itu akan dimulai sejak 21 Maret 2025. Hal itu disampaikan Menteri Agama (Menag) Nasaruddin Umar dalam konferensi pers seusai rapat koordinasi lintas sektoral kesiapan pengamanan Idul Fitri 1446 H/2025 M di Sekolah Tinggi Ilmu Kepolisian (STIK-PTIK), Jakarta, dikutip di situs Kemenag, Rabu (12/3/2025). Dia mengatakan pemerintah ingin memberi waktu lebih panjang masa liburan. \"Kami memang mengusulkan supaya memberi waktu lebih panjang masa liburan ini. Tadinya kita sepakati edaran pertama itu tanggal 24 Maret 2025, tapi karena madrasah liburnya lebih ada hari Jumat, di situ ada hari Jumat, Sabtu, ya makanya kita ubah itu menjadi tanggal 21 Maret 2025,\" ujar Nasaruddin. ADVERTISEMENT SCROLL TO CONTINUE WITH CONTENT Nasaruddin mengungkap alasan perubahan libur Lebaran untuk anak sekolah ini. Dia menyebut libur Lebaran diperpanjang untuk mengurai kemacetan arus mudik. \"Dengan demikian, rentang perjalanan mudik ini nanti akan lebih panjang, kurang lebih 20 hari, jadi bisa lebih panjang untuk masyarakat, bisa dipakai untuk mengurai kemacetan yang bisa terjadi,\" kata Nasaruddin. Tak hanya itu, Nasaruddin menyebut Kementerian Agama (Kemenag) akan turut membantu kelancaran mudik Lebaran. Kemenag akan menyiapkan air hingga makanan gratis di masjid-masjid yang dilewati jalur pemudik. \"Masjid-masjid yang dilewati jalur pemudik itu diharapkan menyiapkan air minum gratis, karena di dalam hukum Islam itu, musafir itu adalah mujahid, musafir itu... sangat berpahala kita kalau kita beri makan dan beri minum,\" kata Nasaruddin, yang juga Imam Besar Masjid Istiqlal. Selain minuman gratis, Nasaruddin mengimbau pengurus masjid menyediakan berbagai fasilitas bagi pemudik, seperti dapur kecil bagi ibu menyusui. Dia juga meminta masjid menyediakan tempat istirahat, kamar khusus perempuan, serta ruang untuk mengisi dayahandphoneatau motor listrik. \"Kami mencoba untuk berkoordinasi dengan para pengurus masjid agar diperbaiki toiletnya, karena kalau kita mengandalkan semuanya direst area, di tol-tol tertentu, itu nanti akan terjadi penumpukan. Jadi nanti kita akan menciptakan satu kondisi di masjid itu juga sebagai tempat pemberhentian yang paling bagus,\" pungkasnya. Seperti diketahui sebelumnya, pemerintah memutuskan libur Lebaran 2025 ada 11 hari melalui SKB 3 Menteri. Perlu diketahui, libur Idul Fitri 2025 berdekatan dengan akhir pekan dan libur Nyepi. Total ada 11 hari libur panjang Lebaran 2025. Jadwal libur Lebaran 2025 untuk sekolah, madrasah, dan satuan pendidikan keagamaan dimajukan. Informasi saat itu anak sekolah mulai libur Lebaran 2025 pada tanggal 21 Maret. Untuk surat edaran bersama (SEB) terkait jadwal baru tersebut akan diinformasikan kemudian. \"Tinggal menunggu tanda tangan surat edaran bersama 3 menteri,\" kata Mendikdasmen Mu\\'ti, saat dimintai konfirmasi di Jakarta, dilansirAntara, Selasa (4/3).  Simak juga Video Libur Lebaran Siswa Sekolah Dipercepat Jadi 21 Maret 2025 [Gambas:Video 20detik] ',\n",
       "  0],\n",
       " ['Menag: Koruptor Nerakanya Lebih Jahanam Dibanding Pencurian Biasa',\n",
       "  'https://news.detik.com/berita/d-7819230/menag-koruptor-nerakanya-lebih-jahanam-dibanding-pencurian-biasa',\n",
       "  '',\n",
       "  'Menteri Agama (Menag)Nasaruddin Umarmengatakan tindakan korupsi merupakan kejahatan kemanusiaan. Menag Nasaruddin mengatakan koruptor nerakanya lebih jahanam dibandingkan pencurian biasa. Hal itu dikatakan Nasaruddin saat jadi pembicara dalam gelar wicara di gedung ACLC KPK, Jakarta, Rabu (12/3/2025). Nasaruddin menjelaskan penolakan terhadap tindakan korupsi harus terus digaungkan, termasuk dari rumah ibadah. \"Perlu digaungkan kembali melalui bahasa agama, agama apa pun, rumah ibadah apa pun, rumah ibadah yang sering kita kunjungi, kita pasang spanduk di situ, bagaimana mendramatisasi bahwa orang yang korupsi itu melakukan kejahatan kemanusiaan,\" kata Nasaruddin dalam acara yang bertajuk \\'Membangun Integritas Bangsa melalui Peran Serta Masyarakat Keagamaan\\'. ADVERTISEMENT SCROLL TO CONTINUE WITH CONTENT Nasaruddin mengatakan pencurian biasa bersifat individu, maka hanya merugikan satu orang. Tapi menurutnya berbeda dengan korupsi, merugikan banyak orang. \"Seperti dikatakan tadi, kalau korupsi individu,ngambilmotornya orang, ya satu orang itu,\" ucapnya. Imam Besar Masjid Istiqlal itu mencontohkan korupsi uang pajak masyarakat. Dalam pandangan Imam Ghazali, menurut Nasaruddin, tobat pencuri harus mengembalikan semua yang telah diambilnya, berbeda dengan tindak koruptor. \"Tobatnya orang itu kan, kalau kata Imam Ghazali, itu salah satu persyaratan tobat itu kembalikan barang-barang orang yang pernah kita ambil. Kalau 280 juta umat Indonesia ini pembayar pajak, apa kita mungkin kembalikan satu per satu, uang rakyat itu kan. Nggak mungkin,\" kata dia. \"Jadi akibatnya apa, nerakanya lebih jahanam daripada pencurian biasa,\" tambahnya. Lebih lanjut Nasaruddin juga menyinggung soal hukuman mati bagi koruptor. Nasaruddin menilai hukuman mati bukan sekadar mencabut nyawa, tapi juga bisa mematikan harga diri koruptor. \"Tapi itu mati itu bisa juga berarti mematikan harga dirinya, mematikan kesempatan kerjanya, mematikan gairah hidupnya, mematikan status sosialnya, mematikan martabatnya, mematikan semuanya,\" imbuhnya.  Simak juga Video: Wamendagri Sebut Prabowo Geram Terhadap Koruptor, Minta Dihukum Berat [Gambas:Video 20detik] ',\n",
       "  0],\n",
       " ['Penyebab Kebakaran 3 Gerbong Kereta di Stasiun Tugu Jogja Masih Ditelusuri',\n",
       "  'https://news.detik.com/berita/d-7819226/penyebab-kebakaran-3-gerbong-kereta-di-stasiun-tugu-jogja-masih-ditelusuri',\n",
       "  '',\n",
       "  'Tiga gerbong kereta api terbakar saat parkir di Stasiun Yogyakarta atau Stasiun Tugu Jogja pagi tadi. Penyebab kebakaran tiga gerbong kereta tersebut masih ditelusuri. \"Belum bisa kami pastikan (penyebab kebakaran) karena masih penelusuran,\" jelas Manajer Humas Daop 6 Jogja, Feni Novida Saragih, ditemui wartawan di Stasiun Tugu, dilansirdetikJogja, Rabu (12/3). Diberitakan, sejumlah gerbong kereta api terbakar di Stasiun Tugu, Kota Jogja, pada pagi ini. Kebakaran terjadi di kereta cadangan di jalurstablingStasiun Tugu. ADVERTISEMENT SCROLL TO CONTINUE WITH CONTENT Kebakaran terjadi pada pukul 06.44 WIB di tiga kereta cadangan yang sedang terparkir di jalurstablingtimur Stasiun Tugu. Api akhirnya bisa dipadamkan sekitar pukul 07.30 WIB. \"Pada pukul 06.45 WIB, satu mobil petugas pemadam kebakaran tiba di lokasi dan langsung melakukan proses pemadaman,\" ujar Feni. \"Selanjutnya menyusul empat mobil pemadam kebakaran, sehingga total terdapat 5 mobil pemadam kebakaran yang menangani kejadian tersebut. Pada pukul 07.30 WIB, api bisa dipadamkan,\" sambungnya. Simak selengkapnyadi sini.  Lihat juga Video: Tumpukan Solar Terbakar di Jaktim, Api Merambat hingga ke Jalan Raya [Gambas:Video 20detik] ',\n",
       "  0],\n",
       " ['Kisah Pilu Castiel, Bayi Penderita Tumor Hati yang Berjuang Sembuh',\n",
       "  'https://news.detik.com/berita/d-7819220/kisah-pilu-castiel-bayi-penderita-tumor-hati-yang-berjuang-sembuh',\n",
       "  '',\n",
       "  'Tangis Castiel Geonathan memecah keheningan ruang rumah sakit siang itu. Bayi berumur 11 bulan itu tak bisa menyembunyikan rasa sakit dan tak nyaman di tubuhnya. Sang ibu, Candy Karina Intveld, berusaha menenangkan Castiel yang gelisah dan terus merengek. Tubuh Castiel kurus dan diagnosa gizi buruk lantaran nutrisi tidak terserap sempurna. Sudah sejak beberapa bulan lalu, anak kedua Candy ini divonis mengalami tumor dan kista di organ hati. Sungguh vonis yang membuat keluarga asal Bogor ini syok dan sedih. ADVERTISEMENT SCROLL TO CONTINUE WITH CONTENT \"Katanya sih bawaan memang. Cuma ketahuannya itu dari umur 4 bulan. Jadi harusnya kan dari usia 1 bulan itu nggak boleh kuning,\" jelas Candy kepada timberbuatbaik.iddi RSUD Bogor. Awalnya sang bidan menyarankan untuk tetap dijemur namun yang terjadi kondisi kuning Castiel tak membaik hingga akhirnya dibawa ke rumah sakit dan dinyatakan mengalami Tumor Hati. Tak sampai situ, diagnosis bayi ini pun berkembang menjadi kista dan kerusakan hati stadium 4 yang menyebabkan mau tak mau bayi mungil ini harus menjalani transplantasi hati segera. \"Karena kan udah rusak jadi mau gak mau nunggu transplantasi sambil diangkat ya si hati-hatinya itu gitu kan diganti hati baru,\" sambung ibu rumah tangga ini. Namun untuk menjalani tindakan medis itu, Candy dan suami tidak melalui perjalanan mudah. Kondisi Castiel harus fit dan berat badan ideal. Sementara, kini Castiel aja harus bolak balik ke rumah sakit karena kondisinya naik turun, seperti sekarang yang tengah mengalami demam. \"Si kistanya ini kan memang menyebabkan demam naik turun katanya. Jadi sekarang ngejar ini sih gizi karena ini semenjak ketahuan dari kista turun banget berat badannya dari 8 kilo terakhir tadi ditimbang itu 6,5 kilo,\" cerita Candy. Hal ini tentu membuat Candy sedih, Castiel harus berjuang untuk mencapai berat badan ideal. Itu sungguh bukan perjuangan yang mudah pasalnya perlu usaha ekstra dan asupan vitamin, susu serta obat-obatan yang membuat kesehatan dan berat badan Castiel membaik. Segala cara pun ditempuh untuk memperjuangkan kesembuhan Castiel dan bagi Candy tak ada satu orangtua pun yang siap menghadapi kondisi kritis anaknya. \"Gak semua obat, antibiotik, vitamin itu kita beli sendiri Jadi yang ditanggung cuma yang generik-generik aja sih. Jadi dari dokter ngeresepin kita sendiri di luar karena gak ditanggung BPJS Udah gitu vitaminnya lebih banyak Jadi dia hampir semua vitamin harus masuk kan,\" ungkapnya. Belum lagi, kata Candy, diperlukan tes untuk proses tranplantasi hati yang nominalnya membuat Candy sesak. \"Aduh, aku mikir nangis ya. Maaf ya. Kalau transplant dia sih di-cover. Cuma pendonornya, pendonornya kita orang sehat (ga dicover). Jadi memang berat juga disitu ya. Soalnya mahal banget,\" imbuhnya sedih. Selama ini, keduanya pun merasa berat dengan susu yang bisa mencapai Rp 10 juta per bulanan, bahkan Candy mengaku belum bisa memenuhi asupan vitamin yang begitu mahal untuk Castiel. Oleh karena itu lah, dia berharap uluran tangan dari Sahabat Baik untuk meringankan bebannya menanggung transplantasi hati dan kebutuhan si kecil Castiel. Kamu bisa mengembalikan tawa riang Castiel untuk menggapai kesembuhan denganDonasi diberbuatbaik.idsekarang juga. Jangan khawatir, donasi ini tidak dipotong sepeser pun sehingga kebaikanmu semakin sempurna.',\n",
       "  0],\n",
       " ['3 Pesawat Dikerahkan Modifikasi Cuaca Jakarta-Jabar pada 11-20 Maret',\n",
       "  'https://news.detik.com/berita/d-7819217/3-pesawat-dikerahkan-modifikasi-cuaca-jakarta-jabar-pada-11-20-maret',\n",
       "  '',\n",
       "  'Pemerintah menggelaroperasi modifikasi cuaca(OMC) lanjutan tahap dua pada 11-20 Maret 2025. Ini merupakan operasi gabungan antara Badan Nasional Penanggulangan Bencana (BNPB), Pemerintah Provinsi (Pemprov) Jakarta, dan Pemprov Jawa Barat. OMC gabungan ini merupakan arahan Menteri Koordinator (Menko) Bidang Pembangunan Manusia dan Kebudayaan (PMK) Pratikno pada rapat koordinasi penanganan bencana banjir di Pendopo Wali Kota Bekasi pada Kamis (6/3) lalu. \"Keputusan ini diambil dengan mempertimbangkan prakiraan cuaca dari Badan Meteorologi, Klimatologi, dan Geofisika (BMKG) pada wilayah Jakarta, Jawa Barat, dan Banten tanggal 10-18 Maret 2025 masih berpotensi terjadinya hujan dengan intensitas sedang hingga lebat,\" kata Kepala Pusat Data, Informasi dan Komunikasi Kebencanaan BNPB, Abdul Muhari, Rabu (12/3/2025). ADVERTISEMENT SCROLL TO CONTINUE WITH CONTENT Tiga pesawat disiapkan untuk menyemai garam di awan agar hujan tidak turun di kawasan rawan banjir di Jakarta dan Jabar. Koordinasi penerbangan dilakukan dari dua pos yaitu di Lanud Halim Perdanakusuma untuk tim OMC BNPB dan BPBD Jakarta serta Lanud Husein Sastranegara untuk tim OMC Jawa Barat. Pada hari pertama OMC gabungan, Selasa (11/3), tim OMC Jakarta telah melaksanakan tiga sorti penerbangan menggunakan pesawat Casa A-2117. Wilayah operasi tim Jakarta meliputi barat laut, Selat Sunda, dan Kepulauan Seribu pada sorti pertama. Selanjutnya, penyemaian diarahkan ke daerah Utara Jakarta atau Laut Jawa. Sorti terakhir kembali dilakukan penyemaian pada wilayah barat laut dan utara Jakarta. \"Masing-masing sorti penerbangan menghabiskan bahan semai berupa Natrium Klorida (NaCl) sebanyak 800 kilogram,\" katanya. Sementara itu, penerbangan pertama tim Jawa Barat menyelesaikan dua sorti penerbangan menggunakan armada Casa A-2104. Penyemaian sorti pertama ditargetkan pada wilayah timur laut perairan Cirebon dan sorti kedua di wilayah perairan utara Indramayu. Sama dengan tim Jakarta, tiap sorti penerbangan menghabiskan 800 kg bahan semai NaCl. TIM OMC BNPB melakukan penerbangan malam hari untuk mengurangi supply massa udara yang berpotensi masuk ke wilayah Jakarta dan Banten. Dengan menumpang pesawat carravan PK-SNP, tim OMC BNPB melaksanakan dua sorti penerbangan ke wilayah perairan barat Jakarta (pesisir Lampung)-Selat Sunda dengan membawa 1.000 kg NaCl per penerbangan. Pelaksanaan operasi modifikasi cuaca gabungan hari pertama berhasil mengurangi intensitas hujan yang sebelumnya diprediksi terjadi siang hingga sore hari menjadi hujan ringan hingga sedang. Hasil pemantauan cuaca terpantau curah hujan tertinggi berada di Bekasi dengan nilai 34 mm. OMC ini merupakan upaya mitigasibencana hidrometeorologiakibat curah hujan tinggi yang dapat memicu banjir dan tanah longsor di berbagai wilayah. Operasi modifikasi cuaca merupakan salah satu upaya mengurangi curah hujan yang berpotensi turun di wilayah Jabodetabek sehingga meminimalkan risiko banjir susulan, serta mempercepat proses tanggap-transisi darurat di Jabodetabek. Operasi modifikasi cuaca gabungan ini rencananya akan dilaksanakan selama 10 hari hingga tanggal 20 Maret 2025 mendatang.',\n",
       "  0],\n",
       " ['Layanan Gratis Masuk Museum di Jakarta, Begini Syarat dan Caranya',\n",
       "  'https://news.detik.com/berita/d-7819161/layanan-gratis-masuk-museum-di-jakarta-begini-syarat-dan-caranya',\n",
       "  '',\n",
       "  'Pemerintah Provinsi (Pemprov) Jakarta melalui Dinas Kebudayaan menyediakan layanangratis masuk museum di Jakartabagi beberapa golongan tertentu. Layanan ini bermaksud mengajak warga lebih dekat dengan sejarah dan budaya melalui kunjungan museum. Lantas, siapa saja golongan tertentu yang bisa mendapatkan layanan gratis masuk museum di Jakarta? Museum mana saja yang termasuk dalam layanan ini? Serta bagaimana cara menggunakan layanannya? Berikut ini adalah daftar golongan masyarakat tertentu yang dapat menikmati layanan gratis masuk museum di Jakarta: ADVERTISEMENT SCROLL TO CONTINUE WITH CONTENT Berikut ini adalahdaftar museum di Jakartayang dapat termasuk dalam layanan gratis masuk oleh Pemprov Jakarta: Layanan gratis masuk museum di Jakarta ini berlaku pada hari Senin sampai dengan Jumat. Tidak berlaku untuk hari Sabtu dan Minggu serta hari libur nasional dan cuti bersama. Cara mendapatkan layanan ini adalah cukup dengan menunjukkan KTP atau KJP (bagi peserta didik). Ketentuan tersebut sebagaimana telah diatur dalam Peraturan Gubernur (Pergub) Provinsi Daerah Khusus Ibukota Jakarta Nomor 8 Tahun 2017 tentang Layanan Gratis Masuk Taman Margasatwa Ragunan, Tugu Monumen Nasional Dan Museum Pada Hari Biasa Bagi Masyarakat Tertentu.  Tonton juga Video: Rano Karno Kaget Pengunjung Museum Wayang Capai 1.500 Orang Per Hari [Gambas:Video 20detik] ',\n",
       "  0],\n",
       " ['Pria di Cibinong Bogor Tewas Ditusuk Alami 5 Luka Tusukan',\n",
       "  'https://news.detik.com/berita/d-7819176/pria-di-cibinong-bogor-tewas-ditusuk-alami-5-luka-tusukan',\n",
       "  '',\n",
       "  'Polisi masih menyelidiki kasus penusukan terhadap pria berinisial RD (28) hingga tewas di Karadenan, Kecamatan Cibinong,Bogor, Jawa Barat. Korban diketahui mengalami lima tusukan sebelum dinyatakan meninggal. \"Luka tusuk ada kurang lebih 5 (tusukan),\" kata Kasat Reskrim Polres Bogor AKP Teguh Kumara, saat dihubungi, Senin (10/3/2025). Pascapenusukan, korban dilarikan ke rumah sakit terdekat untuk mendapatkan perawatan medis. Namun sayang, nyawanya tidak terselamatkan. ADVERTISEMENT SCROLL TO CONTINUE WITH CONTENT \"(Korban) sempat dibawa ke rumah sakit (korban),\" ucapnya. Sebelumnya, penusukan terhadap pria berinisial RD (28) hingga tewas terjadi di Karadenan, Kecamatan Cibinong, Bogor, Jawa Barat. Pelaku saat ini telah diketahui identitasnya. \"Identitas terduga pelaku sudah dikantongi, sekarang dalam pencarian,\" kata Kasat Reskrim Polres Bogor AKP Teguh Kumara, saat dihubungi, Senin (10/3). Dia mengatakan masih menyelidiki kejadian itu. Pelaku dan korban tidak saling kenal. \"Nggak saling kenal (korban sama pelaku),\" ucapnya. Keduanya sempat cekcok sebelum peristiwa penusukan itu terjadi. Teguh mengatakan cekcok ditengarai dipicu senggolan kendaraan pelaku dengan korban. \"Iya, karena cekcok senggolan di jalan,\" jelasnya. Sementara itu, Kanit Reskrim Polsek Cibinong AKP Yunli Pangestu mengatakan peristiwa itu terjadi pada Rabu (5/3).',\n",
       "  0],\n",
       " ['Kronologi Kebakaran Gerbong Kereta Cadangan di Stasiun Tugu Jogja',\n",
       "  'https://news.detik.com/berita/d-7819172/kronologi-kebakaran-gerbong-kereta-cadangan-di-stasiun-tugu-jogja',\n",
       "  '',\n",
       "  'Gerbong kereta api di Stasiun Tugu, Kota Jogja, terbakar pagi ini.Kebakaranini terjadi pada kereta cadanganstablingdi jalurstablingStasiun Tugu. \"Pada pukul 06.45 WIB, satu mobil petugas pemadam kebakaran tiba di lokasi dan langsung melakukan proses pemadaman,\" ujar Manajer Humas PT KAI Daop 6 Yogyakarta Feni Novida Saragih, dilansirdetikJogja, Rabu (12/3/2025). Feni mengatakan kebakaran terjadi pukul 06.44 WIB. Kebakaran itu terjadi pada tiga kereta cadangan yang sedang terparkir di jalurstablingtimur Stasiun Tugu. ADVERTISEMENT SCROLL TO CONTINUE WITH CONTENT \"Selanjutnya, menyusul empat mobil pemadam kebakaran sehingga total terdapat 5 mobil pemadam kebakaran yang menangani kejadian tersebut. Pada pukul 07.30 WIB, api bisa dipadamkan,\" ucapnya. Feni mengungkapkan tidak ada korban jiwa dari peristiwa ini. Saat ini, perjalanan kereta api juga sudah normal. \"Dalam kejadian ini, tidak ada korban dan tidak mengganggu perjalanan kereta api. Pelayanan terhadap penumpang KA di Stasiun Yogyakarta tetap berjalan dengan normal,\" kata Feni. Simak lengkapnya disini.  Lihat juga Video: Tumpukan Solar Terbakar di Jaktim, Api Merambat hingga ke Jalan Raya [Gambas:Video 20detik] ',\n",
       "  0],\n",
       " ['Viral Maling Motor Dikejar-kejar Warga di Depok Berujung Dikeroyok',\n",
       "  'https://news.detik.com/berita/d-7819152/viral-maling-motor-dikejar-kejar-warga-di-depok-berujung-dikeroyok',\n",
       "  '',\n",
       "  'Sebuah video memperlihatkan sejumlah warga mengejar pelakupencurian motordi Beji, Depok, viral di media sosial. Akhirnya pelaku berhasil ditangkap dan diserahkan ke Polsek Beji. Dari video yang beredar di media sosial, terlihat warga yang tengah bermacet-macetan merekam aksi tersebut. Tampak pelaku kejar-kejaran dengan warga di pinggir jalan hingga membuat lalu lintas di lokasi mengalami kemacetan. Dalam video yang beredar terlihat maling motor itu sempat dipukul oleh warga. Akhirnya pelaku dibawa ke Polsek Beji. ADVERTISEMENT SCROLL TO CONTINUE WITH CONTENT \"Ya pastinya (ada pemukulan warga ke pelaku,red), tapi ada patroli bisa di amankan,\" kata Kapolsek Beji Kompol Jupriono, Rabu (12/3/2025). Diminta konfirmasi, Jupriono mengatakan peristiwa itu terjadi pada Minggu (9/3/2025) pukul 20.00 WIB. Mulanya, korban memarkir motornya di lahan parkir sebuah kedai kopi. Pukul 22.45 WIB, korban mendengar suara alarm motor di samping motornya yang tengah diparkir berbunyi. Korban mendapati motornya sudah bergeser 1 meter dalam kondisi kunci kontak sudah rusak. \"Korban mendapati bahwa sepeda motor miliknya sudah bergeser kira-kira 1 meter dari tempat parkir sebelumnya dengan keadaan kunci kontak sudah rusak,\" kata Jupriono. Pelaku berinisial S (19) hendak mencuri motor korban. Pelaku sempat kabur sejauh 50 meter dari lokasi namun berhasil diamankan warga. \"Diketahui pelaku saudara S ingin mencuri sepeda motor milik korban. Lalu pelaku sempat kabur sejauh 50 meter dari lokasi kejadian dan warga sekitar berhasil mengamankan pelaku saudara S,\" jelasnya. Pelaku kemudian dibawa ke Polsek Beji guna penyelidikan lebih lanjut. Atas perbuatannya pelaku dikenakan Pasal Tindak Pidana Pencurian dengan pemberatan 363 KUHP.  Lihat juga Video: Ditangkap! Maling Motor yang Viral Dikejar Emak-emak di Depok [Gambas:Video 20detik] ',\n",
       "  0],\n",
       " [\"Info Acara Khataman Al-Qur'an Peringati Nuzulul Quran 2025 di Istiqlal\",\n",
       "  'https://news.detik.com/berita/d-7819146/info-acara-khataman-al-quran-peringati-nuzulul-quran-2025-di-istiqlal',\n",
       "  '',\n",
       "  'Masjid Istiqlal Jakartabersama Kemenag hingga Komdigi akan menyelenggarakan kegiatan bertajuk \"Indonesia Khataman Al-Qur\\'an\" dalam rangka peringatanNuzulul Quran1446 Hijriah/2025 Masehi. Acara digelar pada Minggu, 16 April 2025. Dengan target mencapai minimal 350 ribu khataman Al-Qur\\'an dalam rentang waktu sehari, kegiatan ini akan berlangsung mulai pukul 00.01 sampai 20.00 waktu setempat. Metode khataman yang diselenggarakan adalah secara offline dan online. \"Yuk, bersama-sama ikut serta dalam Program \"Indonesia Khataman Al-Qur\\'an\" guna menguatkan semangat keislaman dan kebangsaan melalui Al-Qur\\'an, dan mencapai minimal 350.000 khataman Al-Qur\\'an dalam rentang waktu sehari pada tanggal 16 Ramadhan, mulai pukul 00:01 hingga 20:00 WIB,\" tulis akun resmi Masjid Istiqlal, Selasa (11//3/2025). ADVERTISEMENT SCROLL TO CONTINUE WITH CONTENT Kegiatan khataman Al-Qur\\'an ini juga dalam rangka memecahkanrekor MURI. Nantinya peserta yang berpartisipasi bisa melaporkan jumla khatamannya melalui situs yang telah disediakan. Harapannya, program ini bisa menjadi momentum bersejarah dalam memasyarakatkan khataman Al-Qur\\'an secara luas dan berkelanjutan di Indonesia. Berikut ini adalah informasi lengkap terkait programnya: Program \"Indonesia Khataman Al-Qur\\'an\" adalah sebuah inisiatif Masjid Istiglal untuk mencapai minimal 350.000 khataman Al-Qur\\'an dalam rentang waktu sehari pada tanggal 16 Ramadhan, mulai pukul 00.01 hingga 20.00 WIB. Kegiatan ini akan melibatkan berbagai elemen, di antaranya Masjid, KUA, pesantren, majelis taklim, Ormas Islam serta individu yang tergabung dalam kelompok. Tujuan:- Mendorong kebersamaan umat Islam dalam membaca dan mengkhatamkan Al-Qur\\'an.- Mencatatkan sejarah dengan pemecahan rekor MURI.- Menguatkan semangat keislaman dan kebangsaan melalui Al-Qur\\'an. Sasaran peserta:- LPTQ (Provinsi, Kabupaten/Kota)- BKM/Masjid- Kantor Urusan Agama (KUA) di bawah Kemenag- Majelis Taklim & Komunitas Pengajian- Pesantren- Madrasah- PTKI & PTKIS- Ormas Islam- Masyarakat umum. Waktu pelaksanaan:- Dimulai Minggu, 16 Maret 2025 pukul 00.01 waktu setempat (WIT/WITA/WIB).- Selesaikan khataman Al-Qur\\'an sebelum magrib waktu setempat.- Dokumentasikan kegiatan khataman saat pengajian. Metode khataman:- Offline: Masjid, pesantren, majelis taklim, dll.- Online: Zoom, YouTube. Pelaporan hasil:- Peserta melaporkan jumlah khatalam melalui: indonesiakhataman.istiqlal.or.id.- Sistem otomatis merekap jumlah khataman. [Gambas:Instagram]  Sebagai informasi, khataman Al-Qur\\'an merupakan kegiatan membaca Al-Qur\\'an hingga tamat. Kegiatan ini biasa dilakukan umat Muslim dalam rangka memperingati Malam Nuzulul Quran yang jatuh pada malam tanggal 17 di bulan suci Ramadan. Tahun ini, Nuzulul Quran 1446 H jatuh pada tanggal 17 Maret 2025. Namun mengingat pergantian hari menurut kalender Hijriah dimulai sejak terbenamnya matahari (maghrib), bukan tengah malam seperti dalam kalender Masehi, maka untuk peringatan Malam Nuzulul Quran dimulai sejak malam hari pada 16 Maret 2025.  Simak juga Video: Memaknai Nuzulul Quran [Gambas:Video 20detik] ',\n",
       "  0],\n",
       " ['Kapan THR Lebaran 2025 Cair? Ini Jadwal untuk PNS dan Karyawan Swasta',\n",
       "  'https://news.detik.com/berita/d-7819142/kapan-thr-lebaran-2025-cair-ini-jadwal-untuk-pns-dan-karyawan-swasta',\n",
       "  '',\n",
       "  'Pemerintah telah menetapkan aturan pencairan tunjangan hari raya(THR) Lebaran 2025. Bagi ASN/PNS serta pekerja/buruh di perusahaan, berhak mendapatkan THR Keagamaan untuk menyambut hari raya keagamaan sesuai ketentuan yang berlaku. Lantas,kapan THR Lebaran 2025 cair?Berikut ini ketentuan pencairan THR Lebaran 2025 untuk PNS serta karyawan perusahaan. Bagi Anda yang berstatus sebagai PNS dan pekerja/buruh perusahaan, berikut ini jadwal dan aturan pencairan THR untuk Lebaran 2025. ADVERTISEMENT SCROLL TO CONTINUE WITH CONTENT Presiden Prabowo Subianto telah menandatangani Peraturan Pemerintah (PP) Nomor 11 Tahun 2025 yang mengatur tentang THR dan Gaji ke-13 bagi Aparatur Negara. Berdasarkan keterangan pers yang diunggah Kementerian PANRB, Presiden Prabowo mengumumkan bahwa: Kebijakan tentang pencairan THR Lebaran 2025 bagi pekerja/buruh perusahaan atau karyawan swasta diatur dalam Surat Edaran Menaker Nomor M/2/HK.04.00/III/2025 tentang Pelaksanaan Pemberian THR Keagamaan Tahun 2025 bagi pekerja/buruh di perusahaan. Berikut informasinya. Dengan demikian,berdasarkan Surat Edaran Menaker Nomor M/2/HK.04.00/III/2025, THR Lebaran 2025 bagi pekerja/buruh perusahaan atau karyawan swasta, diberikan paling lambat H-7 Lebaran 2025 atau sekitar tanggal 24 Maret 2025 (jika Lebaran Idul Fitri 2025 jatuh pada tanggal 31 Maret 2025).   Simak Video Menaker: THR Paling Lambat H-7 Lebaran-Tak Boleh Dicicil [Gambas:Video 20detik] ',\n",
       "  0],\n",
       " ['Cara Daftar Mudik Gratis Kapal Laut Kemenhub Lebaran 2025',\n",
       "  'https://news.detik.com/berita/d-7819141/cara-daftar-mudik-gratis-kapal-laut-kemenhub-lebaran-2025',\n",
       "  '',\n",
       "  'Kemenhubmenggelar mudik gratis Lebaran 2025. Untuk jalur laut, Kemenhub menyediakan total 48.867 tiket gratis kapal laut di 153 trayek tertentu. Berikut ini cara mendaftarmudik gratis kapal lautKemenhub untuk Lebaran Idul Fitri 2025. Pendaftaran mudik gratis kapal laut untuk Lebaran 2025 sudah dibuka hari ini, Selasa (11/3/2025). Berdasarkan informasi resmi dari Ditjen Perhubungan Laut Kemenhub, ini langkah-langkahnya. ADVERTISEMENT SCROLL TO CONTINUE WITH CONTENT Berikut ini cara cek jadwal dan rute mudik gratis kapal laut untuk Lebaran 2025. Dilansir situs resmi Jasa Marga, puncak arus mudik atau keluar Jakarta diperkirakan terjadi pada H-3 periode libur Idul Fitri 1446 H/2025 atau tepatnya pada Jumat, 28 Maret 2025 dengan jumlah 232.401 kendaraan atau naik 50% dibandingkan lalu lintas normal. Kemudian, puncak arus balik atau kembali menuju Jakarta diprediksi akan terjadi pada H+5 Lebaran 2025 atau pada Minggu, 6 April 2025 dengan jumlah 276.006 kendaraan atau naik 62% dibanding lalu lintas normal. Simak lagi jadwal libur Lebaran 2025 ditambah libur Nyepi 2025.  Simak Video Pemerintah Siapkan 100 Ribu Kuota Mudik Gratis Lebaran 2025 [Gambas:Video 20detik] ',\n",
       "  0],\n",
       " ['Heboh Teror Penembakan Sasar Mobil Rental di Malang',\n",
       "  'https://news.detik.com/berita/d-7819136/heboh-teror-penembakan-sasar-mobil-rental-di-malang',\n",
       "  '',\n",
       "  'WargaMalangdihebohkan teror penembakan terhadap mobil oleh orang tak dikenal. Sudah ada dua warga yang telah menjadi sasaran penembakan. Reyhan Rafisyah Hidayat (23), warga Blimbing, Kota Malang, mengungkapkan mobilnya jadi sasaran penembakan OTK. Dia curiga bahwa sasarannya mobil rental. Reyhan sendiri mengelola jasa rental mobil dengan nama Rins Tour and Travel. \"Kalau motif pelaku kurang tahu saya mas. Tapi yang jadi korban iya (mobil rental). Tapi saya juga curiga kok dia tahu kalau itu mobil rental,\" ujar Reyhan dilansirdetikJatim, Senin (10/3/2025). ADVERTISEMENT SCROLL TO CONTINUE WITH CONTENT   Tak hanya Reyhan, warga Blimbing, Kota Malang, yang mengaku sebagai korban. Teror penembakan juga menyasar mobil rental milik Iwan Putra (33), warga Lawang, Kabupaten Malang. Kejadian itu terjadi pada Sabtu (8/3). \"Milik saya ada dua mobil, Sigra dan Toyota Innova. Kejadian tanggal 8 kemarin, pukul 00.17 WIB,\" ujar Iwan dilansirdetikJatim, Selasa (11/3/2025). Sementara itu, Kapolsek Lawang Kompol Suwarta membenarkan adanya kejadian itu, penyelidikan kini tengah dilakukan. Setelah menerima laporan korban dan melakukan olah TKP. \"Betul (kejadian penembakan) saat ini sedang dilakukan penyelidikan,\" ungkap Suwarta. Baca berita selengkapnyadi sinidandi sini.  Simak juga Video: 2 Oknum TNI Penembak Bos Rental Mobil Dituntut Penjara Seumur Hidup [Gambas:Video 20detik] ',\n",
       "  0],\n",
       " ['Pengabdian Bripka Batias di Keerom: Ajari Anak-anak Membaca hingga Bina Petani',\n",
       "  'https://news.detik.com/berita/d-7819131/pengabdian-bripka-batias-di-keerom-ajari-anak-anak-membaca-hingga-bina-petani',\n",
       "  '',\n",
       "  'Bripka Batias Yikwa mendirikan rumah baca atau perpustakaan untuk meningkatkan literasi anak-anak di Kampung Baburia, Keerom, Papua. Banit 3 Satreskrim Polres Keerom itu juga memberdayakan warga setempat untuk bertani. Atas aksinya itu, Pace Bhabin alias Bripka Batias diusulkan dalamHoegeng Awards 2025oleh warga Keerom bernama Mendi Marthen Erelak. Bripka Batias merupakan salah satu kandidat dalam program Hoegeng Corner 2024. \"Kami kenal Batias Yikwa itu dia seorang Bhabin yang baik, dia aktif melayani di Distrik Arso Barat, khususnya Desa Baburia. Dia selalu hadir pada saat ada masalah lingkungan,\" kata Mendi kepadadetikcom, Selasa (25/2/2025). ADVERTISEMENT SCROLL TO CONTINUE WITH CONTENT Mendi menyebut Pace Bhabin selalu hadir di tengah-tengah masyarakat Baburia. Menurutnya, Bripka Batias sosok polisi yang baik hati dan dermawan karena sering memberi bantuan kepada masyarakat kurang mampu, khususnya lansia. \"Beliau juga selalu aktif memberikan bantuan kepada lansia, terus gereja, terus masjid beliau juga bantu. Dia biasa bantu masyarakat yang pendapatannya tidak memungkinkan, dia bantu sembako, sering bantu,\" ucapnya. Mendi menilai Bripka Batias seorang Kristen yang taat. Pace Bhabin, kata Mendi, rutin beribadah ke gereja dan sesekali memberi imbauan agar warga di desa binaannya menjaga keamanan dan ketertiban lingkungan. Dia menyebut Bripka Batias juga orang yang peduli terhadap pendidikan dan pengetahuan anak-anak setempat. Buktinya, ia mendirikan rumah baca untuk anak-anak di Keerom agar semakin mengenal dunia. \"Terus beliau juga membuka perpustakaan, taman baca anak-anak, tapi saat ini rumahnya terbakar. Jadi sedang usaha untuk bangun kembali, kemarin hari Minggu sudah ada pengumuman di gereja bahwa dia akan bangun kembali tempat kemarin terbakar,\" jelas Mendi. Mendi mengatakan perpustakaan yang dibangun Bripka Batias di dekat kebun itu belum lama ini kebakaran. Penyebabnya, karena ada warga setempat yang membabat rumput liar dan membakarnya hingga merembet ke rumah baca. \"Kan taman baca itu dekat kebun, jadi ada orang babad (rumput), apinya itu panas, karena mereka membakar (rumput) siang. Jadi kenanya di tempat baca situ, semua habis terbakar,\" katanya. Bripka Batias juga aktif memberdayakan dan membina warga Desa Baburia untuk menjadi petani. Menurut Mendi, masyarakat dibantu diberikan bibit, pupuk, hingga hasil taninya bisa dijual maksimal dan menjadi pendapatan warga setempat. Dalam program Hoegeng Corner beberapa waktu lalu, Bripka Batias menceritakan latar belakang dirinya membangun perpustakaan di Desa Baburia karena akses belajar menjadi kendala bagi anak-anak. Tak semua dusun di wilayahnya bertugas dekat dengan sekolah. \"Jadi di kampung binaan saya ini sangat luas, yang tadi saya sebutkan lokasinya berapa dusun itu, jadi yang ada sekolah itu cuma satu dusun, terus yang dekat dengan sekolah itu cuma dua dusun. Selain dari itu, cukup jauh,\" kata Bripka Batias dalam program Hoegeng Corner di detikPagi seperti dikutip, Senin (18/11/2024). Dampak dari jauhnya jarak rumah ke sekolah, kata dia, anak-anak yang seharusnya sudah memenuhi syarat usia untuk sekolah jadi tidak sekolah. \"Sehingga saya berinisiatif untuk membangun perpustakaan, jadi adik-adik ini setelah belajar pagi terus sorenya luangkan waktu di perpustakaan,\" sambung dia. Bripka Batias menjelaskan ternyata perpustakaan tak hanya diminati anak-anak, tapi juga orang dewasa. Dia menceritakan memang ada sejumlah warga yang belum bisa membaca. Batias pun turun tangan mengajarkan warga yang usianya dewasa agar bisa membaca. Perpustakaan yang dibangun Batias juga dilengkapi buku bacaan tentang pertanian, sehingga mama-mama antusias mendatangi perpustakaan. \"Ada beberapa orang tua juga mereka tidak tahu membaca, sehingga saya mengajarkan mereka untuk membaca, terus untuk mama-mama ada juga buku-buku pertanian, jadi saya mengajarkan kepada mama-mama untuk cara menanam yang baik seperti apa, terus bibit yang bagus seperti apa, pupuknya seperti apa, itu yang saya ajarkan di tempat perpustakaan itu,\" tutur dia. Bripka Batias mengatakan perpustakaan itu dibangun sejak 2023. Dia bersyukur, kehadiran perpustakaan disambut antusias warga, baik anak-anak maupun orang dewasa. Bripka Batias Yikwa merupakan sosok polisi yang menggerakkan warga untuk membuka lahan pertanian dengan jenis tanaman baru di Keerom. Aksinya didasari keinginannya meningkatkan perekonomian masyarakat setempat. \"Karena di sana di kampung binaan, masyarakat petani cuman mereka itu berkebun cuma tanam ubi dengan singkong. Jadi saya buka lahan itu untuk tanaman-tanaman lain. Seperti kacang tanah, kacang pajang, terus jagung,\" kata Bripka Batias dalam perbincangan detikcom beberapa waktu lalu. Batias diusulkan oleh Polda Papua dalam program Hoegeng Corner 2024. Inisiatifnya mendapat respons positif dari warga hingga dia membentuk 3 kelompok tani. Menurut Batias, hasil tanaman yang dipanen warga kemudian dijual ke pasar dan uangnya dipakai untuk memenuhi kebutuhan mereka masing-masing. \"Jadi jumlah kelompok 3. Setiap kelompok saya bagi 20 orang, jadi semuanya 60 orang,\" kata Batias.',\n",
       "  0],\n",
       " ['3 Hambatan Utama di Jalur Mudik Kalimalang: Jalan Berlubang-Pasar Tumpah',\n",
       "  'https://news.detik.com/berita/d-7819129/3-hambatan-utama-di-jalur-mudik-kalimalang-jalan-berlubang-pasar-tumpah',\n",
       "  '',\n",
       "  'Direktorat Lalu Lintas Polda Metro Jaya mengungkap adanya 3 hambatan utama dijalur mudik Kalimalang-Bekasi. Hambatan ini perlu diwaspadai, antara lain jalan berlubang dan pasar tumpah. Hal itu disampaikan Dirlantas Polda Metro Jaya Kombes Latif Usman seusai melakukan pengecekan di jalur mudik rute Cawang-Kalimalang-Bekasi Barat-Bekasi Timur-Tambun-Cibitung-Kedungwaringin-Karawang, pada Selasa (11/3/2025) malam tadi. \"Pertama persiapkan betul kondisi kendaraan khususnya sepeda motor. Bahwa jalur antara Cawang dengan Karawang ini kondisi jalannya, penerangan dari Cawang sampai Bekasi ini mencukupi,\" kata Latif, dikutip dari TMC Polda Metro Jaya, Rabu (12/3/2025). ADVERTISEMENT SCROLL TO CONTINUE WITH CONTENT Ada beberapa hal yang perlu diwaspadai para pemudik bermotor apabila ingin menggunakan jalur mudik rute Kalimalang tersebut. Salah satu yang perlu diwaspadai adalahadanya jalan yang bergelombang. \"Dari Bekasi Barat-Bekasi Timur masuk Tambun ini harus lebih waspada lagi, karena di situ ada jalan bergelombang, ada beberapa lubang yang nanti akan kita koordinasikan dengan pemangku kepentingan untuk segera ditambal,\" imbuhnya. Selain itu, ada beberapa titik pasar tumpah yang juga perlu diwaspadai oleh para pemudik yang menggunakan roda dua ataupun roda empat. \"Khususnya pada pagi hari dan siang hari akan terjadi pasar tumpah, ini yang perlu diantisipasi mungkin akan sedikit menghambat perjalanan para pemudik ini,\" lanjutnya. Hambatan lainnya di jalur mudik rute Kalimalang-Karawang ini yakni banyaknyatitik putar balik(U-Turn). Dari sepanjang jalur Bekasi Barat sampai dengan Karawang ini juga banyak pejalan kaki yang menyeberang sehingga pengemudi diharapkan berhati-hati. \"Sepanjang jalur dari Bekasi Barat sampai dengan Karawang ini ada beberapa U-Turn yang perlu diwaspadai, di situ ada penyeberang sepeda motor yang masuk ke jalur pemudik ataupun penyeberang jalan yang akan melewati jalan tersebut, karena ini samping kanan-kiri ini permukiman, jadi waspada, jaga betul kecepatan dan konsentrasi,\" paparnya. Latif mengimbau para pemudik, khususnya yang menggunakan motor, supaya melakukan mudik pada siang hari. Sebab, konsentrasi pengemudi akan menurun pada malam hari. \"Saya sarankan tidak berangkat malam hari, karena malam hari konsentrasi pasti akan lebih menurun dan kegiatan masyarakat yang tidak terduga akan membahayakan para pemudik,\" katanya. Ia juga mengimbau masyarakat tidak mudik menggunakan motor. Sebaliknya, polisi menyarankan masyarakat mudik menggunakan angkutan umum. \"Lebih baik tidak mudik menggunakan motor, angkutan umum tersedia dengan baik,\" pungkasnya.  Simak juga Video: Buka Puasa Bersama, Kakorlantas Minta Doa Kiai Agar Operasi Ketupat Lancar-Aman [Gambas:Video 20detik] ',\n",
       "  0],\n",
       " ['Pramono Dukung Polisi Tindak Tegas Pihak Sunat Minyakita: Ini Keterlaluan',\n",
       "  'https://news.detik.com/berita/d-7819118/pramono-dukung-polisi-tindak-tegas-pihak-sunat-minyakita-ini-keterlaluan',\n",
       "  '',\n",
       "  'Produk minyak gorengMinyakitakemasan 1 liter dipotong jumlahnya menjadi 750-800 mililiter ditemukan di sejumlah pasar Jakarta. Gubernur JakartaPramono Anungmendukung tindakan hukum kepada siapa pun yang melakukan praktik curang. \"Pemerintah Jakarta mendorong tindakan tegas dari aparat kepolisian, penegak hukum bagi siapa saja yang melakukan itu (kecurangan),\" kata Pramono kepada wartawan di kawasan Monumen Nasional (Monas), Jakarta Pusat, Rabu (12/3/2024). Pramono menilai praktik culas yang dilakukan produsen minyak bersubsidi itu sangat keterlaluan. Tindakan itu, kata dia, telah mencederai rasa keadilan masyarakat. ADVERTISEMENT SCROLL TO CONTINUE WITH CONTENT \"Karena memang ini sungguh sangat mencederai rasa keadilan masyarakat. Mereka masyarakat yang sangat membutuhkan dan Minyakita ini kan untuk segmen masyarakat yang membutuhkan,\" ucap Pramono. \"Sudah disubsidi, kemudian ukurannya dikurangi, ini kan keterlaluan,\" imbuhnya. Karena itu, Pramono menyebut akan mendukung langkah aparat untuk menindak tegas produsen yang melakukan perbuatan licik itu. \"Siapapun yang melakukan itu, maka pemerintah Jakarta memberikan dukungan, support sepenuhnya untuk diambil tindakan tegas bagi mereka,\" pungkasnya. Ditreskrimsus Polda Metro Jaya sebelumnya melakukan pengecekan Minyakita di Pasar Kemayoran, Jakarta Pusat, pada Selasa (11/3). Dari hasil pemeriksaan diketahui ada 3 distributor \\'nakal\\' yang diduga mengurangi takaran Minyakita. Dirkrimsus Polda Metro Jaya Kombes Ade Safri Simanjuntak mengatakan pihaknya melakukan uji sampling terhadap 15 produk Minyakita (1 produk kemasan pouch dan 14 produk kemasan botol) yang diperoleh dari 4 distributor yang berbeda. Uji sampling dilakukan dengan menggunakan alat ukur sesuai standar metrologi yang berlaku. \"Secara umum, dari ke-14 sampling MinyaKita kemasan botol yang diuji takar tersebut, ditemukan rata-rata total isi volume kurang lebih 795 ml per botolnya, dengan kuantitas isi terbanyak 804 ml,\" ujar Ade Safri kepada wartawan, Rabu (12/3). \"Secara khusus, pada kemasan botol minyak goreng merek Minyakita, ditemukan hasil ketidaksesuaian volume sekitar +/- 200 ml,\" sambungnya.',\n",
       "  0],\n",
       " ['Dikritik soal Naik Perahu Karet Saat Cek Banjir, Ini Kata Rano Karno',\n",
       "  'https://news.detik.com/berita/d-7819106/dikritik-soal-naik-perahu-karet-saat-cek-banjir-ini-kata-rano-karno',\n",
       "  '',\n",
       "  'Wakil Gubernur (Wagub) DKI Jakarta,Rano Karno, buka suara atas kritik terhadap dirinya soal menaiki perahu saat meninjaubanjirdi daerah Lebak Bulus, Jakarta Selatan. Dia menyebut setiap tindakan tak akan bisa menyenangkan semua orang. \"Tentu setiap tindakan pasti tidak akan mungkin menyenangkan semua. Kita harus memilih kan,\" kata Rano menjawab pertanyaan wartawan di kawasan Monen Nasional (Monas), Jakarta Pusat, Rabu (12/3/2024). Politikus PDIP itu menyebut dirinya dan Gubernur DKI Jakarta, Pramono Anung, kala itu telah berbagi tugas dalam memantau warga terdampak banjir di Jakarta. ADVERTISEMENT SCROLL TO CONTINUE WITH CONTENT \"Nah artinya kunjungan Mas Pram melalui udara dan perjalanan, darat melalui yang dilakukan oleh Wagub, itu bukan berarti tidak berkoordinasi. Memang sengaja supaya kita bisa menentukan kebijakan apa,\" sebut Rano. Rano sebelumnya meninjau lokasi banjir di Jalan Kamboja, Lebak Bulus, pada Selasa (4/3). Rano didampingi Plt Wali Kota Jakarta Timur Iin Mutmainah mengunjungi korban banjir yang masih bertahan di rumahnya itu. Rano dan rombongan menggunakan perahu karet untuk melintasi banjir tersebut. Dalam kesempatan itu, Rano mengungkapkan fokusnya saat ini adalah membenahi Ciliwung. Dia mengaku optimistis karena anggaran pengendalian banjir Jakarta cukup besar Video Rano menaiki perahu karet saat meninjau banjir itu kemudian ramai diperbincangkan di media sosial (medsos).  Simak Video Wagub Rano Karno Tinjau Banjir di Kebon Pala Jaktim [Gambas:Video 20detik] ',\n",
       "  0],\n",
       " ['Mahasiswi di Bekasi Terjatuh ke Kolong Truk hingga Tewas Terlindas',\n",
       "  'https://news.detik.com/berita/d-7819092/mahasiswi-di-bekasi-terjatuh-ke-kolong-truk-hingga-tewas-terlindas',\n",
       "  '',\n",
       "  'Seorang mahasiswi inisial LNK (24) tewas usai terlibatkecelakaandengan sebuah truk di Jalan Raya Ratna, Jatikramat, Jatiasih, Kota Bekasi. Korban tewas di tempat setelah masuk ke kolong truk dan terlindas. Kanit Gakkum Satlantas Polres Metro Kota Bekasi, Iptu Suwandi menjelaskan kecelakaan terjadi pada Selasa (11/3) pukul 15.10 WIB. LNK mengalami kecelakaan saat mengendarai sepeda motor. Suwandi menerangkan sepeda motor yang dikendarai LNK terlibatkecelakaan dengan truk boxyang dikemudikan oleh PNJ (30). Saat itu, kedua kendaraan berjalan beriringan dari arah yang sama. ADVERTISEMENT SCROLL TO CONTINUE WITH CONTENT \"Diduga kendaraan berjalan beriringan searah di Jalan Raya Ratna dari arah utara menuju selatan dan setiba di TKP di depan Rumah Bersalin Ratna terjadi kecelakaan,\" jelas Suwandi kepada wartawan, Rabu (12/3/2025). Korban terjatuh hingga masuk kolong truk dan terlindas. Korbanmeninggal duniadi lokasi kejadian. \"Pengendara sepeda motor terlindas dan masuk ke bawah mobil truk tersebut yang mengakibatkan korban meninggal dunia dan kemudian korban di bawa ke RSUD Kota Bekasi,\" kata Suwandi.   Lihat juga Video: Pemotor Wanita Tewas Terlindas Truk Gegara Jalan Bergelombang di Jakut [Gambas:Video 20detik] ',\n",
       "  0],\n",
       " ['Larangan Study Tour Sekolah di Jabar Berdampak ke Jumlah Kunjungan TMII',\n",
       "  'https://news.detik.com/berita/d-7819093/larangan-study-tour-sekolah-di-jabar-berdampak-ke-jumlah-kunjungan-tmii',\n",
       "  '',\n",
       "  'Pemprov Jawa Barat melarang sekolah menggelar karyawisata ataustudy tour. Akibatnya, kebijakan itu berdampak terhadap jumlah pengunjung di Taman Mini Indonesia Indah (TMII), Jakarta Timur. DilansirAntara, Direktur Komersial TMII Ratri Paramita mengatakan pihaknya sudah menerima pembatalan kunjungan dari beberapa wilayah di Jawa Barat yang sudah memesan tiket. Dia menyebut jumlahnya cukup berdampak secara signifikan. \"Tahun ini ada (pembatalan), jadi kami sudah ada terbooking dari beberapa di Jawa Barat untuk pesantren kilat kami juga sudah dibatalkan juga. Saya tidak bisa bilang jumlahnya (pembatalan), tapi ya cukup terdampak buat kami yang di grup edukasi. Sekitar ratusan,\" jelas Ratri, Rabu (12/3/2025). ADVERTISEMENT SCROLL TO CONTINUE WITH CONTENT Namun, Ratri menyebut pihaknya tentu akan mengikuti aturan yang sudah diterapkan oleh Pemprov Jawa Barat tersebut. Dia mengaku bahwa mayoritas pengunjung TMII merupakan anak sekolah yang berada di wilayah Jawa Barat. \"Karena memang kalau grup sekolah kami banyak yang dari Depok, Bekasi, bahkan dari Bandung juga banyak. Tapi ya sudah kita mengikuti aturan yang ada. Kami juga sudah menjalin kerja sama dengan kereta api cepat \\'Whoosh\\' untuk mengakomodir wisatawan asal Jawa Barat,\" kata Ratri. Lebih lanjut, Ratri sebenarnya menyayangkan adanya kebijakan itu. Padahal, Pengelola TMII menargetkan 500 ribu pengunjung selama Ramadan hingga Lebaran 2025. Ratri optimis target tersebut akan terlampaui karena setiap kali Lebaran, TMII selalu penuh pengunjung. Selain itu, TMII juga sudah menyiapkan sejumlah festival untuk menyambut Ramadan dan Lebaran.  Simak juga Video: Industri Hotel Buka Suara soal Dampak Pelarangan Study Tour di Jabar [Gambas:Video 20detik] ',\n",
       "  0],\n",
       " ['83 Rumah Warga Rusak Akibat Tanah Bergerak di Sukamakmur Bogor',\n",
       "  'https://news.detik.com/berita/d-7819089/83-rumah-warga-rusak-akibat-tanah-bergerak-di-sukamakmur-bogor',\n",
       "  '',\n",
       "  'Bencanatanah bergerakterjadi di sejumlah kampung di Desa Sukamakmur, Kecamatan Sukamakmur, Bogor, Jawa Barat, pekan lalu. Tanah bergerak terjadi akibat intensitas hujan tinggi, disertai kontur tanah yang labil. \"Hujan deras dengan intensitas tinggi serta kontur tanah yang labil mengakibatkan pergerakan tanah dan berdampak pada rumah warga,\" kata Kabid Kedaruratan dan Logistik BPBD Kabupaten Bogor, M Adam Hamdani, Rabu (12/3/2025). Petugas BPBD telah melakukan pendataan terhadap kerugian akibat bencana tersebut. Diketahui, sebanyak 83 bangunan rusak dan 5 bangunan terancam. ADVERTISEMENT SCROLL TO CONTINUE WITH CONTENT \"Total bangunan terdampak 88 rumah, dengan rincian 14 rusak berat, 9 rusak sedang, 60 rusak ringan, dan 5 terancam,\" jelasnya. Total sebanyak 88 (KK) terdampak tanah bergerak tersebut. Petugas BPBD telah melakukan penanganan kebencanaan dan asesmen di lokasi kejadian. \"Jumlah jiwa yang terdampak sebanyak 88 KK dengan 317 jiwa,\" tuturnya. Adapun rincian kampung yang terdampak yaitu pertama di Kampung Cikoneng RT 01/04 sebanyak 5 rumah rusak ringan dan 1 eumah rusak berat. Sementara di RT 02/04 sebanyak 4 rumah rusak sedang, 8 rumah rusak ringan, dan 1 rumah rusak berat. \"Kampung Cikoneng RT 02/05 sebanyak 14 rumah rusai ringan, dan 1 bangunan toko rusak berat. Sementara di RT 03/05 seba gak 1 rumah rusak ringan dan 1 rumah rusak berat,\" ucapnya. Selanjutnya di Kampung Cihanjawar RT 02/03 sebanyak 11 rumah rusak ringan. Lalu di Kampung Pangupukan RT 01/06 sebanyak 11 rumah rusak ringan, 3 rumah rusak sedang, dan 9 rumah rusak berat. \"Di Kampung Pangupukan RT 02/06 sebanyak 2 rumah rusak ringan, 4 rumah rusak sedang, dan 1 rumah rusak berat. Di Kampung Jareged RT 02/07 sebanyak 4 rumah rusak ringan. Terakhir di Kampung Pamoyanan RT 02/01 sebanyak 1 rumah rusak sedang,\" pungkasnya.  Lihat juga Video: 4 Rumah dan Masjid di Purwakarta Hancur Akibat Tanah Bergerak [Gambas:Video 20detik] ',\n",
       "  0],\n",
       " ['Pramono Bertemu Kepala Badan Gizi Sore Ini, Bahas Nasib Sarapan Gratis di DKI',\n",
       "  'https://news.detik.com/berita/d-7819069/pramono-bertemu-kepala-badan-gizi-sore-ini-bahas-nasib-sarapan-gratis-di-dki',\n",
       "  '',\n",
       "  'Gubernur Jakarta Pramono Anungbertemu dengan Kepala Badan Gizi Nasional (BGN) Dadan Hindayana sore nanti di Balai Kota Jakarta. Pertemuan itu akan membahas nasib sarapan gratis hingga wacana renovasi kantin sekolah di Jakarta. \"Hari ini saya akan menerima (kunjungan Badan Gizi Nasional). Karena sebenarnya saya yangpengensowan ke Kepala Badan Gizi, tapi akhirnya beliau yang ingin datang ke kantor, hari ini kami terima,\" kata Pramono di kawasan Monumen Nasional (Monas), Jakarta Pusat, Rabu (12/3/2025). Pramono menerangkan program sarapan gratis di Jakarta sejatinya sudah dibahas dalam rapat-rapat dan juga di tim transisi. Program sarapan gratis diketahui merupakan janji politik Pramono saat kampanye di Pilkada 2024 lalu. ADVERTISEMENT SCROLL TO CONTINUE WITH CONTENT \"Ketika kami melakukan sosialisasi sebelum Pilgub kan memang ada rencana keinginan untuk sarapan pagi gratis. Dan sudah kita bahas di dalam tim transisi maupun rapat-rapat kami sendiri di internal pemerintah Jakarta,\" ungkap Pramono. Politikus PDIP itu menyebut tidak ada niat menyaingi program makan bergizi gratis yang digagas pemerintah dan kini tengah berjalan. Dia mengaku hanya ingin anak sekolah juga bisa mendapat sarapan gratis. \"Saya secara khusus ingin meluruskan apa yang menjadi berita dari teman-teman sekalian. Nggak ada sama sekali keinginan untuk menyaingi rivalitas, nggak ada,\" ungkap Pramono. \"Kalau sudah dapat makan siang bergizi gratis, kami berpikir kalau memang bisa dilakukan sarapan gratis, kami lakukan,\" imbuhnya. Pramono mengatakan pihaknya juga akan menjelaskan ke Badan Gizi Nasional perihal opsi mengganti program sarapan bergizi gratis menjadi renovasi kantin. Pramono melihat tidak semua sekolah di Jakarta memiliki kantin yang baik. \"Kalau nggak, maka kami akan melakukan perbaikan infrastruktur kantin-kantin yang ada di sekolah. Karena tidak semua sekolah itu mempunyai infrastruktur yang baik,\" kata Pramono. Kendati demikian, Pramono mengatakan belum ada kepastian mengenai renovasi kantin itu. Dia menyebut hasil pertemuan dengan Badan Gizi Nasional ini nantinya akan disampaikan ke publik. \"Nanti setelah ada arahan dan putusan dari Kepala Badan Gizi saya akan sampaikan kepada rekan-rekan sekalian,\" ungkapnya. Pramono Anung sebelumnya mengungkapkan Badan Gizi Nasional (BGN) tidak mengizinkan pemerintah daerah membuat program mirip dengan Makan Bergizi Gratis. Pramono menyebut hal itu disampaikan BGN saat retret di Magelang. \"Jadi pada waktu retret di Magelang, Kepala Badan Gizi menyampaikan bahwa pemerintah daerah tidak diizinkan untuk melakukan kegiatan yang hampir sama, yaitu kegiatan Makan Bergizi Gratis,\" kata Pramono kepada wartawan di Jalan Cemara, Menteng, Jakarta Pusat, Sabtu (8/3). Pramono menyampaikan pihaknya akan mematuhi aturan tersebut, yakni tidak melaksanakan program sarapan gratis. Sebab, kata dia, program tersebut akan berubah menjadi renovasi kantin. \"Sebetulnya, sebagai pemerintah Jakarta, kami akan mengikuti apa yang menjadi arahan pemerintah pusat. Untuk itu, program yang rencananya untuk sarapan gratis tadi di Jakarta akan kami alihkan untuk membantu membangun infrastruktur yang dibutuhkan oleh sekolah, yakni menyiapkan itu terutama di kantin, UMKM, dan sebagainya,\" tutur Pramono. \"Jadi kami akan membantu karena memang Jakarta mempunyai kemampuan untuk itu dan kami akan lakukan,\" imbuhnya.',\n",
       "  0],\n",
       " ['Kejagung Diminta Periksa Eks Menteri ESDM soal Korupsi Tata Kelola Minyak Mentah',\n",
       "  'https://news.detik.com/berita/d-7819068/kejagung-diminta-periksa-eks-menteri-esdm-soal-korupsi-tata-kelola-minyak-mentah',\n",
       "  '',\n",
       "  'Kasus dugaan korupsi dalam tata kelola minyak mentah dan produk kilang yang melibatkan anak usaha PT Pertamina dan pihak swasta pada periode 2018-2023 tengah menjadi perhatian publik. Kejaksaan Agung (Kejagung) kini mengusut kasus tersebut dengan nilai dugaan kerugian negara mencapai Rp 193,7 triliun. Pakar hukum pidana dari Universitas Bengkulu, Zico Junius Fernando menyoroti bahwa penyelidikan mencakup rentang waktu saat Arifin Tasrif menjabat sebagai Menteri Energi dan Sumber Daya Mineral (ESDM). \"Prinsip-prinsip dasar dalam penegakan hukum, termasuk asas praduga tak bersalah, serta prinsip akuntabilitas dan transparansi, harus diimplementasikan dalam proses investigasi guna memastikan penanganan perkara dilakukan secara objektif dan profesional,\" ujar Zico dalam keterangan tertulis, Rabu (12/3/2025). ADVERTISEMENT SCROLL TO CONTINUE WITH CONTENT Dalam keterangannya, Zico menjelaskan bahwa kasus korupsi dapat berbentuk penyalahgunaan wewenang, kerugian negara, atau praktik suap dalam kebijakan publik. \"Jika dalam kebijakan impor minyak mentah pada periode 2018-2023 ditemukan indikasi adanya penyalahgunaan wewenang yang mengakibatkan kerugian negara, maka pihak yang terlibat dapat dijerat dengan ketentuan dalam UU tersebut. Pemeriksaan hukum harus difokuskan pada individu atau pihak yang memiliki kewenangan dan tanggung jawab dalam kurun waktu tersebut,\" tegasnya. Ia juga menegaskan pentingnya Kejagung dalam menuntaskan kasus ini dengan profesionalisme dan independensi agar tidak terjadi kriminalisasi terhadap pihak yang tidak terbukti terlibat. \"Perlu dilihat bahwa Bahlil baru dilantik sebagai Menteri ESDM pada Agustus 2024, sehingga secara faktual tidak memiliki kewenangan dan tanggung jawab atas kebijakan yang diambil pada rentang waktu 2018 hingga 2023,\" ucap Zico. Ia meminta publik lebih cermat dalam menyikapi kasus ini dan memastikan pihak yang bertanggung jawab benar-benar diusut berdasarkan bukti yang kuat. \"Secara objektif, pertanggungjawaban hukum atas kebijakan energi dan impor minyak mentah dalam kurun waktu tersebut seharusnya dialamatkan kepada pejabat yang memiliki otoritas pada masa itu, kecuali terdapat bukti kuat yang menunjukkan bahwa Bahlil telah memainkan peran aktif atau memberikan pengaruh terhadap kebijakan tersebut sebelum menjabat,\" imbuh zico. Sejalan dengan Zico, anggota Komisi VII DPR RI, Mukhtarudin juga mendesak Kejagung untuk memeriksa eks Menteri ESDM Arifin Tasrif terkait dugaan korupsi ini. \"Bapak Bahlil Lahadalia sedang melakukan pembersihan dan pembenahan tata kelola niaga impor BBM,\" tegas Mukhtarudin. Mukhtarudin menilai kasus ini menjadi momentum penting bagi Pertamina dan anak perusahaannya untuk melakukan reformasi tata kelola niaga BBM agar lebih transparan dan sesuai dengan mandat konstitusi. \"Momentum perbaikan ini untuk mengembalikan ruh arah pengelolaan kekayaan alam negara yang sejalan dengan mandat konstitusi,\" tambahnya. Sebelumnya, Jaksa Agung Muda bidang Tindak Pidana Khusus (Jampidsus) Kejagung telah menetapkan sembilan tersangka dalam kasus ini, enam di antaranya merupakan pejabat anak perusahaan Pertamina. Mereka diduga melanggar Pasal 2 ayat (1) atau Pasal 3 jo Pasal 18 UU No. 20 Tahun 2001 tentang Pemberantasan Tindak Pidana Korupsi.  Simak Video Kejagung Tahan 2 Tersangka Baru Dugaan Korupsi Tata Kelola Minyak [Gambas:Video 20detik] ',\n",
       "  0],\n",
       " ['Pramono Ingin Jakarta Ubah Orientasi dari Kendaraan Pribadi ke Kendaraan Umum',\n",
       "  'https://news.detik.com/berita/d-7819035/pramono-ingin-jakarta-ubah-orientasi-dari-kendaraan-pribadi-ke-kendaraan-umum',\n",
       "  '',\n",
       "  'Gubernur Jakarta Pramono Anungmengatakan saat ini Pemerintah Provinsi (Pemprov) Jakarta ingin mengubah orientasi warga dari yang sebelumnya memakai kendaraan pribadi menjadi memakai transportasi umum. Dia mengajak warga Jakarta menggunakan transportasi umum. \"Salah satu langkah strategis dengan mengubah paradigma dari car oriented development menjaditransit oriented development,\" ucap Pramono usai menghadiri Apel Siaga Operasi Lintas Jaya Tahun 2025 di Monas, Jakarta Pusat, Rabu (12/3/2025). \"Pemerintah Jakarta sekarang ini betul-betul berkeinginan secara perlahan untuk mengubah orientasi dari penggunaan kendaraan pribadi menjadi menggunakan kendaraan umum,\" imbuhnya. ADVERTISEMENT SCROLL TO CONTINUE WITH CONTENT Dia berharap dengan adanya langkah itu, masyarakat Jakarta dapat menjadi lebih tertib berlalu lintas. Dia ingin Jakarta dapat menjadi kita aman, nyaman, dan baik bagi masyarakatnya. \"Jakarta harus dibuat lebih tertib lagi, membuat bagi siapa pun yang datang ke Jakarta menggunakan lalu lintas di Jakarta merasa aman, nyaman, dan baik,\" harapnya. Pramono dalam kesempatan ini memimpin Apel Siaga Operasi Lintas Jaya 2025. Operasi itu digelar untuk menjaga dan meningkatkan kelancaran dan ketertiban lalu lintas di DKI Jakarta. Ops Lintas Jaya merupakan operasi gabungan antara Pemprov DKI Jakarta, TNI dan Polri yang dioperatori oleh Dinas Perhubungan (Dishun) Jakarta. Pramono menyebut sebanyak 1.460 personel gabungan dilibatkan dalam operasi rutin ini. \"Pemerintah DKI Jakarta pada hari ini melakukan Apel Siaga Operasi Lintas Jaya yang diadakan bersama-sama dengan Polda Metro Jaya, kemudian Pomdam Jaya, dan seluruh stakeholder yang ada untuk menghadapi mudik Lebaran, sekaligus tentunya juga menghadapi bulan Ramadan ini,\" kata Pramono. ',\n",
       "  0],\n",
       " [\"Polda Metro Kantongi 3 Distributor 'Nakal' Kurangi Takaran Minyakita\",\n",
       "  'https://news.detik.com/berita/d-7819026/polda-metro-kantongi-3-distributor-nakal-kurangi-takaran-minyakita',\n",
       "  '',\n",
       "  'Direktorat Reserse Kriminal Khusus Polda Metro Jaya melakukan pengecekanMinyakitadi Pasar Kemayoran, Jakarta Pusat, pada Selasa (11/3/2025). Dari hasil pemeriksaan diketahui ada 3 distributor \\'nakal\\' yang diduga mengurangi takaran Minyakita. Dirkrimsus Polda Metro Jaya Kombes Ade Safri Simanjuntak mengatakan pihaknya melakukan uji sampling terhadap 15 produk Minyakita (1 produk kemasanpouchdan 14 produk kemasan botol) yang diperoleh dari 4 distributor yang berbeda. Uji sampling dilakukan dengan menggunakan alat ukur sesuai standar metrologi yang berlaku. \"Secara umum, dari ke-14 sampling MinyaKita kemasan botol yang diuji takar tersebut, ditemukan rata-rata total isi volume kurang lebih 795 ml per botolnya, dengan kuantitas isi terbanyak 804 ml,\" ujar Ade Safri kepada wartawan, Rabu (12/3/2025). ADVERTISEMENT SCROLL TO CONTINUE WITH CONTENT \"Secara khusus, pada kemasan botol minyak goreng merek Minyakita,ditemukan hasil ketidaksesuaian volumesekitar +/- 200 ml,\" sambungnya. Dari pengujian terhadap 14 sampel Minyakita dalam kemasan botol dari keempat distributor tersebut, ditemukan fakta ada 3 distributor yang diduga mengurangi takaran Minyakita ukuran 1 liter. Secara rinci, Ade Safri menyebutkan ketiga distributor yang menyunat takaran Minyakita tersebut adalah sebagai berikut: 1. CV Rabani Bersaudara, Tangerang: uji takar terhadap 12pcs Minyakita berisi +- 800ml (hasil: tidak sesuai dengan isi kemasan)2. PT Artha Global, Depok: uji takar terhadap 1 pcs Minyakita berisi +- 800ml (hasil: tidak sesuai dengan isi kemasan)3. Koperasi Produsen UMKM Kudus: uji takar terhadap 1 pcs Minyakita berisi +-800ml (hasil: tidak sesuai dengan isi kemasan) Polda Metro Jaya juga melakukan uji sampling terhadap minyak goreng merek Minyakita kemasan pouch dari distributor CV Surya Agung, Jakarta terhadap 1 pouch Minyakita kemasan 1 liter. \"Dan didapatkan hasil sesuai dengan isi kemasan/pouch, menunjukkan hasil yang sesuai dengan yang tertera di dalam label kemasan yaitu 1 liter,\" kata dia. \"Untuk kemasanpouchataurefilltidak ada masalah. Dari hasil uji takar, isi sesuai dengan label yang tertera yaitu 1 liter,\" sambungnya. Berdasarkan hasil pemeriksaan tersebut, ditemukan ada ketidaksesuaian antara label kemasan dan isiminyak goreng Minyakita, khususnya kemasan botol. Atas temuan tersebut, Ade Safri mengatakan pihaknya akan menindaklanjutinya. \"Satgas Pangan Daerah Polda Metro Jaya akan menindaklanjutinya dengan upaya penyidikan lebih lanjut terhadap dugaan tindak pidana yang terjadi, sebagaimana dimaksud dalam pasal 62 Jo Pasal 8 ayat 1 huruf b dan c UU No 8 tahun 1999 tentang Perlindungan Konsumen, untuk mencari dan mengumpulkan bukti, yang dengan bukti itu membuat terang tindak pidana yang terjadi dan menemukan tersangkanya,\" paparnya. Satgas Pangan Polda Metro Jaya berkomitmen akan terus melakukan upaya pencegahan tindak pidana dan upaya penegakan hukum yang tegas untuk mendukung serta menyukseskan program Asta Cita Presiden dalam melindungi masyarakat Indonesia sebagai konsumen serta perekonomian negara dari kerugian keuangan negara yang diakibatkan oleh pelaku kejahatan. Lebih lanjut, Ade Safri mengimbau kepada para pelaku usaha agar tidak memanfaatkan moment hari besar keagamaan dengan melakukan spekulasi mengambil keuntungan dengan cara tidak jujur/berbuat curang, dan tidak sesuai dengan ketentuan yang berlaku. \"Apalagi berkaitan dengan kebutuhan pokok masyarakat, Satgas Pangan Daerah Polda Metro Jaya akan berkomitmen untuk menindak secara tegas segala bentuk tindak pidana yg terjadi dengan melakukan penegakan hukum untuk memberikan efek jera dan dalam rangka untuk melindungi masyarakat sebagai konsumen dan negara dari potensi kebocoran maupun kerugian keuangan negara akibat kejahatan atau tindak pidana yang terjadi,\" urainya. Sementara masyarakat diimbau untuk lebih cermat dan teliti dalam berbelanja, khususnya saat membeli Minyakita. Masyarakat diminta memperhatikan label dan memastikan volumenya sesuai dengan yang tertera pada label. \"Dan jika ada kecurigaan terkait isi yang tidak sesuai dengan yang tertera dalam label kemasan, dapat segera melaporkan ke Satgas Pangan Daerah Polda Metro Jaya di nomor 081908192016, untuk segera kita tindaklanjuti dengan upaya penyelidikan dan penyidikan lebih lanjut,\" pungkasnya.  Simak Video: Polri Usulkan Kemendag Cabut Izin-Tarik Produk MinyaKita Curang [Gambas:Video 20detik] ',\n",
       "  0]]"
      ]
     },
     "execution_count": 7,
     "metadata": {},
     "output_type": "execute_result"
    }
   ],
   "source": [
    "data"
   ]
  },
  {
   "cell_type": "code",
   "execution_count": 9,
   "metadata": {},
   "outputs": [],
   "source": [
    "def write_to_csv(data, filename):\n",
    "    file_exists = os.path.isfile(filename)\n",
    "    with open(filename, mode='a', newline='', encoding='utf-8') as file:\n",
    "        writer = csv.writer(file)\n",
    "        # Write header row if file doesn't exist\n",
    "        if not file_exists:\n",
    "            writer.writerow(['title', 'link', 'date', 'content', 'is_fake'])\n",
    "        # Write data rows\n",
    "        for row in data:\n",
    "            writer.writerow(row)"
   ]
  },
  {
   "cell_type": "code",
   "execution_count": null,
   "metadata": {},
   "outputs": [
    {
     "name": "stdout",
     "output_type": "stream",
     "text": [
      "Data has been written to dataset_detik_raw.csv\n"
     ]
    }
   ],
   "source": [
    "import os\n",
    "import csv\n",
    "# File name for the raw CSV\n",
    "filename = 'dataset_detik_raw.csv'\n",
    "\n",
    "# Write crawled data to CSV file\n",
    "write_to_csv(data, filename)\n",
    "\n",
    "print(f\"Data has been written to {filename}\")"
   ]
  },
  {
   "cell_type": "code",
   "execution_count": 14,
   "metadata": {},
   "outputs": [
    {
     "name": "stdout",
     "output_type": "stream",
     "text": [
      "Data has been written to dataset_detik.csv\n"
     ]
    }
   ],
   "source": [
    "import re\n",
    "def extract_title(text):\n",
    "    # Normalize text to lowercase\n",
    "    text = text.lower()\n",
    "\n",
    "    # Define start phrases to find the actual title content\n",
    "    start_phrases = [\n",
    "        \"\\n\"\n",
    "    ]\n",
    "\n",
    "    # Initialize the pattern with the start phrases\n",
    "    start_pattern = \"|\".join(map(re.escape, start_phrases))\n",
    "    pattern = f\"({start_pattern})(.*)\"\n",
    "\n",
    "    # Use regular expressions to find content after the start phrases\n",
    "    match = re.search(pattern, text, re.DOTALL)\n",
    "\n",
    "    if match:\n",
    "        return match.group(2).strip()\n",
    "    else:\n",
    "        return text\n",
    "\n",
    "# Open the CSV file in read mode to process titles\n",
    "with open('dataset_detik_raw.csv', 'r') as csvfile:\n",
    "    reader = csv.reader(csvfile)\n",
    "\n",
    "    # Skip the header row\n",
    "    next(reader)\n",
    "\n",
    "    # Create a list to store modified data\n",
    "    modified_data = []\n",
    "\n",
    "    # Iterate over each row in the CSV file\n",
    "    for row in reader:\n",
    "        title = row[0]\n",
    "        link = row[1]\n",
    "        date = row[2]\n",
    "        content = row[3]\n",
    "        is_fake = row[4]\n",
    "\n",
    "        # Extract and normalize title\n",
    "        extracted_title = extract_title(title)\n",
    "\n",
    "        # Append modified data to the list\n",
    "        modified_data.append([extracted_title, link, date, content, is_fake])\n",
    "\n",
    "# File name for the final CSV\n",
    "filename = 'dataset_detik.csv'\n",
    "\n",
    "# Write modified data to CSV file\n",
    "write_to_csv(modified_data, filename)\n",
    "\n",
    "print(f\"Data has been written to {filename}\")\n"
   ]
  },
  {
   "cell_type": "code",
   "execution_count": 3,
   "metadata": {},
   "outputs": [],
   "source": [
    "import datetime"
   ]
  },
  {
   "cell_type": "code",
   "execution_count": 8,
   "metadata": {},
   "outputs": [
    {
     "name": "stdout",
     "output_type": "stream",
     "text": [
      "Current month: 03, Current year: 2025\n"
     ]
    }
   ],
   "source": [
    "from datetime import datetime  # Ensure you import datetime from the datetime module\n",
    "\n",
    "def current_month_year():\n",
    "    month_digit = datetime.now().strftime(\"%m\")  # Get current month as two-digit string\n",
    "    year_digit = datetime.now().strftime(\"%Y\")  # Get current year as four-digit string\n",
    "    return month_digit, year_digit\n",
    "\n",
    "# Example usage:\n",
    "month_digit, year_digit = current_month_year()\n",
    "print(f\"Current month: {month_digit}, Current year: {year_digit}\")\n"
   ]
  },
  {
   "cell_type": "code",
   "execution_count": 9,
   "metadata": {},
   "outputs": [],
   "source": [
    "url = f'https://cekfakta.tempo.co/{year_digit}/{month_digit}'"
   ]
  },
  {
   "cell_type": "code",
   "execution_count": 10,
   "metadata": {},
   "outputs": [
    {
     "name": "stdout",
     "output_type": "stream",
     "text": [
      "https://cekfakta.tempo.co/2025/03\n"
     ]
    }
   ],
   "source": [
    "print(url)"
   ]
  },
  {
   "cell_type": "code",
   "execution_count": 9,
   "metadata": {},
   "outputs": [
    {
     "name": "stdout",
     "output_type": "stream",
     "text": [
      "[('Keliru: Video Richard Lee Promosikan Situs Judi Online Miliknya', 'https://cekfakta.tempo.co/fakta/3477/keliru-video-richard-lee-promosikan-situs-judi-online-miliknya'), ('Keliru: Video yang Diklaim Sebagai Tsunami', 'https://cekfakta.tempo.co/fakta/3476/keliru-video-yang-diklaim-sebagai-tsunami'), ('Keliru: Istri Presiden Prancis Emmanuel Macron adalah Ayahnya yang Transgender', 'https://cekfakta.tempo.co/fakta/3478/keliru-istri-presiden-prancis-emmanuel-macron-adalah-ayahnya-yang-transgender')]\n"
     ]
    }
   ],
   "source": [
    "import csv\n",
    "import requests\n",
    "from bs4 import BeautifulSoup\n",
    "import re\n",
    "from datetime import datetime\n",
    "\n",
    "def get_date():\n",
    "    return datetime.today().strftime(\"%Y-%m-%d\")\n",
    "\n",
    "def get_tempo_links():\n",
    "    url = f'https://cekfakta.tempo.co/{datetime.now().strftime(\"%Y/%m\")}'\n",
    "    response = requests.get(url)\n",
    "    soup = BeautifulSoup(response.text, 'html.parser')\n",
    "    links_data = []\n",
    "    \n",
    "    for article in soup.find_all('article', class_='text-card'):\n",
    "        date_text = article.find('h4', class_='date')\n",
    "        if date_text and 'jam' in date_text.get_text():\n",
    "            a_tag = article.find('a', href=True)\n",
    "            if a_tag:\n",
    "                link = \"https:\" + a_tag['href'] if a_tag['href'].startswith(\"//\") else a_tag['href']\n",
    "                links_data.append((a_tag.get_text().strip(), link))\n",
    "    \n",
    "    return list(set(links_data))\n",
    "\n",
    "# Example usage\n",
    "tempo_links = get_tempo_links()\n",
    "print(tempo_links)\n"
   ]
  },
  {
   "cell_type": "code",
   "execution_count": 13,
   "metadata": {},
   "outputs": [],
   "source": [
    "def scrape_tempo_articles(tempo_links):\n",
    "    data = []\n",
    "    date = get_date()\n",
    "    \n",
    "    for title, link in tempo_links:\n",
    "        category, title_news = title.split(':', 1) if ':' in title else (title, title)\n",
    "        is_fake = 1 if category in [\"Menyesatkan\", \"Keliru\"] else 0\n",
    "        \n",
    "        response = requests.get(link)\n",
    "        soup = BeautifulSoup(response.text, 'html.parser')\n",
    "        detail_in = soup.find('div', 'detail-in')\n",
    "        p = detail_in.find_all('p')\n",
    "        content = ' '.join(p.get_text() for p in p)\n",
    "        \n",
    "        data.append([title_news, link, date, content, is_fake])\n",
    "    \n",
    "    return data\n",
    "\n",
    "scrape = scrape_tempo_articles(tempo_links)"
   ]
  },
  {
   "cell_type": "code",
   "execution_count": 3,
   "metadata": {},
   "outputs": [],
   "source": [
    "\n",
    "def write_to_csv(data, filename):\n",
    "    with open(filename, mode='w', newline='', encoding='utf-8') as file:\n",
    "        writer = csv.writer(file)\n",
    "        writer.writerow(['title', 'link', 'date', 'content', 'is_fake'])\n",
    "        writer.writerows(data)\n",
    "\n",
    "def extract_content(text):\n",
    "    match = re.search(r\"(jakarta -|jakarta-)(.*)\", text.lower(), re.DOTALL)\n",
    "    return match.group(2).strip() if match else text\n",
    "\n",
    "def process_raw(filename):\n",
    "    with open(filename, 'r', encoding='utf-8') as csvfile:\n",
    "        reader = csv.DictReader(csvfile)\n",
    "        modified_data = [[row['title'], row['link'], row['date'], extract_content(row['content']), row['is_fake']] for row in reader]\n",
    "    \n",
    "    write_to_csv(modified_data, 'dataset_tempo.csv')\n",
    "    print(\"Data has been written to dataset_tempo.csv\")"
   ]
  },
  {
   "cell_type": "code",
   "execution_count": 4,
   "metadata": {},
   "outputs": [],
   "source": [
    "filename = 'dataset_tempo_raw.csv'\n",
    "tempo_links = get_tempo_links()"
   ]
  },
  {
   "cell_type": "code",
   "execution_count": 5,
   "metadata": {},
   "outputs": [],
   "source": [
    "scraped = scrape_tempo_articles(tempo_links)"
   ]
  },
  {
   "cell_type": "code",
   "execution_count": 6,
   "metadata": {},
   "outputs": [
    {
     "data": {
      "text/plain": [
       "[['Video Richard Lee Promosikan Situs Judi Online Miliknya',\n",
       "  'https://cekfakta.tempo.co/fakta/3477/keliru-video-richard-lee-promosikan-situs-judi-online-miliknya',\n",
       "  '2025-03-13',\n",
       "  'SEBUAH video beredar di Facebook [arsip] yang memperlihatkan dokter kecantikan, Richard Lee, mempromosikan situs judi online (judol) miliknya. Video yang diunggah tanggal 9 Maret 2025 itu memperlihatkan Richard Lee berbaju putih menyampaikan ingin berbagi atau bersedekah melalui situs yang bernama Ayu89. Mereka yang bermain di situs Ayu89, dia akan memberikan jackpot senilai Rp3-7 juta rupiah. Keinginan tersebut diamini oleh pendakwah Felix Siauw dan Derry Sulaiman.  Namun, benarkah Richard Lee mempromosikan situs judol miliknya? Hasil cek fakta Tempo menunjukkan, video saat Richard Lee berbicara tentang judi online adalah hasil rekayasa teknologi kecerdasan buatan. Tempo memverifikasi video itu menggunakan Google Lens, penelusuran YouTube, serta alat deteksi deepfake. Video versi asli yang memperlihatkan Richard Lee berbaju putih, pendakwah Felix Siauw dan Derry Maulana itu ditemukan di akun YouTube dr. Richard Lee, MARS berjudul “Download Exclusive - Ternyata Jadi Islam Itu Berat?! Auto Log Out?!” yang diunggah\\xa0 pada 5 Maret 2024. Dalam video itu, Richard berbincang-bincang dengan kedua ustadz tersebut terkait tema “Frustasi Ujian Hidup”. Potongan video di atas, identik dengan video di detik ke-59 hingga menit ke-1:39.  Pada awal video hingga detik ke-16, video unggahan di atas masih menggunakan suara asli. Namun pada detik berikutnya hingga akhir, video berdurasi 1 menit 24 detik tersebut sudah mengandung konten deepfake. Pemindaian menggunakan Hivemoderation.com mendapatkan kesimpulan bahwa 99,9 persen video yang beredar di Facebook itu dibuat menggunakan mesin AI atau mengandung konten deepfake.  Penipuan online dengan menggunakan konten deepfake banyak mencatut sosok atau tokoh publik cukup meresahkan. Tempo pernah mengulas bahaya hoax penipuan berkedok tokoh publik tersebut di sini. Verifikasi Tempo menyimpulkan bahwa klim video Richard Lee mempromosikan situs judol miliknya bernama Ayu89 adalah keliru. Video merupakan hasil rekayasa menggunakan AI-generated audio. TIM CEK FAKTA TEMPO **Punya informasi atau klaim yang ingin Anda cek faktanya? Hubungi ChatBot kami. Anda juga bisa melayangkan kritik, keberatan, atau masukan untuk artikel Cek Fakta ini melalui email [email\\xa0protected]',\n",
       "  1],\n",
       " ['Video yang Diklaim Sebagai Tsunami',\n",
       "  'https://cekfakta.tempo.co/fakta/3476/keliru-video-yang-diklaim-sebagai-tsunami',\n",
       "  '2025-03-13',\n",
       "  'SEBUAH video beredar di Facebook [arsip] yang memuat klaim tentang adanya gelombang tsunami.\\xa0 Video itu menayangkan gulungan ombak dengan air berwarna cokelat. Sebuah anak panah menunjuk pada orang yang berada di gulungan ombak tersebut. Pria lainnya berbaju merah terlihat merekam arah gelombang datang. “Dikira ombak biasa ternyata tsunami,” tulis akun pengunggah konten.  Video yang diunggah pada 11 Januari 2025 sudah ditonton 18 juta kali dan disukai 132 ribu pengguna. Lalu, benarkah ini tsunami? Setelah memverifikasi video tersebut, Tempo menemukan fakta bahwa video tersebut bukan peristiwa tsunami. Tim Cek Fakta Tempo mendapatkan petunjuk dari kolom komentar yang menyebut perairan tersebut di Teluk Meranti, Kabupaten Pelalawan, Provinsi Riau. Gelombang besar yang terlihat di video, disebut bukan tsunami, melainkan ombak bono.\\xa0 Petunjuk kedua, saat mengecek video dengan lebih detail, pria yang terlihat di dalam gulungan ombak sedang berselancar karena menggunakan papan selancar.\\xa0 Dengan petunjuk tersebut, Tempo kemudian mencari video sejenis dengan kata kunci mengenai ombak bono di Teluk Meranti, Kabupaten Pelalawan. Hasilnya, potongan yang beredar di Facebook itu, dipotong dari video yang ditayangkan di kanal YouTube Membayang TV berjudul Tsunami River Tidal Wave Seven Ghost (Tidal Bore) yang diunggah pada 18 November 2024.\\xa0  Pemilik akun Membayang TV juga mengunggah potongan videonya pada awal Desember 2024 di akun TikTok @membayangtv di sini dan sini. Pada video tersebut ia menyertakan lokasi video, yaitu di Oges Beach Meranti Bay Pelalawan Regency. Lokasi Teluk Meranti, Kabupaten Pelalawan, Provinsi Riau. (Google Maps) Dikutip dari laman Media Center Pemerintah Provinsi Riau, Kepala Dinas Pariwisata Riau, Roni Rakhmat, mengatakan ombak bono terjadi ketika arus sungai dan arus laut beradu. Terdapat pertemuan tiga arus di mulut muara, yaitu dari Sungai Kampar, Selat Malaka, dan Laut China Selatan. Gelombang besar di sungai ini terjadi bersamaan dengan pasang naik dan pasang surut dengan ketinggian puncak gelombang mencapai 4-6 meter, yang umumnya bisa disaksikan pada Februari hingga Maret dan Oktober hingga Desember. \"Jadi kalau sekali datang, Bono akan muncul 2 kali dalam sebulan,\" kata Roni. Ombak bono menempuh jarak sejauh 50 hingga 60 kilometer menyisir sepanjang daerah aliran sungai (DAS) dengan kecepatan rata-rata 40 kilometer per jam. Ketinggian ombak akan semakin mengecil menjadi 70 sentimeter sampai satu meter apabila semakin jauh dari muara. Ombak bono dapat mecapai panjang 200 meter sampai dua kilometer mengikuti lebar sungainya, tidak seperti ombak besar di laut. Ombak besar setinggi empat sampai lima meter yang mirip dengan gelombang tsunami disertai dentuman keras dihasilkan oleh turbulensi. Ini terjadi ketika arus melewati celah yang makin menyempit dan dangkal dari DAS Kampar. Arus tersebut akan bergerak semakin cepat sehingga terjadi benturan besar karena bertemu dengan aliran sungai. Sekitar dua jam lamanya, bono akan terus menerjang sepanjang DAS dan semakin melemah saat jalur sungai membelok. Meskipun gelombang bono besar, tapi bukan dikategorikan sebagai tsunami. Dikutip dari laman Perserikatan Bangsa-bangsa, tsunami adalah serangkaian gelombang yang bergerak dengan panjang dan periode yang sangat panjang, biasanya disebabkan oleh gangguan yang terkait dengan gempa bumi yang terjadi di bawah atau di dekat dasar laut. Berdasarkan hasil pemeriksaan fakta, Tim Cek Fakta Tempo menyimpulkan bahwa video gelombang besar menghantam daratan\\xa0 sebagai tsunami adalah keliru. TIM CEK FAKTA TEMPO **Punya informasi atau klaim yang ingin Anda cek faktanya? Hubungi ChatBot kami. Anda juga bisa melayangkan kritik, keberatan, atau masukan untuk artikel Cek Fakta ini melalui email [email\\xa0protected]',\n",
       "  1],\n",
       " ['Istri Presiden Prancis Emmanuel Macron adalah Ayahnya yang Transgender',\n",
       "  'https://cekfakta.tempo.co/fakta/3478/keliru-istri-presiden-prancis-emmanuel-macron-adalah-ayahnya-yang-transgender',\n",
       "  '2025-03-13',\n",
       "  'Beberapa infografis beredar di Instagram [arsip] dan Facebook berisi klaim tentang istri Presiden Prancis Emmanuel Macron, Brigitte Macron atau née Trogneux. Brigitte disebut ayah Macron yang menjadi transgender.\\xa0\\xa0 Informasi tersebut bersumber dari seorang perempuan Amerika Serikat bernama Candace Owens. Salah satu data pendukung yang digunakan ialah perbedaan usia 24 tahun, dimana Brigitte jauh lebih tua dari Macron.  Namun, benarkah narasi yang mengatakan Brigitte adalah transgender dan ayah kandung sekaligus istri bagi Presiden Perancis? Tempo melakukan pemeriksaan fakta melalui sejumlah website dan organisasi pemeriksa fakta kredibel. Hasilnya tuduhan bahwa istri Presiden Prancis Emmanuel Macron adalah ayahnya yang transgender tidak berdasarkan bukti. Candace Owens yang menyebarkan informasi tersebut adalah warga Amerika Serikat pendukung\\xa0 Presiden AS Donald Trump. Di akun YouTube miliknya terdapat setidaknya delapan video yang masing-masing berdurasi 40 sampai 50 menit berjudul Becoming Brigitte. Tempo menyimak dua video di antaranya, yakni episode pembuka dan episode 4 yang menuduh Brigitte sebagai laki-laki di masa kecilnya dengan nama Jean Michel Trogneux. Dalam dua video itu, Owens bermonolog sepanjang video tanpa menampilkan wawancara atau dokumen valid yang membuktikan tuduhannya. Dokumen yang ditampilkan adalah kliping berita yang tak relevan dan gambar yang dia buat misalnya bagan keturunan keluarga Macron. Pemeriksa fakta di Prancis, AFP, menjelaskan, video-video hasil siaran langsung Owens itu tidak mengandung bukti apapun yang mendukung tuduhannya. Narasi yang mengatakan Brigitte transgender pertama kali muncul dari tulisan Natacha Rey (yang disebut sebagai jurnalis independen) yang diterbitkan di koran Faits et Documents tahun 2021. Media Prancis itu sesungguhnya berpihak pada kelompok yang melawan Macron dalam Pilpres Prancis tahun 2022. Tuduhan yang telah dibantah itu terus diproduksi oleh media tersebut pada tahun 2023, lalu digunakan oleh Owens pada 2024 dan 2025 muncul dengan format yang diklaim sebagai investigasi. AFP menyebut narasi itu sebagai hoaks asal Prancis yang kini didaur ulang di AS. Ayah dan ibu kandung Presiden Prancis Emmanuel Macron (kanan). Fakta ini membantah tuduhan bahwa istri Macron adalah ayah kandungnya yang transgender. (Getty Images) Narasi yang mengatakan Brigitte sesungguhnya ayah Macron, juga tak masuk akal. Wajah Brigitte dengan ayah-ibu Macron, Jean-Michel Macron dan Françoise Nogues (R), tampak berbeda. Ayah Macron, Jean, pun masih hidup sampai sekarang. Euronews dan France24 juga mengatakan bahwa narasi-narasi tersebut hoaks. Sementara Reuters pernah membantah narasi dan sebuah foto yang diklaim memperlihatkan Brigitte memiliki dada seperti pria, padahal foto itu hasil rekayasa. Di sisi lain, Media Matters menyatakan narasi itu menyebar begitu masif di YouTube dan TikTok dengan berjuta-juta penonton. Konten yang menyebarkannya tak hanya berupa video Owens, melainkan juga meme dan reaksi netizen atas klaim-klaim tersebut. Sebuah video di akun YouTube Hairy Mat D memperlihatkan Macron yang masih berusia 15 tahun tampil di panggung drama sebagai orang-orangan sawah. Selain Macron sebagai salah satu siswa, Brigitte juga terlibat dalam pertunjukan itu sebagai guru atau pelatih klub drama di sekolah tersebut. Saat itu usia Brigitte 39 tahun, serta sudah memiliki suami dan tiga anak yang usianya tak terpaut jauh dari Macron. Macron terpesona dengan Brigitte pada masa itu. Selain sering bersama dalam membahas pertunjukan drama, Macron kerap datang ke rumah Brigitte. Dilansir Daily Mail, putri Brigitte dengan suami pertamanya, Tiphaine Auzière, mengaku resah melihat hubungan antara ibunya yang masih bersuami kala itu dengan Macron yang masih remaja. Sampai beranjak dewasa, Tiphaine masih merasa terluka orang tua kandungnya sampai bercerai karena kehadiran Macron. Keduanya, Macron dan Brigitte, lahir dan saling berjumpa di Kota Amiens, Prancis. Macron kemudian dikirim orang tuanya ke Paris untuk melanjutkan pendidikan. Namun hal itu tak menghalanginya untuk terus berhubungan dengan Brigitte melalui telepon. Dalam salah satu kesempatan mereka bertelepon, saat Macron berusia 17 tahun, ia mengatakan \"aku akan menikahimu, apapun yang kau lakukan” pada Brigitte yang masih memiliki Andre-Louis Auziere sebagai suaminya. Mereka menikah tahun 2007, setelah Brigitte menceraikan suami pertamanya setahun sebelumnya. Awalnya Brigitte terus melakoni pekerjaannya sebagai pengajar literatur Prancis dan drama. Namun, akhirnya dia berhenti untuk fokus mendukung Macron mengejar karir politiknya. Verifikasi Tempo menyimpulkan bahwa narasi yang mengatakan Brigitte Macron, istri Presiden Prancis Emmanuel Macron, merupakan transgender sekaligus ayah dari Sang Presiden adalah klaim yang keliru. Brigitte adalah perempuan yang melahirkan tiga anak dari pernikahan dengan suami pertamanya. Narasi yang mengatakan dia transgender muncul di Prancis terbukti keliru dan yang diwarnai kepentingan politik, yang kemudian kini menyebar di AS. TIM CEK FAKTA TEMPO **Punya informasi atau klaim yang ingin Anda cek faktanya? Hubungi ChatBot kami. Anda juga bisa melayangkan kritik, keberatan, atau masukan untuk artikel Cek Fakta ini melalui email [email\\xa0protected]',\n",
       "  1]]"
      ]
     },
     "execution_count": 6,
     "metadata": {},
     "output_type": "execute_result"
    }
   ],
   "source": [
    "scraped"
   ]
  },
  {
   "cell_type": "code",
   "execution_count": 7,
   "metadata": {},
   "outputs": [],
   "source": [
    "write_to_csv(scraped, filename)"
   ]
  },
  {
   "cell_type": "code",
   "execution_count": 8,
   "metadata": {},
   "outputs": [
    {
     "name": "stdout",
     "output_type": "stream",
     "text": [
      "Data has been written to dataset_tempo.csv\n"
     ]
    }
   ],
   "source": [
    "process_raw(filename)"
   ]
  },
  {
   "cell_type": "code",
   "execution_count": 14,
   "metadata": {},
   "outputs": [
    {
     "name": "stdout",
     "output_type": "stream",
     "text": [
      "12/03/2025\n"
     ]
    }
   ],
   "source": [
    "from datetime import datetime, timedelta\n",
    "import requests\n",
    "from bs4 import BeautifulSoup\n",
    "import re\n",
    "\n",
    "yesterday = (datetime.today() - timedelta(days=1)).strftime('%d/%m/%Y')\n",
    "print(yesterday)\n"
   ]
  },
  {
   "cell_type": "code",
   "execution_count": 25,
   "metadata": {},
   "outputs": [],
   "source": [
    "base_url = 'https://www.kompas.com/cekfakta/hoaks-atau-fakta'\n",
    "today = datetime.today().strftime('%d/%m/%Y')\n",
    "data = []\n",
    "page = 1\n",
    "\n",
    "url = f\"{base_url}/{page}\" if page > 1 else base_url"
   ]
  },
  {
   "cell_type": "code",
   "execution_count": 26,
   "metadata": {},
   "outputs": [
    {
     "data": {
      "text/plain": [
       "'https://www.kompas.com/cekfakta/hoaks-atau-fakta'"
      ]
     },
     "execution_count": 26,
     "metadata": {},
     "output_type": "execute_result"
    }
   ],
   "source": [
    "url"
   ]
  },
  {
   "cell_type": "code",
   "execution_count": 27,
   "metadata": {},
   "outputs": [],
   "source": [
    "response = requests.get(url)\n",
    "soup = BeautifulSoup(response.text, 'html.parser')\n",
    "\n",
    "news_items = soup.find_all('a', class_='cekfakta-list-link')"
   ]
  },
  {
   "cell_type": "code",
   "execution_count": 28,
   "metadata": {},
   "outputs": [
    {
     "data": {
      "text/plain": [
       "[<a class=\"cekfakta-list-link\" href=\"https://www.kompas.com/cekfakta/read/2025/03/12/153800182/-hoaks-link-untuk-pencairan-thr-rp-2-75-juta-dari-pemerintah\">\n",
       " <p class=\"cekfakta-text-date\">12/03/2025, 15:38 WIB</p>\n",
       " <h1 class=\"cekfakta-list-title\">[HOAKS] Link untuk Pencairan THR Rp 2,75 Juta dari Pemerintah</h1>\n",
       " </a>,\n",
       " <a class=\"cekfakta-list-link\" href=\"https://www.kompas.com/cekfakta/read/2025/03/12/142800482/-klarifikasi-video-robot-optimus-lipat-baju-dinarasikan-keliru\">\n",
       " <p class=\"cekfakta-text-date\">12/03/2025, 14:28 WIB</p>\n",
       " <h1 class=\"cekfakta-list-title\">[KLARIFIKASI] Video Robot Optimus Lipat Baju Dinarasikan Keliru</h1>\n",
       " </a>,\n",
       " <a class=\"cekfakta-list-link\" href=\"https://www.kompas.com/cekfakta/read/2025/03/12/123523182/infografik-mobil-dirusak-massa-karena-pelaku-tabrak-lari-bukan-tidak\">\n",
       " <p class=\"cekfakta-text-date\">12/03/2025, 12:35 WIB</p>\n",
       " <h1 class=\"cekfakta-list-title\">INFOGRAFIK: Mobil Dirusak Massa karena Pelaku Tabrak Lari, Bukan Tidak Bayar Bensin</h1>\n",
       " </a>,\n",
       " <a class=\"cekfakta-list-link\" href=\"https://www.kompas.com/cekfakta/read/2025/03/12/111100882/-klarifikasi-foto-kate-middleton-hamil-anak-keempat-adalah-manipulasi\">\n",
       " <p class=\"cekfakta-text-date\">12/03/2025, 11:11 WIB</p>\n",
       " <h1 class=\"cekfakta-list-title\">[KLARIFIKASI] Foto Kate Middleton Hamil Anak Keempat adalah Manipulasi AI</h1>\n",
       " </a>,\n",
       " <a class=\"cekfakta-list-link\" href=\"https://www.kompas.com/cekfakta/read/2025/03/12/100100882/-hoaks-video-prabowo-umumkan-hukuman-mati-untuk-koruptor\">\n",
       " <p class=\"cekfakta-text-date\">12/03/2025, 10:01 WIB</p>\n",
       " <h1 class=\"cekfakta-list-title\">[HOAKS] Video Prabowo Umumkan Hukuman Mati untuk Koruptor</h1>\n",
       " </a>,\n",
       " <a class=\"cekfakta-list-link\" href=\"https://www.kompas.com/cekfakta/read/2025/03/12/084800782/-klarifikasi-kasus-antam-rugikan-negara-rp-3-3-triliun-bukan-rp-5-9\">\n",
       " <p class=\"cekfakta-text-date\">12/03/2025, 08:48 WIB</p>\n",
       " <h1 class=\"cekfakta-list-title\">[KLARIFIKASI] Kasus Antam Rugikan Negara Rp 3,3 Triliun, Bukan Rp 5,9 Kuadriliun</h1>\n",
       " </a>,\n",
       " <a class=\"cekfakta-list-link\" href=\"https://www.kompas.com/cekfakta/read/2025/03/11/185900482/infografik--foto-ratusan-beruang-memenuhi-jalan-di-missouri-adalah\">\n",
       " <p class=\"cekfakta-text-date\">11/03/2025, 18:59 WIB</p>\n",
       " <h1 class=\"cekfakta-list-title\">INFOGRAFIK: Foto Ratusan Beruang Memenuhi Jalan di Missouri adalah Manipulasi AI</h1>\n",
       " </a>,\n",
       " <a class=\"cekfakta-list-link\" href=\"https://www.kompas.com/cekfakta/read/2025/03/11/175100382/-hoaks-video-dirut-pertamina-patra-niaga-riva-siahaan-promosikan-situs\">\n",
       " <p class=\"cekfakta-text-date\">11/03/2025, 17:51 WIB</p>\n",
       " <h1 class=\"cekfakta-list-title\">[HOAKS] Video Dirut Pertamina Patra Niaga, Riva Siahaan Promosikan Situs Judi</h1>\n",
       " </a>,\n",
       " <a class=\"cekfakta-list-link\" href=\"https://www.kompas.com/cekfakta/read/2025/03/11/164500882/-klarifikasi-video-pria-dipenjara-karena-menabrak-bebek-adalah-lelucon\">\n",
       " <p class=\"cekfakta-text-date\">11/03/2025, 16:45 WIB</p>\n",
       " <h1 class=\"cekfakta-list-title\">[KLARIFIKASI] Video Pria Dipenjara karena Menabrak Bebek adalah Lelucon</h1>\n",
       " </a>,\n",
       " <a class=\"cekfakta-list-link\" href=\"https://www.kompas.com/cekfakta/read/2025/03/11/153900482/infografik--benarkah-kapal-misterius-jadi-bongkahan-es-di-antarktika-\">\n",
       " <p class=\"cekfakta-text-date\">11/03/2025, 15:39 WIB</p>\n",
       " <h1 class=\"cekfakta-list-title\">INFOGRAFIK: Benarkah Kapal Misterius Jadi Bongkahan Es di Antarktika?</h1>\n",
       " </a>,\n",
       " <a class=\"cekfakta-list-link\" href=\"https://www.kompas.com/cekfakta/read/2025/03/11/143200382/-klarifikasi-trump-tidak-mengakui-ada-kecurangan-pada-pilpres-as-2024\">\n",
       " <p class=\"cekfakta-text-date\">11/03/2025, 14:32 WIB</p>\n",
       " <h1 class=\"cekfakta-list-title\">[KLARIFIKASI] Trump Tidak Mengakui Ada Kecurangan pada Pilpres AS 2024</h1>\n",
       " </a>,\n",
       " <a class=\"cekfakta-list-link\" href=\"https://www.kompas.com/cekfakta/read/2025/03/11/132600482/-hoaks-program-umrah-gratis-dari-kemenag-tahun-2025\">\n",
       " <p class=\"cekfakta-text-date\">11/03/2025, 13:26 WIB</p>\n",
       " <h1 class=\"cekfakta-list-title\">[HOAKS] Program Umrah Gratis dari Kemenag Tahun 2025</h1>\n",
       " </a>,\n",
       " <a class=\"cekfakta-list-link\" href=\"https://www.kompas.com/cekfakta/read/2025/03/11/121800582/-hoaks-dosen-unair-jalani-sidang-pidana-karena-minta-mahasiswa-demo\">\n",
       " <p class=\"cekfakta-text-date\">11/03/2025, 12:18 WIB</p>\n",
       " <h1 class=\"cekfakta-list-title\">[HOAKS] Dosen Unair Jalani Sidang Pidana karena Minta Mahasiswa Demo</h1>\n",
       " </a>,\n",
       " <a class=\"cekfakta-list-link\" href=\"https://www.kompas.com/cekfakta/read/2025/03/11/111100582/-klarifikasi-link-ini-bukan-pendaftaran-mudik-gratis-kemenhub\">\n",
       " <p class=\"cekfakta-text-date\">11/03/2025, 11:11 WIB</p>\n",
       " <h1 class=\"cekfakta-list-title\">[KLARIFIKASI] Link Ini Bukan Pendaftaran Mudik Gratis Kemenhub</h1>\n",
       " </a>,\n",
       " <a class=\"cekfakta-list-link\" href=\"https://www.kompas.com/cekfakta/read/2025/03/11/100351682/hoaks-link-kompensasi-pertamina-rp-15-juta-mencatut-lbh\">\n",
       " <p class=\"cekfakta-text-date\">11/03/2025, 10:03 WIB</p>\n",
       " <h1 class=\"cekfakta-list-title\">[HOAKS] Link Kompensasi Pertamina Rp 1,5 juta Mencatut LBH</h1>\n",
       " </a>]"
      ]
     },
     "execution_count": 28,
     "metadata": {},
     "output_type": "execute_result"
    }
   ],
   "source": [
    "news_items"
   ]
  },
  {
   "cell_type": "code",
   "execution_count": 37,
   "metadata": {},
   "outputs": [],
   "source": [
    "data = []"
   ]
  },
  {
   "cell_type": "code",
   "execution_count": 38,
   "metadata": {},
   "outputs": [
    {
     "data": {
      "text/plain": [
       "'12/03/2025'"
      ]
     },
     "execution_count": 38,
     "metadata": {},
     "output_type": "execute_result"
    }
   ],
   "source": [
    "yesterday"
   ]
  },
  {
   "cell_type": "code",
   "execution_count": 39,
   "metadata": {},
   "outputs": [],
   "source": [
    "def extract_content(text):\n",
    "    text = text.lower()\n",
    "    start_phrases = [\"kompas.com -\", \".kompas.com\", \"kompas.com-\"]\n",
    "    start_pattern = \"|\".join(map(re.escape, start_phrases))\n",
    "    pattern = f\"({start_pattern})(.*)\"\n",
    "    match = re.search(pattern, text, re.DOTALL)\n",
    "    return match.group(2).strip() if match else text"
   ]
  },
  {
   "cell_type": "code",
   "execution_count": 42,
   "metadata": {},
   "outputs": [
    {
     "name": "stdout",
     "output_type": "stream",
     "text": [
      "12/03/2025\n",
      "[HOAKS] Link untuk Pencairan THR Rp 2,75 Juta dari Pemerintah\n",
      "12/03/2025\n",
      "[KLARIFIKASI] Video Robot Optimus Lipat Baju Dinarasikan Keliru\n",
      "12/03/2025\n",
      "INFOGRAFIK: Mobil Dirusak Massa karena Pelaku Tabrak Lari, Bukan Tidak Bayar Bensin\n",
      "12/03/2025\n",
      "[KLARIFIKASI] Foto Kate Middleton Hamil Anak Keempat adalah Manipulasi AI\n",
      "12/03/2025\n",
      "[HOAKS] Video Prabowo Umumkan Hukuman Mati untuk Koruptor\n",
      "12/03/2025\n",
      "[KLARIFIKASI] Kasus Antam Rugikan Negara Rp 3,3 Triliun, Bukan Rp 5,9 Kuadriliun\n",
      "11/03/2025\n"
     ]
    }
   ],
   "source": [
    "for item in news_items:\n",
    "    date_elem = item.find('p', class_='cekfakta-text-date')\n",
    "    date_str = date_elem.get_text(strip=True).split(',')[0]\n",
    "    print(date_str)\n",
    "    if date_str != yesterday:\n",
    "        break  # Stop if we find an older date\n",
    "    \n",
    "    found_today = True\n",
    "    title = item.find('h1').get_text(strip=True)\n",
    "    print(title)\n",
    "    link = item['href']\n",
    "\n",
    "    content_response = requests.get(link)\n",
    "    content_soup = BeautifulSoup(content_response.text, 'html.parser')\n",
    "    content_paragraphs = content_soup.find('div', class_='read__content').find_all('p')\n",
    "    content = ' '.join(p.get_text(strip=True) for p in content_paragraphs)\n",
    "    extracted_content = extract_content(content)\n",
    "    \n",
    "    data.append([title, link, date_str, extracted_content, 0])"
   ]
  },
  {
   "cell_type": "code",
   "execution_count": 43,
   "metadata": {},
   "outputs": [
    {
     "data": {
      "text/plain": [
       "[['[HOAKS] Link untuk Pencairan THR Rp 2,75 Juta dari Pemerintah',\n",
       "  'https://www.kompas.com/cekfakta/read/2025/03/12/153800182/-hoaks-link-untuk-pencairan-thr-rp-2-75-juta-dari-pemerintah',\n",
       "  '12/03/2025',\n",
       "  'tunjangan hari raya (thr) dinantikan setiap pekerja menjelang lebaran. hal ini menjadikan informasi mengenai thr menjadi perhatian masyarakat. beredarlinkatau tautan di media sosial yang diklaim sebagai akses pencairan thr dari pemerintah sebesar rp 2,75 juta per kartu keluarga (kk). klaim yang disampaikan, thr tersebut diberikan kepada seluruh masyarakat indonesia. namun setelah ditelusuri tim cek faktakompas.com,tautan yang disebarkan merupakanphishing. informasi mengenai pencairan thr sebesar rp 2,75 juta dari pemerintah disebarkan oleh akun facebookinidanini. berikut narasi yang ditulis salah satu akun pada rabu (12/3/2025): info bantuan thr 2025 silahkan dafta sekarang cara daftar silahkan klik link yang sudah di sediakan akun facebooktangkapan layar konten hoaks di sebuah akun facebook, rabu (12/3/2025), soal link pencairan thr sebesar rp 2,75 juta dari pemerintah kepada masyarakat indonesia. tautan yang beredar tidak mengarah ke situs web resmi pemerintah. tim cek faktakompas.commengecek tautan tersebut menggunakan url scan. toolstersebut dapat melacak laman dari suatu tautan tanpa perlu mengekliknya. hasil pelacakannya dapat dilihatdi sini. tautan tersebut mengarah ke sebuah laman yang meminta pengunjungnya mengisi nama lengkap sesuai ktp dan nomor ponsel yang terhubung dengan aplikasi perpesanan telegram. modus semacam itu berindikasiphishing,dengan memanfaatkan momen pembagian thr jelang lebaran. presiden prabowo subianto, pada selasa (11/3/2025), mengumumkan thr dan gaji ke-13 2025 yang akan diberikan kepada semua asn di pusat dan di daerah, termasuk pns, pegawai pemerintah dengan perjanjian kerja (pppk), prajurit tni dan polri, para hakim, serta para pensiunan. sebagaimana sudah diberitakankompas.com, ada total 9,4 juta penerima dengan anggaran sekitar rp 50 triliun. pemerintah juga memberikan sejumlah insentif untuk masyarakat jelang hari raya idul fitri 1446 hijriah.',\n",
       "  0],\n",
       " ['[KLARIFIKASI] Video Robot Optimus Lipat Baju Dinarasikan Keliru',\n",
       "  'https://www.kompas.com/cekfakta/read/2025/03/12/142800482/-klarifikasi-video-robot-optimus-lipat-baju-dinarasikan-keliru',\n",
       "  '12/03/2025',\n",
       "  'beredar sebuah video menampilkan robot optimus yang dikembangkan perusahaan otomotif tesla sedang melipat baju. robot itu diklaim akan menggantikan pekerjaan buruh pabrik. berdasarkan penelusuran tim cek faktakompas.com,video tersebut disebarkan dengan konteks keliru. video robot optimus milik tesla yang menggantikan pekerjaan buruh pabrik disebarkan oleh akun facebookini,ini, danini. berikut narasi yang ditulis salah satu akun pada 7 februari 2025: tesla pamerkan robot optimus nya untuk gantikan karyawan pabrik mendatang akun facebooktangkapan layar konten dengan konteks keliru di sebuah akun facebook, 7 februari 2025, soal robot optimus milik tesla yang menggantikan pekerjaan buruh pabrik. video yang beredar bersumber dari unggahanakun x ceo tesla, elon musk pada 16 januari 2024. elon musk menyebutkan bahwa robot optimus yang dikembangkan tesla bisa diperintah untuk melipat kaus. melaluiketerangan tambahandi unggahannya, elon musk memberi catatan bahwa robot optimus tersebut belum bisa melakukan pekerjaan tersebut secara mandiri. seperti diulaskompas.com, optimus merupakan robot humanoid yang dikembangkan tesla. robot optimus mampu melakukan beberapa tugas manusia, seperti membawa paket dari teras rumah dan menyiram tanaman di halaman. kendati demikian, sejauh ini belum ada informasi mengenai penggunaan robot optimus untuk menggantikan pekerjaan buruh di pabrik. video robot optimus milik tesla melipat baju disebarkan dengan konteks keliru. video itu diunggah cep tesla, elon musk melalui akun x-nya pada 2024. ia menjelaskan, robot yang dikembangkan tesla tersebut belum bisa melakukan pekerjaan secara mandiri. sejauh ini belum ditemukan bukti bahwa robot optimus digunakan untuk mengganti pekerjaan buruh di pabrik.',\n",
       "  0],\n",
       " ['INFOGRAFIK: Mobil Dirusak Massa karena Pelaku Tabrak Lari, Bukan Tidak Bayar Bensin',\n",
       "  'https://www.kompas.com/cekfakta/read/2025/03/12/123523182/infografik-mobil-dirusak-massa-karena-pelaku-tabrak-lari-bukan-tidak',\n",
       "  '12/03/2025',\n",
       "  'sebuah video yang beredar di media sosial menjadi perbincangan karena memperlihatkan sebuahmobil dirusak massasaat berada di stasiun pengisian bahan bakar umum (spbu). dalam video, terlihat mobil putih menjadi sasaran amuk massa dan dihancurkan dari arah depan dan samping. namun, video itu beredar dengan informasi yang keliru dan perlu diluruskan. narasi yang beredar menyatakan bahwa mobil dengan pelat ad itu dirusak massa di spbu karena pengemudi tidak mau membayar setelah isi bensin. setelah ditelusuri, massa merusak mobil itu karena pengemudi disebut sebagai pelakutabrak lari. peristiwa tabrak lari itu terjadi pada 14 oktober 2024 di kota solo, jawa tengah. pengemudi grand livina berinisial abp dilaporkan menabrak empat sepeda motor di solo dan sukoharjo. masyarakat yang melihat kemudian mengejar mobil pelaku. saat berhasil dihentikan di sebuah spbu, mobil itu kemudian menjadi sasaran amuk massa. simak penjelasan lengkapnya dalaminfografikberikut ini: a post shared by cek fakta kompascom (@cekfakta.kompascom)',\n",
       "  0],\n",
       " ['[KLARIFIKASI] Foto Kate Middleton Hamil Anak Keempat adalah Manipulasi AI',\n",
       "  'https://www.kompas.com/cekfakta/read/2025/03/12/111100882/-klarifikasi-foto-kate-middleton-hamil-anak-keempat-adalah-manipulasi',\n",
       "  '12/03/2025',\n",
       "  'kerajaan inggris diklaim mengumumkan kehamilan anak keempat kate middleton, yang juga bergelar princess of wales. informasi yang beredar di media sosial itu beredar disertai foto kate dan suaminya pangeran william. dalam foto, kate terlihat memakai gaun putih dan sedang hamil besar. berdasarkan penelusuran tim cek faktakompas.com,gambar yang beredar merupakan konten manipulatif. informasi mengenai kehamilan kate middleton disebarkan oleh akun facebookinipada 24 januari 2025. berikut narasi yang ditulis: pangeran william mengumumkan hamil kate middleton dengan anak keempat mereka dalam momen yang menyenangkan dan mengharukan, pangeran william telah berbagi berita monumental tentang istrinya, kate middleton, putri wales. setelah masa yang menantang yang ditandai dengan pertarungan pribadi kate melawan kanker, pasangan ini telah menerima berita luar biasa—kate sedang menunggu anak keempat mereka. pengumuman, dibuat dengan sukacita dan lega, dengan cepat menangkap hati para pemerhati kerajaan di seluruh dunia. narasi serupa juga beredar dalam bahasa inggris, seperti disebarkan oleh akun facebookini,ini, danini. akun facebooktangkapan layar konten manipulatif di sebuah akun facebook, 24 januari 2025, menampilkan kate middleton hamil anak keempat. foto yang beredar bukanlah bersumber dari kejadian nyata. tim cek faktakompas.commengeceknya denganhive moderation,toolspendeteksi akal imitasi atauartificial intelligence(ai) dalam suatu konten. hasilnya, gambar kate middleton hamil anak keempat memiliki probabilitas 99,9 persen dibuat dengan kecerdasan buatan. hive moderationtangkapan layar hive moderation menunjukkan kate middleton hamil anak keempat memiliki probabilitas 99,9 persen dibuat dengan kecerdasan buatan. dilansirpeople, istri pangeran william tersebut bergabung dengan keluarga kerajaan dan mengikuti ibadah perayaan hari persemakmuran pada senin (10/3/2025). dua tahun belakangan, kate menjalani pengobatan kanker. perempuan berusia 43 tahun itu akhirnya keluar dari istana dan tampil di hadapan publik dengan gaun merah. berdasarkan foto-foto yang beredar, kate tampak normal. ia tidak sedang hamil besar. a post shared by entertainment tonight (@entertainmenttonight) gambar mengenai kate middleton hamil anak keempat merupakan konten manipulatif. adapun gambar tersebut dibuat denganartificial intelligence  kate tampil ke hadapan publik saat ibadah perayaan hari persemakmuran pada senin (10/3/2025). ia tampak normal dan tidak sedang hamil besar.',\n",
       "  0],\n",
       " ['[HOAKS] Video Prabowo Umumkan Hukuman Mati untuk Koruptor',\n",
       "  'https://www.kompas.com/cekfakta/read/2025/03/12/100100882/-hoaks-video-prabowo-umumkan-hukuman-mati-untuk-koruptor',\n",
       "  '12/03/2025',\n",
       "  'di media sosial beredar konten yang mengeklaim presiden prabowo subianto mengumumkan hukuman mati untuk koruptor. berdasarkan penelusuran tim cek faktakompas.com,konten tersebut hoaks dan perlu diluruskan informasinya. konten yang mengeklaim prabowo mengumumkan hukuman mati untuk koruptor dibagikan oleh akun facebookini,ini,ini, daninipada senin (10/3/2025). berikut narasi yang dibagikan: hukuman mati untuk koruptor! prabowo ledakkan bom kebijakan, pejabat panik! suasana di istana negara mendadak mencekam saat presiden prabowo subianto mengumumkan kebijakan paling kontroversial dalam sejarah pemberantasan korupsi di indonesia. dengan suara baritonnya yang tegas, ia menyatakan bahwa mulai hari ini, siapa pun yang terbukti mencuri uang negara bahkan hanya rp1 akan menghadapi hukuman mati. pernyataan tersebut langsung meledak seperti dinamit di tengah ruang konferensi yang dipenuhi pejabat dan jurnalis. narasi itu disertai video yang menampilkan prabowo berpidato. berikut isi pidatonya: \"saya akan melawan korupsi dengan sekeras-kerasnya dan dengan segala tenaga dan upaya yang bisa saya kerahkan, tanpa pandang bulu.\" screenshothoaks, prabowo umumkan hukuman mati untuk koruptor setelah ditelusuri, pernyataan prabowo tersebut disampaikan saat berpidato pada peluncuran danantara di istana merdeka, jakarta pusat, 24 februari 2025. klip pernyataan tersebut dibagikan oleh akun facebook resmitvri nasional(terverifikasi). prabowo tidak mengumumkan hukuman mati untuk koruptor. dia hanya menyampaikan komitmennya untuk bertindak tegas dalam memberantas korupsi. sejauh ini, tidak ditemukan pemberitaan kredibel mengenai prabowo mengesahkan atau mengumumkan pemberlakuan hukuman mati untuk koruptor. sebagaimana diberitakankompas.com, prabowo berkomitmen menerapkan manajemen bebas korupsi dalam pengelolaan badan pengelola investasi daya anagata nusantara (bpi danantara).',\n",
       "  0],\n",
       " ['[KLARIFIKASI] Kasus Antam Rugikan Negara Rp 3,3 Triliun, Bukan Rp 5,9 Kuadriliun',\n",
       "  'https://www.kompas.com/cekfakta/read/2025/03/12/084800782/-klarifikasi-kasus-antam-rugikan-negara-rp-3-3-triliun-bukan-rp-5-9',\n",
       "  '12/03/2025',\n",
       "  'pt aneka tambang tbk atau antam disebut telah menyebabkan kerugian negara mencapai rp 5,9 kuadriliun. narasi itu beredar ketika perhatian masyarakat terarah pada kasus cap emas ilegal melibatkan eks karyawan antam. berdasarkan penelusuran dan konfirmasi tim cek faktakompas.com,narasi yang beredar merupakan informasi keliru. informasi yang menyebutkan pt antam merugikan negara hingga rp 5,9 kuadriliun disebarkan oleh akun facebookini,ini,ini, danini. berikut narasi yang ditulis salah satu akun pada senin (10/3/2025): akhirnya posisi klasemen teratas pertamina digantikan oleh pt antam,, 5,9 kuadriliun akun facebooktangkapan layar konten dengan konteks keliru di sebuah akun facebook, senin (10/3/2025), yang menyebutkan pt antam merugikan negara hingga rp 5,9 kuadriliun. kepala pusat penerangan hukum kejaksaan agung, harly siregar meluruskan bahwa jumlah kerugian akibat kasus cap emas ilegal pt antam yang beredar di media sosial keliru. \"kita tidak pernah sampaikan kerugian negara sebesar itu dalam penanganan perkara di antam,\" ujar harly saat dihubungikompas.com,selasa (11/3/2025). dilansirkompas.com, pengadilan tindak pidana korupsi menggelar sidang lanjutan kasus cap emas ilegal pt antam pada senin (10/3/2025). pengadilan negeri jakarta pusat menyebutkan, ada tiga perkara yang akan disidangkan untuk terdakwa pelanggan cap emas ilegal. kerugian negara akibat kasus cap emas ilegal pt antam mengakibatkan kerugian negara mencapai rp 3,3 triliun. sebelumnya, kejaksaan agung (kejagung) telah menetapkan enam tersangka kasus korupsi tata kelola komoditas emas pt antam periode tahun 2010-2021. sebagaimana sudah dituliskompas.com, mereka diduga memproduksi logam mulia merek lm antam sebanyak 109 ton. meski emasnya asli tetapi perolehannya ilegal. seperti dari tambang ilegal atau dari luar negeri. narasi yang menyebutkan pt antam merugikan negara hingga rp 5,9 kuadriliun merupakan keliru. dalam penanganan perkara pt antam, kejagung meluruskan, jumlahnya tidak sebesar itu. kasus cap emas ilegal pt antam mengakibatkan kerugian negara mencapai rp 3,3 triliun.',\n",
       "  0]]"
      ]
     },
     "execution_count": 43,
     "metadata": {},
     "output_type": "execute_result"
    }
   ],
   "source": [
    "data"
   ]
  },
  {
   "cell_type": "code",
   "execution_count": null,
   "metadata": {},
   "outputs": [],
   "source": []
  },
  {
   "cell_type": "code",
   "execution_count": null,
   "metadata": {},
   "outputs": [],
   "source": []
  }
 ],
 "metadata": {
  "kernelspec": {
   "display_name": "Python 3",
   "language": "python",
   "name": "python3"
  },
  "language_info": {
   "codemirror_mode": {
    "name": "ipython",
    "version": 3
   },
   "file_extension": ".py",
   "mimetype": "text/x-python",
   "name": "python",
   "nbconvert_exporter": "python",
   "pygments_lexer": "ipython3",
   "version": "3.12.6"
  }
 },
 "nbformat": 4,
 "nbformat_minor": 2
}
